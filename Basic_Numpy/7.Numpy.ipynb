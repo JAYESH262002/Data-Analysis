{
 "cells": [
  {
   "cell_type": "code",
   "execution_count": 1,
   "id": "8ded682b",
   "metadata": {},
   "outputs": [],
   "source": [
    "import numpy as np"
   ]
  },
  {
   "cell_type": "markdown",
   "id": "813ff820",
   "metadata": {},
   "source": [
    "# Datatypes & Attributes"
   ]
  },
  {
   "cell_type": "markdown",
   "id": "c702d889",
   "metadata": {},
   "source": [
    "Numpy's main datatypes is ndaaray"
   ]
  },
  {
   "cell_type": "code",
   "execution_count": 2,
   "id": "e96e3150",
   "metadata": {},
   "outputs": [
    {
     "data": {
      "text/plain": [
       "array([1, 2, 3, 4])"
      ]
     },
     "execution_count": 2,
     "metadata": {},
     "output_type": "execute_result"
    }
   ],
   "source": [
    "arr1=np.array([1,2,3,4])\n",
    "arr1"
   ]
  },
  {
   "cell_type": "code",
   "execution_count": 3,
   "id": "46ce193e",
   "metadata": {},
   "outputs": [],
   "source": [
    "arr2=np.array([[1,2,3], [6,5,4]])"
   ]
  },
  {
   "cell_type": "code",
   "execution_count": 4,
   "id": "e704835a",
   "metadata": {},
   "outputs": [
    {
     "data": {
      "text/plain": [
       "array([[1, 2, 3],\n",
       "       [6, 5, 4]])"
      ]
     },
     "execution_count": 4,
     "metadata": {},
     "output_type": "execute_result"
    }
   ],
   "source": [
    "arr2"
   ]
  },
  {
   "cell_type": "code",
   "execution_count": 5,
   "id": "d3b162ae",
   "metadata": {},
   "outputs": [
    {
     "data": {
      "text/plain": [
       "array([[[1, 2, 3],\n",
       "        [2, 3, 4],\n",
       "        [3, 4, 5]]])"
      ]
     },
     "execution_count": 5,
     "metadata": {},
     "output_type": "execute_result"
    }
   ],
   "source": [
    "arr3=np.array([[[1,2,3], [2,3,4],[3,4,5]]])\n",
    "arr3"
   ]
  },
  {
   "cell_type": "code",
   "execution_count": 6,
   "id": "c26519b5",
   "metadata": {},
   "outputs": [
    {
     "data": {
      "text/plain": [
       "(dtype('int32'), dtype('int32'), dtype('int32'))"
      ]
     },
     "execution_count": 6,
     "metadata": {},
     "output_type": "execute_result"
    }
   ],
   "source": [
    "arr1.dtype, arr2.dtype, arr3.dtype"
   ]
  },
  {
   "cell_type": "code",
   "execution_count": 7,
   "id": "a915d830",
   "metadata": {},
   "outputs": [
    {
     "data": {
      "text/plain": [
       "(1, 2, 3)"
      ]
     },
     "execution_count": 7,
     "metadata": {},
     "output_type": "execute_result"
    }
   ],
   "source": [
    "arr1.ndim, arr2.ndim, arr3.ndim"
   ]
  },
  {
   "cell_type": "code",
   "execution_count": 8,
   "id": "5200e10c",
   "metadata": {},
   "outputs": [
    {
     "data": {
      "text/plain": [
       "(4, 6, 9)"
      ]
     },
     "execution_count": 8,
     "metadata": {},
     "output_type": "execute_result"
    }
   ],
   "source": [
    "arr1.size, arr2.size, arr3.size"
   ]
  },
  {
   "cell_type": "code",
   "execution_count": 9,
   "id": "5d58d5d0",
   "metadata": {},
   "outputs": [
    {
     "data": {
      "text/plain": [
       "(numpy.ndarray, numpy.ndarray, numpy.ndarray)"
      ]
     },
     "execution_count": 9,
     "metadata": {},
     "output_type": "execute_result"
    }
   ],
   "source": [
    "type(arr1), type(arr2), type(arr3)"
   ]
  },
  {
   "cell_type": "code",
   "execution_count": 10,
   "id": "d2ca5a6c",
   "metadata": {},
   "outputs": [],
   "source": [
    "import pandas as pd"
   ]
  },
  {
   "cell_type": "code",
   "execution_count": 11,
   "id": "dc828b6b",
   "metadata": {
    "scrolled": true
   },
   "outputs": [
    {
     "data": {
      "text/html": [
       "<div>\n",
       "<style scoped>\n",
       "    .dataframe tbody tr th:only-of-type {\n",
       "        vertical-align: middle;\n",
       "    }\n",
       "\n",
       "    .dataframe tbody tr th {\n",
       "        vertical-align: top;\n",
       "    }\n",
       "\n",
       "    .dataframe thead th {\n",
       "        text-align: right;\n",
       "    }\n",
       "</style>\n",
       "<table border=\"1\" class=\"dataframe\">\n",
       "  <thead>\n",
       "    <tr style=\"text-align: right;\">\n",
       "      <th></th>\n",
       "      <th>0</th>\n",
       "      <th>1</th>\n",
       "      <th>2</th>\n",
       "    </tr>\n",
       "  </thead>\n",
       "  <tbody>\n",
       "    <tr>\n",
       "      <th>0</th>\n",
       "      <td>1</td>\n",
       "      <td>2</td>\n",
       "      <td>3</td>\n",
       "    </tr>\n",
       "    <tr>\n",
       "      <th>1</th>\n",
       "      <td>6</td>\n",
       "      <td>5</td>\n",
       "      <td>4</td>\n",
       "    </tr>\n",
       "  </tbody>\n",
       "</table>\n",
       "</div>"
      ],
      "text/plain": [
       "   0  1  2\n",
       "0  1  2  3\n",
       "1  6  5  4"
      ]
     },
     "execution_count": 11,
     "metadata": {},
     "output_type": "execute_result"
    }
   ],
   "source": [
    "df=pd.DataFrame(arr2)\n",
    "df"
   ]
  },
  {
   "cell_type": "code",
   "execution_count": 12,
   "id": "b17b8cac",
   "metadata": {},
   "outputs": [
    {
     "data": {
      "text/plain": [
       "<AxesSubplot:>"
      ]
     },
     "execution_count": 12,
     "metadata": {},
     "output_type": "execute_result"
    },
    {
     "data": {
      "image/png": "[encoded data removed]",
      "text/plain": [
       "<Figure size 432x288 with 1 Axes>"
      ]
     },
     "metadata": {
      "needs_background": "light"
     },
     "output_type": "display_data"
    }
   ],
   "source": [
    "df.plot()"
   ]
  },
  {
   "cell_type": "markdown",
   "id": "47399397",
   "metadata": {},
   "source": [
    "# Creating ndarray"
   ]
  },
  {
   "cell_type": "markdown",
   "id": "df19270c",
   "metadata": {},
   "source": [
    "## np.arange(num)"
   ]
  },
  {
   "cell_type": "code",
   "execution_count": 13,
   "id": "d57e9f7a",
   "metadata": {},
   "outputs": [
    {
     "data": {
      "text/plain": [
       "array([ 0,  1,  2,  3,  4,  5,  6,  7,  8,  9, 10, 11, 12, 13, 14])"
      ]
     },
     "execution_count": 13,
     "metadata": {},
     "output_type": "execute_result"
    }
   ],
   "source": [
    "arr = np.arange(15)\n",
    "arr"
   ]
  },
  {
   "cell_type": "markdown",
   "id": "85a0e790",
   "metadata": {},
   "source": [
    "## np.random.randint(low, high, size=() )"
   ]
  },
  {
   "cell_type": "code",
   "execution_count": 14,
   "id": "03ee1096",
   "metadata": {},
   "outputs": [
    {
     "data": {
      "text/plain": [
       "array([[7, 8, 5, 7, 9],\n",
       "       [6, 5, 5, 5, 5],\n",
       "       [6, 8, 6, 7, 8]])"
      ]
     },
     "execution_count": 14,
     "metadata": {},
     "output_type": "execute_result"
    }
   ],
   "source": [
    "arr = np.random.randint(5, 10, size=(3,5))\n",
    "arr"
   ]
  },
  {
   "cell_type": "markdown",
   "id": "bac637fb",
   "metadata": {},
   "source": [
    "np.random.randint(5, 10, size=(3,5)) -> created a 2d array of size(3,5) & filled random value from specified range"
   ]
  },
  {
   "cell_type": "markdown",
   "id": "ce302e3e",
   "metadata": {},
   "source": [
    "## np.zeros([size])"
   ]
  },
  {
   "cell_type": "code",
   "execution_count": 15,
   "id": "09829f7d",
   "metadata": {},
   "outputs": [
    {
     "data": {
      "text/plain": [
       "array([[0., 0., 0., 0.],\n",
       "       [0., 0., 0., 0.]])"
      ]
     },
     "execution_count": 15,
     "metadata": {},
     "output_type": "execute_result"
    }
   ],
   "source": [
    "zero = np.zeros([2,4])\n",
    "zero"
   ]
  },
  {
   "cell_type": "markdown",
   "id": "742ec2ea",
   "metadata": {},
   "source": [
    "## np.ones([size])"
   ]
  },
  {
   "cell_type": "code",
   "execution_count": 16,
   "id": "1a6b80af",
   "metadata": {},
   "outputs": [
    {
     "data": {
      "text/plain": [
       "array([[1., 1., 1.],\n",
       "       [1., 1., 1.],\n",
       "       [1., 1., 1.]])"
      ]
     },
     "execution_count": 16,
     "metadata": {},
     "output_type": "execute_result"
    }
   ],
   "source": [
    "one = np.ones([3,3])\n",
    "one"
   ]
  },
  {
   "cell_type": "markdown",
   "id": "5f74eef4",
   "metadata": {},
   "source": [
    "## .ravel() ->converte 2D array to 1D"
   ]
  },
  {
   "cell_type": "code",
   "execution_count": 17,
   "id": "cc3ed7c4",
   "metadata": {},
   "outputs": [
    {
     "data": {
      "text/plain": [
       "array([1., 1., 1., 1., 1., 1., 1., 1., 1.])"
      ]
     },
     "execution_count": 17,
     "metadata": {},
     "output_type": "execute_result"
    }
   ],
   "source": [
    "oneD = one.ravel()\n",
    "oneD"
   ]
  },
  {
   "cell_type": "markdown",
   "id": "8e4babb0",
   "metadata": {},
   "source": [
    "## .reshape(size)"
   ]
  },
  {
   "cell_type": "code",
   "execution_count": 18,
   "id": "47034354",
   "metadata": {},
   "outputs": [
    {
     "data": {
      "text/plain": [
       "array([[1., 1., 1.],\n",
       "       [1., 1., 1.],\n",
       "       [1., 1., 1.]])"
      ]
     },
     "execution_count": 18,
     "metadata": {},
     "output_type": "execute_result"
    }
   ],
   "source": [
    "one2 = oneD.reshape((3,3))\n",
    "one2"
   ]
  },
  {
   "cell_type": "markdown",
   "id": "f5467bbb",
   "metadata": {},
   "source": [
    "## np.random.seed(num) -> will give same random num over & over "
   ]
  },
  {
   "cell_type": "code",
   "execution_count": 19,
   "id": "4637f901",
   "metadata": {},
   "outputs": [
    {
     "data": {
      "text/plain": [
       "array([[18,  7, 10,  5],\n",
       "       [ 9,  7, 17, 11],\n",
       "       [16, 19, 18, 17]])"
      ]
     },
     "execution_count": 19,
     "metadata": {},
     "output_type": "execute_result"
    }
   ],
   "source": [
    "random = np.random.randint(5,20 , size=(3,4))\n",
    "random"
   ]
  },
  {
   "cell_type": "markdown",
   "id": "9e3e61fe",
   "metadata": {},
   "source": [
    "if we run upper cell again, again we will get diff value but"
   ]
  },
  {
   "cell_type": "code",
   "execution_count": 20,
   "id": "032a18ee",
   "metadata": {},
   "outputs": [
    {
     "data": {
      "text/plain": [
       "array([[17, 10,  5,  8],\n",
       "       [16,  8, 12, 14],\n",
       "       [ 8, 10,  7,  9]])"
      ]
     },
     "execution_count": 20,
     "metadata": {},
     "output_type": "execute_result"
    }
   ],
   "source": [
    "np.random.seed(0)\n",
    "random2 = np.random.randint(5, 20, size=(3,4))\n",
    "random2"
   ]
  },
  {
   "cell_type": "markdown",
   "id": "d9ac04da",
   "metadata": {},
   "source": [
    " u will notice, that after running this cell multiple times, we getting the same value of random, but in case upper cell its not true"
   ]
  },
  {
   "cell_type": "markdown",
   "id": "b8bac41d",
   "metadata": {},
   "source": [
    "# Viewing array & matrices "
   ]
  },
  {
   "cell_type": "code",
   "execution_count": 21,
   "id": "33907803",
   "metadata": {},
   "outputs": [
    {
     "data": {
      "text/plain": [
       "array([1, 2, 3, 4])"
      ]
     },
     "execution_count": 21,
     "metadata": {},
     "output_type": "execute_result"
    }
   ],
   "source": [
    "arr1"
   ]
  },
  {
   "cell_type": "code",
   "execution_count": 22,
   "id": "0a51a6bd",
   "metadata": {},
   "outputs": [
    {
     "data": {
      "text/plain": [
       "array([1, 2, 3])"
      ]
     },
     "execution_count": 22,
     "metadata": {},
     "output_type": "execute_result"
    }
   ],
   "source": [
    "arr1[0:3]"
   ]
  },
  {
   "cell_type": "code",
   "execution_count": 23,
   "id": "01df7054",
   "metadata": {
    "scrolled": true
   },
   "outputs": [
    {
     "data": {
      "text/plain": [
       "array([[1, 2, 3],\n",
       "       [6, 5, 4]])"
      ]
     },
     "execution_count": 23,
     "metadata": {},
     "output_type": "execute_result"
    }
   ],
   "source": [
    "arr2"
   ]
  },
  {
   "cell_type": "code",
   "execution_count": 24,
   "id": "463f9686",
   "metadata": {},
   "outputs": [
    {
     "data": {
      "text/plain": [
       "array([6, 5, 4])"
      ]
     },
     "execution_count": 24,
     "metadata": {},
     "output_type": "execute_result"
    }
   ],
   "source": [
    "arr2[1]"
   ]
  },
  {
   "cell_type": "code",
   "execution_count": 25,
   "id": "053c36f2",
   "metadata": {},
   "outputs": [
    {
     "data": {
      "text/plain": [
       "array([3, 4, 5])"
      ]
     },
     "execution_count": 25,
     "metadata": {},
     "output_type": "execute_result"
    }
   ],
   "source": [
    "arr3[0, 2]"
   ]
  },
  {
   "cell_type": "code",
   "execution_count": 26,
   "id": "fcc2f05a",
   "metadata": {
    "scrolled": true
   },
   "outputs": [
    {
     "data": {
      "text/plain": [
       "array([[[1, 2, 3],\n",
       "        [2, 3, 4],\n",
       "        [3, 4, 5]]])"
      ]
     },
     "execution_count": 26,
     "metadata": {},
     "output_type": "execute_result"
    }
   ],
   "source": [
    "arr3"
   ]
  },
  {
   "cell_type": "markdown",
   "id": "9a51dea5",
   "metadata": {},
   "source": [
    "## Manipulation & comparing data"
   ]
  },
  {
   "cell_type": "code",
   "execution_count": 27,
   "id": "906b92d4",
   "metadata": {},
   "outputs": [
    {
     "data": {
      "text/plain": [
       "array([1, 2, 3, 4])"
      ]
     },
     "execution_count": 27,
     "metadata": {},
     "output_type": "execute_result"
    }
   ],
   "source": [
    "arr1"
   ]
  },
  {
   "cell_type": "code",
   "execution_count": 28,
   "id": "d37405ab",
   "metadata": {},
   "outputs": [
    {
     "data": {
      "text/plain": [
       "array([33, 16, 34, 34])"
      ]
     },
     "execution_count": 28,
     "metadata": {},
     "output_type": "execute_result"
    }
   ],
   "source": [
    "arr1_2 = np.random.randint(10,50 , size=(4))\n",
    "arr1_2"
   ]
  },
  {
   "cell_type": "markdown",
   "id": "10ce8afb",
   "metadata": {},
   "source": [
    "## Arithmetic "
   ]
  },
  {
   "cell_type": "code",
   "execution_count": 29,
   "id": "7ef6025d",
   "metadata": {},
   "outputs": [
    {
     "data": {
      "text/plain": [
       "array([34, 18, 37, 38])"
      ]
     },
     "execution_count": 29,
     "metadata": {},
     "output_type": "execute_result"
    }
   ],
   "source": [
    "arr1 + arr1_2"
   ]
  },
  {
   "cell_type": "code",
   "execution_count": 30,
   "id": "5a4cb4c5",
   "metadata": {},
   "outputs": [
    {
     "data": {
      "text/plain": [
       "array([-32, -14, -31, -30])"
      ]
     },
     "execution_count": 30,
     "metadata": {},
     "output_type": "execute_result"
    }
   ],
   "source": [
    "arr1 - arr1_2"
   ]
  },
  {
   "cell_type": "code",
   "execution_count": 31,
   "id": "74fe6fc9",
   "metadata": {},
   "outputs": [
    {
     "data": {
      "text/plain": [
       "array([ 33,  32, 102, 136])"
      ]
     },
     "execution_count": 31,
     "metadata": {},
     "output_type": "execute_result"
    }
   ],
   "source": [
    "arr1 *arr1_2"
   ]
  },
  {
   "cell_type": "code",
   "execution_count": 32,
   "id": "01e2f7f0",
   "metadata": {},
   "outputs": [
    {
     "data": {
      "text/plain": [
       "array([0.03030303, 0.125     , 0.08823529, 0.11764706])"
      ]
     },
     "execution_count": 32,
     "metadata": {},
     "output_type": "execute_result"
    }
   ],
   "source": [
    "arr1 / arr1_2"
   ]
  },
  {
   "cell_type": "markdown",
   "id": "7551bb54",
   "metadata": {},
   "source": [
    "## Aggregation\n",
    "####   -> performing same operation on a number of things"
   ]
  },
  {
   "cell_type": "markdown",
   "id": "58925e88",
   "metadata": {},
   "source": [
    "-> use Python's  methods (sum`()`) on python datatype\n",
    "\n",
    "-> use Numpy's methods np.sum`()`"
   ]
  },
  {
   "cell_type": "code",
   "execution_count": 33,
   "id": "76cf186b",
   "metadata": {},
   "outputs": [
    {
     "data": {
      "text/plain": [
       "1000"
      ]
     },
     "execution_count": 33,
     "metadata": {},
     "output_type": "execute_result"
    }
   ],
   "source": [
    "large = np.random.rand(1000)\n",
    "large.size"
   ]
  },
  {
   "cell_type": "markdown",
   "id": "64666104",
   "metadata": {},
   "source": [
    "## %timeit method() \n",
    "#### -> will give tme taken by method(function) to complete the task"
   ]
  },
  {
   "cell_type": "code",
   "execution_count": 34,
   "id": "68678237",
   "metadata": {},
   "outputs": [
    {
     "name": "stdout",
     "output_type": "stream",
     "text": [
      "91.5 µs ± 229 ns per loop (mean ± std. dev. of 7 runs, 10,000 loops each)\n",
      "4.6 µs ± 20.4 ns per loop (mean ± std. dev. of 7 runs, 100,000 loops each)\n"
     ]
    }
   ],
   "source": [
    "%timeit sum(large)\n",
    "%timeit np.sum(large)"
   ]
  },
  {
   "cell_type": "markdown",
   "id": "978d8c21",
   "metadata": {},
   "source": [
    "here np.sum() is 20x faster than python sum() function, in this case"
   ]
  },
  {
   "cell_type": "code",
   "execution_count": 35,
   "id": "5ed8f488",
   "metadata": {},
   "outputs": [
    {
     "data": {
      "text/plain": [
       "array([[1, 2, 3],\n",
       "       [6, 5, 4]])"
      ]
     },
     "execution_count": 35,
     "metadata": {},
     "output_type": "execute_result"
    }
   ],
   "source": [
    "arr2"
   ]
  },
  {
   "cell_type": "code",
   "execution_count": 36,
   "id": "2ca32758",
   "metadata": {},
   "outputs": [
    {
     "data": {
      "text/plain": [
       "3.5"
      ]
     },
     "execution_count": 36,
     "metadata": {},
     "output_type": "execute_result"
    }
   ],
   "source": [
    "np.mean(arr2)"
   ]
  },
  {
   "cell_type": "markdown",
   "id": "daf23eba",
   "metadata": {},
   "source": [
    "### Variance\n",
    "##### mean_value - number"
   ]
  },
  {
   "cell_type": "code",
   "execution_count": 37,
   "id": "b2b92525",
   "metadata": {},
   "outputs": [
    {
     "data": {
      "text/plain": [
       "2.9166666666666665"
      ]
     },
     "execution_count": 37,
     "metadata": {},
     "output_type": "execute_result"
    }
   ],
   "source": [
    "var =np.var(arr2)\n",
    "var"
   ]
  },
  {
   "cell_type": "markdown",
   "id": "83fbc01f",
   "metadata": {},
   "source": [
    "### Standard Deviation: sqrt(varince)"
   ]
  },
  {
   "cell_type": "code",
   "execution_count": 38,
   "id": "f246d340",
   "metadata": {},
   "outputs": [
    {
     "data": {
      "text/plain": [
       "1.707825127659933"
      ]
     },
     "execution_count": 38,
     "metadata": {},
     "output_type": "execute_result"
    }
   ],
   "source": [
    "np.std(arr2)"
   ]
  },
  {
   "cell_type": "code",
   "execution_count": 39,
   "id": "a6b428c4",
   "metadata": {},
   "outputs": [
    {
     "data": {
      "text/plain": [
       "1.707825127659933"
      ]
     },
     "execution_count": 39,
     "metadata": {},
     "output_type": "execute_result"
    }
   ],
   "source": [
    "std = np.sqrt(var)\n",
    "std"
   ]
  },
  {
   "cell_type": "markdown",
   "id": "4f5a14cb",
   "metadata": {},
   "source": [
    "### %matplotlib inline\n",
    "### import matplotlib.pyplot as plt"
   ]
  },
  {
   "cell_type": "code",
   "execution_count": 40,
   "id": "801cab7e",
   "metadata": {},
   "outputs": [
    {
     "data": {
      "text/plain": [
       "(array([0., 0., 0., 0., 0., 1., 0., 0., 0., 0.]),\n",
       " array([2.41666667, 2.51666667, 2.61666667, 2.71666667, 2.81666667,\n",
       "        2.91666667, 3.01666667, 3.11666667, 3.21666667, 3.31666667,\n",
       "        3.41666667]),\n",
       " <BarContainer object of 10 artists>)"
      ]
     },
     "execution_count": 40,
     "metadata": {},
     "output_type": "execute_result"
    },
    {
     "data": {
      "image/png": "[encoded data removed]",
      "text/plain": [
       "<Figure size 432x288 with 1 Axes>"
      ]
     },
     "metadata": {
      "needs_background": "light"
     },
     "output_type": "display_data"
    }
   ],
   "source": [
    "%matplotlib inline\n",
    "import matplotlib.pyplot as plt\n",
    "plt.hist(var)"
   ]
  },
  {
   "cell_type": "code",
   "execution_count": 41,
   "id": "2ddea3de",
   "metadata": {},
   "outputs": [
    {
     "data": {
      "text/plain": [
       "array([3, 0, 8, 8, 1, 8, 7, 5, 7, 9, 4, 0, 7, 2, 3, 9, 5, 4, 0, 4])"
      ]
     },
     "execution_count": 41,
     "metadata": {},
     "output_type": "execute_result"
    }
   ],
   "source": [
    "small = np.random.randint(10, size=(20))\n",
    "small"
   ]
  },
  {
   "cell_type": "code",
   "execution_count": 42,
   "id": "31425604",
   "metadata": {
    "scrolled": true
   },
   "outputs": [
    {
     "data": {
      "text/plain": [
       "[<matplotlib.lines.Line2D at 0x2a1e835f850>]"
      ]
     },
     "execution_count": 42,
     "metadata": {},
     "output_type": "execute_result"
    },
    {
     "data": {
      "image/png": "[encoded data removed]",
      "text/plain": [
       "<Figure size 432x288 with 1 Axes>"
      ]
     },
     "metadata": {
      "needs_background": "light"
     },
     "output_type": "display_data"
    }
   ],
   "source": [
    "plt.plot(small)"
   ]
  },
  {
   "cell_type": "markdown",
   "id": "0eef80dc",
   "metadata": {},
   "source": [
    "## Transpossing & Traverssal"
   ]
  },
  {
   "cell_type": "code",
   "execution_count": 43,
   "id": "c86f3d73",
   "metadata": {},
   "outputs": [
    {
     "data": {
      "text/plain": [
       "array([[1, 2, 3],\n",
       "       [6, 5, 4]])"
      ]
     },
     "execution_count": 43,
     "metadata": {},
     "output_type": "execute_result"
    }
   ],
   "source": [
    "arr2"
   ]
  },
  {
   "cell_type": "code",
   "execution_count": 44,
   "id": "7bce2968",
   "metadata": {},
   "outputs": [
    {
     "data": {
      "text/plain": [
       "array([[[1, 2, 3],\n",
       "        [2, 3, 4],\n",
       "        [3, 4, 5]]])"
      ]
     },
     "execution_count": 44,
     "metadata": {},
     "output_type": "execute_result"
    }
   ],
   "source": [
    "arr3"
   ]
  },
  {
   "cell_type": "code",
   "execution_count": 45,
   "id": "17aa21e5",
   "metadata": {},
   "outputs": [],
   "source": [
    "# arr2 * arr3"
   ]
  },
  {
   "cell_type": "markdown",
   "id": "390b1038",
   "metadata": {},
   "source": [
    "we can fixed it by reshapping either making one of them as 1D, or making both of them as equal "
   ]
  },
  {
   "cell_type": "code",
   "execution_count": 46,
   "id": "dadd3bee",
   "metadata": {},
   "outputs": [
    {
     "data": {
      "text/plain": [
       "array([[[1],\n",
       "        [2],\n",
       "        [3]],\n",
       "\n",
       "       [[6],\n",
       "        [5],\n",
       "        [4]]])"
      ]
     },
     "execution_count": 46,
     "metadata": {},
     "output_type": "execute_result"
    }
   ],
   "source": [
    "arr2_reshaped = arr2.reshape([2,3,1])\n",
    "arr2_reshaped"
   ]
  },
  {
   "cell_type": "code",
   "execution_count": 47,
   "id": "d93de8b0",
   "metadata": {},
   "outputs": [
    {
     "data": {
      "text/plain": [
       "(2, 3, 1)"
      ]
     },
     "execution_count": 47,
     "metadata": {},
     "output_type": "execute_result"
    }
   ],
   "source": [
    "arr2_reshaped.shape"
   ]
  },
  {
   "cell_type": "code",
   "execution_count": 48,
   "id": "302cca93",
   "metadata": {},
   "outputs": [
    {
     "data": {
      "text/plain": [
       "array([[[ 1,  2,  3],\n",
       "        [ 4,  6,  8],\n",
       "        [ 9, 12, 15]],\n",
       "\n",
       "       [[ 6, 12, 18],\n",
       "        [10, 15, 20],\n",
       "        [12, 16, 20]]])"
      ]
     },
     "execution_count": 48,
     "metadata": {},
     "output_type": "execute_result"
    }
   ],
   "source": [
    "arr2_reshaped * arr3"
   ]
  },
  {
   "cell_type": "code",
   "execution_count": 49,
   "id": "548c2e74",
   "metadata": {},
   "outputs": [
    {
     "data": {
      "text/plain": [
       "array([[5, 8, 1, 4],\n",
       "       [8, 0, 1, 1],\n",
       "       [8, 9, 4, 9]])"
      ]
     },
     "execution_count": 49,
     "metadata": {},
     "output_type": "execute_result"
    }
   ],
   "source": [
    "mat1 = np.random.randint(10, size=(3,4))\n",
    "mat1"
   ]
  },
  {
   "cell_type": "code",
   "execution_count": 50,
   "id": "dee904c7",
   "metadata": {},
   "outputs": [
    {
     "data": {
      "text/plain": [
       "array([[0, 3],\n",
       "       [0, 7],\n",
       "       [0, 8],\n",
       "       [1, 2]])"
      ]
     },
     "execution_count": 50,
     "metadata": {},
     "output_type": "execute_result"
    }
   ],
   "source": [
    "mat2 = np.random.randint(10, size=(4,2))\n",
    "mat2"
   ]
  },
  {
   "cell_type": "code",
   "execution_count": 51,
   "id": "75ad5226",
   "metadata": {},
   "outputs": [
    {
     "data": {
      "text/plain": [
       "array([[  4,  87],\n",
       "       [  1,  34],\n",
       "       [  9, 137]])"
      ]
     },
     "execution_count": 51,
     "metadata": {},
     "output_type": "execute_result"
    }
   ],
   "source": [
    "np.dot(mat1, mat2) "
   ]
  },
  {
   "cell_type": "markdown",
   "id": "45bc8291",
   "metadata": {},
   "source": [
    "in case of dot product, row of 1st matrices & column of 2nd matrices must be equal"
   ]
  },
  {
   "cell_type": "code",
   "execution_count": 52,
   "id": "6be856cc",
   "metadata": {
    "scrolled": true
   },
   "outputs": [
    {
     "data": {
      "text/plain": [
       "array([[14, 12,  8,  5],\n",
       "       [ 2, 17, 15,  3],\n",
       "       [16, 18,  5, 18]])"
      ]
     },
     "execution_count": 52,
     "metadata": {},
     "output_type": "execute_result"
    }
   ],
   "source": [
    "mat3 = np.random.randint(20, size=(3, 4))\n",
    "mat3"
   ]
  },
  {
   "cell_type": "code",
   "execution_count": 53,
   "id": "c01cb72d",
   "metadata": {},
   "outputs": [
    {
     "data": {
      "text/plain": [
       "array([[ 70,  96,   8,  20],\n",
       "       [ 16,   0,  15,   3],\n",
       "       [128, 162,  20, 162]])"
      ]
     },
     "execution_count": 53,
     "metadata": {},
     "output_type": "execute_result"
    }
   ],
   "source": [
    "mat1 * mat3"
   ]
  },
  {
   "cell_type": "markdown",
   "id": "bf1dd012",
   "metadata": {},
   "source": [
    "in element wise `*` product, the shape must be equal"
   ]
  },
  {
   "cell_type": "markdown",
   "id": "467eb722",
   "metadata": {},
   "source": [
    "## Dot Product example ( toy's sales) "
   ]
  },
  {
   "cell_type": "code",
   "execution_count": 54,
   "id": "351a6ec0",
   "metadata": {},
   "outputs": [],
   "source": [
    "import pandas as pd"
   ]
  },
  {
   "cell_type": "code",
   "execution_count": 55,
   "id": "91abe791",
   "metadata": {},
   "outputs": [
    {
     "data": {
      "text/plain": [
       "array([[ 27,  75,  69,  46],\n",
       "       [ 24, 109,  46,  80],\n",
       "       [103,  98,  38, 116],\n",
       "       [111,  56,  40,  23],\n",
       "       [ 38,  97,  71,  69],\n",
       "       [ 51, 117,  38,  32],\n",
       "       [111, 118,  91, 114]])"
      ]
     },
     "execution_count": 55,
     "metadata": {},
     "output_type": "execute_result"
    }
   ],
   "source": [
    "total_sales = np.random.randint(20, 120, size=(7,4))\n",
    "total_sales"
   ]
  },
  {
   "cell_type": "code",
   "execution_count": 56,
   "id": "717a2ff3",
   "metadata": {},
   "outputs": [
    {
     "data": {
      "text/plain": [
       "array([59, 23, 57, 38])"
      ]
     },
     "execution_count": 56,
     "metadata": {},
     "output_type": "execute_result"
    }
   ],
   "source": [
    "np.random.seed()\n",
    "prices = np.random.randint(20, 80, size=(4))\n",
    "prices"
   ]
  },
  {
   "cell_type": "code",
   "execution_count": 57,
   "id": "e9d1f3fc",
   "metadata": {},
   "outputs": [
    {
     "data": {
      "text/html": [
       "<div>\n",
       "<style scoped>\n",
       "    .dataframe tbody tr th:only-of-type {\n",
       "        vertical-align: middle;\n",
       "    }\n",
       "\n",
       "    .dataframe tbody tr th {\n",
       "        vertical-align: top;\n",
       "    }\n",
       "\n",
       "    .dataframe thead th {\n",
       "        text-align: right;\n",
       "    }\n",
       "</style>\n",
       "<table border=\"1\" class=\"dataframe\">\n",
       "  <thead>\n",
       "    <tr style=\"text-align: right;\">\n",
       "      <th></th>\n",
       "      <th>Toy Car</th>\n",
       "      <th>Geeta Book</th>\n",
       "      <th>Doll's</th>\n",
       "      <th>Pokemon</th>\n",
       "    </tr>\n",
       "  </thead>\n",
       "  <tbody>\n",
       "    <tr>\n",
       "      <th>Mon</th>\n",
       "      <td>27</td>\n",
       "      <td>75</td>\n",
       "      <td>69</td>\n",
       "      <td>46</td>\n",
       "    </tr>\n",
       "    <tr>\n",
       "      <th>Tue</th>\n",
       "      <td>24</td>\n",
       "      <td>109</td>\n",
       "      <td>46</td>\n",
       "      <td>80</td>\n",
       "    </tr>\n",
       "    <tr>\n",
       "      <th>Wed</th>\n",
       "      <td>103</td>\n",
       "      <td>98</td>\n",
       "      <td>38</td>\n",
       "      <td>116</td>\n",
       "    </tr>\n",
       "    <tr>\n",
       "      <th>Thur</th>\n",
       "      <td>111</td>\n",
       "      <td>56</td>\n",
       "      <td>40</td>\n",
       "      <td>23</td>\n",
       "    </tr>\n",
       "    <tr>\n",
       "      <th>Fri</th>\n",
       "      <td>38</td>\n",
       "      <td>97</td>\n",
       "      <td>71</td>\n",
       "      <td>69</td>\n",
       "    </tr>\n",
       "    <tr>\n",
       "      <th>Sat</th>\n",
       "      <td>51</td>\n",
       "      <td>117</td>\n",
       "      <td>38</td>\n",
       "      <td>32</td>\n",
       "    </tr>\n",
       "    <tr>\n",
       "      <th>Sun</th>\n",
       "      <td>111</td>\n",
       "      <td>118</td>\n",
       "      <td>91</td>\n",
       "      <td>114</td>\n",
       "    </tr>\n",
       "  </tbody>\n",
       "</table>\n",
       "</div>"
      ],
      "text/plain": [
       "      Toy Car  Geeta Book  Doll's  Pokemon\n",
       "Mon        27          75      69       46\n",
       "Tue        24         109      46       80\n",
       "Wed       103          98      38      116\n",
       "Thur      111          56      40       23\n",
       "Fri        38          97      71       69\n",
       "Sat        51         117      38       32\n",
       "Sun       111         118      91      114"
      ]
     },
     "execution_count": 57,
     "metadata": {},
     "output_type": "execute_result"
    }
   ],
   "source": [
    "sales = pd.DataFrame(total_sales, index=[\"Mon\", \"Tue\", \"Wed\",\"Thur\", \"Fri\", \"Sat\", \"Sun\"], columns=[\"Toy Car\", \"Geeta Book\",\n",
    "                                                                                                   \"Doll's\", \"Pokemon\"])\n",
    "sales"
   ]
  },
  {
   "cell_type": "code",
   "execution_count": 58,
   "id": "bec2582e",
   "metadata": {},
   "outputs": [
    {
     "data": {
      "text/plain": [
       "array([59, 23, 57, 38])"
      ]
     },
     "execution_count": 58,
     "metadata": {},
     "output_type": "execute_result"
    }
   ],
   "source": [
    "prices"
   ]
  },
  {
   "cell_type": "code",
   "execution_count": 59,
   "id": "9ad4b04a",
   "metadata": {},
   "outputs": [
    {
     "data": {
      "text/plain": [
       "((7, 4), (4,))"
      ]
     },
     "execution_count": 59,
     "metadata": {},
     "output_type": "execute_result"
    }
   ],
   "source": [
    "total_sales.shape, prices.shape"
   ]
  },
  {
   "cell_type": "code",
   "execution_count": 60,
   "id": "71a69c7f",
   "metadata": {},
   "outputs": [],
   "source": [
    "prices = prices.reshape((1,4))"
   ]
  },
  {
   "cell_type": "code",
   "execution_count": 61,
   "id": "30dd5bbb",
   "metadata": {},
   "outputs": [
    {
     "data": {
      "text/plain": [
       "(1, 4)"
      ]
     },
     "execution_count": 61,
     "metadata": {},
     "output_type": "execute_result"
    }
   ],
   "source": [
    "prices.shape"
   ]
  },
  {
   "cell_type": "code",
   "execution_count": 62,
   "id": "22d906f9",
   "metadata": {},
   "outputs": [
    {
     "data": {
      "text/plain": [
       "(4, 7)"
      ]
     },
     "execution_count": 62,
     "metadata": {},
     "output_type": "execute_result"
    }
   ],
   "source": [
    "total_sales=total_sales.reshape(4,7)\n",
    "total_sales.shape"
   ]
  },
  {
   "cell_type": "code",
   "execution_count": 63,
   "id": "c1060b55",
   "metadata": {},
   "outputs": [
    {
     "data": {
      "text/plain": [
       "array([[10159,  9549,  9707, 13335, 12615, 16375, 11241]])"
      ]
     },
     "execution_count": 63,
     "metadata": {},
     "output_type": "execute_result"
    }
   ],
   "source": [
    "total = prices.dot(total_sales)\n",
    "total"
   ]
  },
  {
   "cell_type": "code",
   "execution_count": 64,
   "id": "0a141717",
   "metadata": {},
   "outputs": [
    {
     "data": {
      "text/plain": [
       "(1, 7)"
      ]
     },
     "execution_count": 64,
     "metadata": {},
     "output_type": "execute_result"
    }
   ],
   "source": [
    "total.shape"
   ]
  },
  {
   "cell_type": "code",
   "execution_count": 65,
   "id": "334b9ac5",
   "metadata": {},
   "outputs": [
    {
     "data": {
      "text/plain": [
       "array([[10159],\n",
       "       [ 9549],\n",
       "       [ 9707],\n",
       "       [13335],\n",
       "       [12615],\n",
       "       [16375],\n",
       "       [11241]])"
      ]
     },
     "execution_count": 65,
     "metadata": {},
     "output_type": "execute_result"
    }
   ],
   "source": [
    "total=total.reshape(7,1)\n",
    "total"
   ]
  },
  {
   "cell_type": "code",
   "execution_count": 66,
   "id": "d4aeeb09",
   "metadata": {},
   "outputs": [
    {
     "data": {
      "text/html": [
       "<div>\n",
       "<style scoped>\n",
       "    .dataframe tbody tr th:only-of-type {\n",
       "        vertical-align: middle;\n",
       "    }\n",
       "\n",
       "    .dataframe tbody tr th {\n",
       "        vertical-align: top;\n",
       "    }\n",
       "\n",
       "    .dataframe thead th {\n",
       "        text-align: right;\n",
       "    }\n",
       "</style>\n",
       "<table border=\"1\" class=\"dataframe\">\n",
       "  <thead>\n",
       "    <tr style=\"text-align: right;\">\n",
       "      <th></th>\n",
       "      <th>Toy Car</th>\n",
       "      <th>Geeta Book</th>\n",
       "      <th>Doll's</th>\n",
       "      <th>Pokemon</th>\n",
       "      <th>Total</th>\n",
       "    </tr>\n",
       "  </thead>\n",
       "  <tbody>\n",
       "    <tr>\n",
       "      <th>Mon</th>\n",
       "      <td>27</td>\n",
       "      <td>75</td>\n",
       "      <td>69</td>\n",
       "      <td>46</td>\n",
       "      <td>10159</td>\n",
       "    </tr>\n",
       "    <tr>\n",
       "      <th>Tue</th>\n",
       "      <td>24</td>\n",
       "      <td>109</td>\n",
       "      <td>46</td>\n",
       "      <td>80</td>\n",
       "      <td>9549</td>\n",
       "    </tr>\n",
       "    <tr>\n",
       "      <th>Wed</th>\n",
       "      <td>103</td>\n",
       "      <td>98</td>\n",
       "      <td>38</td>\n",
       "      <td>116</td>\n",
       "      <td>9707</td>\n",
       "    </tr>\n",
       "    <tr>\n",
       "      <th>Thur</th>\n",
       "      <td>111</td>\n",
       "      <td>56</td>\n",
       "      <td>40</td>\n",
       "      <td>23</td>\n",
       "      <td>13335</td>\n",
       "    </tr>\n",
       "    <tr>\n",
       "      <th>Fri</th>\n",
       "      <td>38</td>\n",
       "      <td>97</td>\n",
       "      <td>71</td>\n",
       "      <td>69</td>\n",
       "      <td>12615</td>\n",
       "    </tr>\n",
       "    <tr>\n",
       "      <th>Sat</th>\n",
       "      <td>51</td>\n",
       "      <td>117</td>\n",
       "      <td>38</td>\n",
       "      <td>32</td>\n",
       "      <td>16375</td>\n",
       "    </tr>\n",
       "    <tr>\n",
       "      <th>Sun</th>\n",
       "      <td>111</td>\n",
       "      <td>118</td>\n",
       "      <td>91</td>\n",
       "      <td>114</td>\n",
       "      <td>11241</td>\n",
       "    </tr>\n",
       "  </tbody>\n",
       "</table>\n",
       "</div>"
      ],
      "text/plain": [
       "      Toy Car  Geeta Book  Doll's  Pokemon  Total\n",
       "Mon        27          75      69       46  10159\n",
       "Tue        24         109      46       80   9549\n",
       "Wed       103          98      38      116   9707\n",
       "Thur      111          56      40       23  13335\n",
       "Fri        38          97      71       69  12615\n",
       "Sat        51         117      38       32  16375\n",
       "Sun       111         118      91      114  11241"
      ]
     },
     "execution_count": 66,
     "metadata": {},
     "output_type": "execute_result"
    }
   ],
   "source": [
    "sales[\"Total\"] = total\n",
    "sales"
   ]
  },
  {
   "cell_type": "code",
   "execution_count": 67,
   "id": "8555146d",
   "metadata": {},
   "outputs": [],
   "source": [
    "sales.to_csv(\"sales_jupyter.csv\")"
   ]
  },
  {
   "cell_type": "markdown",
   "id": "e80f1f4f",
   "metadata": {},
   "source": [
    "## comparission "
   ]
  },
  {
   "cell_type": "code",
   "execution_count": 68,
   "id": "a3740b5b",
   "metadata": {},
   "outputs": [
    {
     "data": {
      "text/plain": [
       "array([1, 2, 3, 4])"
      ]
     },
     "execution_count": 68,
     "metadata": {},
     "output_type": "execute_result"
    }
   ],
   "source": [
    "arr1"
   ]
  },
  {
   "cell_type": "code",
   "execution_count": 69,
   "id": "93cf0000",
   "metadata": {},
   "outputs": [
    {
     "data": {
      "text/plain": [
       "array([[1, 2, 3],\n",
       "       [6, 5, 4]])"
      ]
     },
     "execution_count": 69,
     "metadata": {},
     "output_type": "execute_result"
    }
   ],
   "source": [
    "\n",
    "arr2"
   ]
  },
  {
   "cell_type": "code",
   "execution_count": 70,
   "id": "9cc818e3",
   "metadata": {},
   "outputs": [
    {
     "name": "stderr",
     "output_type": "stream",
     "text": [
      "C:\\Users\\Mahakal Bhakt\\AppData\\Local\\Temp\\ipykernel_14372\\2836583528.py:1: DeprecationWarning: elementwise comparison failed; this will raise an error in the future.\n",
      "  arr1 == arr2\n"
     ]
    },
    {
     "data": {
      "text/plain": [
       "False"
      ]
     },
     "execution_count": 70,
     "metadata": {},
     "output_type": "execute_result"
    }
   ],
   "source": [
    "arr1 == arr2"
   ]
  },
  {
   "cell_type": "code",
   "execution_count": 71,
   "id": "2ca2d348",
   "metadata": {},
   "outputs": [
    {
     "data": {
      "text/plain": [
       "array([[1, 4, 3],\n",
       "       [1, 5, 9]])"
      ]
     },
     "execution_count": 71,
     "metadata": {},
     "output_type": "execute_result"
    }
   ],
   "source": [
    "np.random.seed()\n",
    "arr1Temp= np.random.randint(10, size=(2,3))\n",
    "arr1Temp"
   ]
  },
  {
   "cell_type": "code",
   "execution_count": 72,
   "id": "77eeb95f",
   "metadata": {},
   "outputs": [
    {
     "data": {
      "text/plain": [
       "array([[False,  True, False],\n",
       "       [False, False,  True]])"
      ]
     },
     "execution_count": 72,
     "metadata": {},
     "output_type": "execute_result"
    }
   ],
   "source": [
    "arr1Temp > arr2"
   ]
  },
  {
   "cell_type": "code",
   "execution_count": 73,
   "id": "62f90b6f",
   "metadata": {},
   "outputs": [
    {
     "data": {
      "text/plain": [
       "array([[ True, False,  True],\n",
       "       [False,  True, False]])"
      ]
     },
     "execution_count": 73,
     "metadata": {},
     "output_type": "execute_result"
    }
   ],
   "source": [
    "arr1Temp == arr2"
   ]
  },
  {
   "cell_type": "code",
   "execution_count": 74,
   "id": "fd4ac31a",
   "metadata": {},
   "outputs": [
    {
     "data": {
      "text/plain": [
       "array([[False, False, False],\n",
       "       [ True, False, False]])"
      ]
     },
     "execution_count": 74,
     "metadata": {},
     "output_type": "execute_result"
    }
   ],
   "source": [
    "arr1Temp < arr2"
   ]
  },
  {
   "cell_type": "markdown",
   "id": "4dac2e5a",
   "metadata": {},
   "source": [
    "## Sorting"
   ]
  },
  {
   "cell_type": "code",
   "execution_count": 75,
   "id": "1a86aed2",
   "metadata": {},
   "outputs": [
    {
     "data": {
      "text/plain": [
       "array([[1, 4, 3],\n",
       "       [1, 5, 9]])"
      ]
     },
     "execution_count": 75,
     "metadata": {},
     "output_type": "execute_result"
    }
   ],
   "source": [
    "arr1Temp"
   ]
  },
  {
   "cell_type": "code",
   "execution_count": 76,
   "id": "d1d1fb36",
   "metadata": {},
   "outputs": [
    {
     "data": {
      "text/plain": [
       "array([[1, 3, 4],\n",
       "       [1, 5, 9]])"
      ]
     },
     "execution_count": 76,
     "metadata": {},
     "output_type": "execute_result"
    }
   ],
   "source": [
    "np.sort(arr1Temp)"
   ]
  },
  {
   "cell_type": "code",
   "execution_count": 77,
   "id": "a2bcabff",
   "metadata": {},
   "outputs": [
    {
     "data": {
      "text/plain": [
       "array([[0, 2, 1],\n",
       "       [0, 1, 2]], dtype=int64)"
      ]
     },
     "execution_count": 77,
     "metadata": {},
     "output_type": "execute_result"
    }
   ],
   "source": [
    "np.argsort(arr1Temp)"
   ]
  },
  {
   "cell_type": "code",
   "execution_count": 78,
   "id": "ee4ee839",
   "metadata": {},
   "outputs": [
    {
     "data": {
      "text/plain": [
       "array([[0, 0, 0],\n",
       "       [1, 1, 1]], dtype=int64)"
      ]
     },
     "execution_count": 78,
     "metadata": {},
     "output_type": "execute_result"
    }
   ],
   "source": [
    "np.argsort(arr1Temp, axis=0)"
   ]
  },
  {
   "cell_type": "code",
   "execution_count": 79,
   "id": "17806835",
   "metadata": {},
   "outputs": [
    {
     "data": {
      "text/plain": [
       "array([[0, 2, 1],\n",
       "       [0, 1, 2]], dtype=int64)"
      ]
     },
     "execution_count": 79,
     "metadata": {},
     "output_type": "execute_result"
    }
   ],
   "source": [
    "np.argsort(arr1Temp, axis=1)"
   ]
  },
  {
   "cell_type": "markdown",
   "id": "bba6df6b",
   "metadata": {},
   "source": [
    "# Pratical Example - Convert img to array "
   ]
  },
  {
   "cell_type": "code",
   "execution_count": 80,
   "id": "7a01c279",
   "metadata": {},
   "outputs": [],
   "source": [
    "from matplotlib.image import imread"
   ]
  },
  {
   "cell_type": "code",
   "execution_count": 81,
   "id": "1a643863",
   "metadata": {},
   "outputs": [
    {
     "data": {
      "image/jpeg": "[encoded data removed]",
      "text/plain": [
       "<IPython.core.display.Image object>"
      ]
     },
     "execution_count": 81,
     "metadata": {},
     "output_type": "execute_result"
    }
   ],
   "source": [
    "from IPython import display\n",
    "display.Image(\"./shiva.jpg\")"
   ]
  },
  {
   "cell_type": "code",
   "execution_count": 82,
   "id": "7a0f1548",
   "metadata": {},
   "outputs": [
    {
     "data": {
      "text/plain": [
       "array([[[ 30,  46,  98],\n",
       "        [ 30,  46,  98],\n",
       "        [ 30,  46,  98],\n",
       "        ...,\n",
       "        [ 24,  30,  78],\n",
       "        [ 25,  31,  79],\n",
       "        [ 26,  32,  80]],\n",
       "\n",
       "       [[ 30,  46,  98],\n",
       "        [ 30,  46,  98],\n",
       "        [ 30,  46,  98],\n",
       "        ...,\n",
       "        [ 24,  30,  78],\n",
       "        [ 24,  30,  78],\n",
       "        [ 24,  30,  78]],\n",
       "\n",
       "       [[ 30,  46,  98],\n",
       "        [ 30,  46,  98],\n",
       "        [ 30,  46,  98],\n",
       "        ...,\n",
       "        [ 23,  31,  78],\n",
       "        [ 22,  30,  77],\n",
       "        [ 22,  30,  77]],\n",
       "\n",
       "       ...,\n",
       "\n",
       "       [[ 30,  61, 116],\n",
       "        [ 30,  61, 116],\n",
       "        [ 30,  61, 116],\n",
       "        ...,\n",
       "        [ 32,  48,  99],\n",
       "        [ 32,  48,  99],\n",
       "        [ 32,  48,  99]],\n",
       "\n",
       "       [[ 30,  61, 116],\n",
       "        [ 30,  61, 116],\n",
       "        [ 30,  61, 116],\n",
       "        ...,\n",
       "        [ 32,  48,  99],\n",
       "        [ 32,  48,  99],\n",
       "        [ 32,  48,  99]],\n",
       "\n",
       "       [[ 30,  61, 116],\n",
       "        [ 30,  61, 116],\n",
       "        [ 30,  61, 116],\n",
       "        ...,\n",
       "        [ 32,  48,  99],\n",
       "        [ 32,  48,  99],\n",
       "        [ 32,  48,  99]]], dtype=uint8)"
      ]
     },
     "execution_count": 82,
     "metadata": {},
     "output_type": "execute_result"
    }
   ],
   "source": [
    "shiva = imread(\"shiva.jpg\")\n",
    "shiva"
   ]
  },
  {
   "cell_type": "code",
   "execution_count": 83,
   "id": "53694da8",
   "metadata": {},
   "outputs": [
    {
     "data": {
      "text/plain": [
       "11059200"
      ]
     },
     "execution_count": 83,
     "metadata": {},
     "output_type": "execute_result"
    }
   ],
   "source": [
    "shiva.size"
   ]
  },
  {
   "cell_type": "code",
   "execution_count": null,
   "id": "3594b878",
   "metadata": {},
   "outputs": [],
   "source": []
  }
 ],
 "metadata": {
  "kernelspec": {
   "display_name": "Python 3 (ipykernel)",
   "language": "python",
   "name": "python3"
  },
  "language_info": {
   "codemirror_mode": {
    "name": "ipython",
    "version": 3
   },
   "file_extension": ".py",
   "mimetype": "text/x-python",
   "name": "python",
   "nbconvert_exporter": "python",
   "pygments_lexer": "ipython3",
   "version": "3.9.12"
  }
 },
 "nbformat": 4,
 "nbformat_minor": 5
}
