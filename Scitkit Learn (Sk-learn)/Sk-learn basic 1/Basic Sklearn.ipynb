{
 "cells": [
  {
   "cell_type": "code",
   "execution_count": 1,
   "id": "3dbecc0e",
   "metadata": {},
   "outputs": [],
   "source": [
    "import pandas as pd\n",
    "import numpy as np\n",
    "import seaborn as sns"
   ]
  },
  {
   "cell_type": "markdown",
   "id": "2440d49f",
   "metadata": {},
   "source": [
    "### <div class='alert alert-info'>getting the data ready"
   ]
  },
  {
   "cell_type": "code",
   "execution_count": 2,
   "id": "9c656a97",
   "metadata": {},
   "outputs": [
    {
     "data": {
      "text/html": [
       "<div>\n",
       "<style scoped>\n",
       "    .dataframe tbody tr th:only-of-type {\n",
       "        vertical-align: middle;\n",
       "    }\n",
       "\n",
       "    .dataframe tbody tr th {\n",
       "        vertical-align: top;\n",
       "    }\n",
       "\n",
       "    .dataframe thead th {\n",
       "        text-align: right;\n",
       "    }\n",
       "</style>\n",
       "<table border=\"1\" class=\"dataframe\">\n",
       "  <thead>\n",
       "    <tr style=\"text-align: right;\">\n",
       "      <th></th>\n",
       "      <th>age</th>\n",
       "      <th>sex</th>\n",
       "      <th>cp</th>\n",
       "      <th>trestbps</th>\n",
       "      <th>chol</th>\n",
       "      <th>fbs</th>\n",
       "      <th>restecg</th>\n",
       "      <th>thalach</th>\n",
       "      <th>exang</th>\n",
       "      <th>oldpeak</th>\n",
       "      <th>slope</th>\n",
       "      <th>ca</th>\n",
       "      <th>thal</th>\n",
       "      <th>target</th>\n",
       "    </tr>\n",
       "  </thead>\n",
       "  <tbody>\n",
       "    <tr>\n",
       "      <th>0</th>\n",
       "      <td>63</td>\n",
       "      <td>1</td>\n",
       "      <td>3</td>\n",
       "      <td>145</td>\n",
       "      <td>233</td>\n",
       "      <td>1</td>\n",
       "      <td>0</td>\n",
       "      <td>150</td>\n",
       "      <td>0</td>\n",
       "      <td>2.3</td>\n",
       "      <td>0</td>\n",
       "      <td>0</td>\n",
       "      <td>1</td>\n",
       "      <td>1</td>\n",
       "    </tr>\n",
       "    <tr>\n",
       "      <th>1</th>\n",
       "      <td>37</td>\n",
       "      <td>1</td>\n",
       "      <td>2</td>\n",
       "      <td>130</td>\n",
       "      <td>250</td>\n",
       "      <td>0</td>\n",
       "      <td>1</td>\n",
       "      <td>187</td>\n",
       "      <td>0</td>\n",
       "      <td>3.5</td>\n",
       "      <td>0</td>\n",
       "      <td>0</td>\n",
       "      <td>2</td>\n",
       "      <td>1</td>\n",
       "    </tr>\n",
       "  </tbody>\n",
       "</table>\n",
       "</div>"
      ],
      "text/plain": [
       "   age  sex  cp  trestbps  chol  fbs  restecg  thalach  exang  oldpeak  slope  \\\n",
       "0   63    1   3       145   233    1        0      150      0      2.3      0   \n",
       "1   37    1   2       130   250    0        1      187      0      3.5      0   \n",
       "\n",
       "   ca  thal  target  \n",
       "0   0     1       1  \n",
       "1   0     2       1  "
      ]
     },
     "execution_count": 2,
     "metadata": {},
     "output_type": "execute_result"
    }
   ],
   "source": [
    "df=pd.read_csv(\"heart-disease.csv\")\n",
    "df.head(2)"
   ]
  },
  {
   "cell_type": "code",
   "execution_count": 3,
   "id": "30d45e07",
   "metadata": {},
   "outputs": [
    {
     "data": {
      "text/html": [
       "<div>\n",
       "<style scoped>\n",
       "    .dataframe tbody tr th:only-of-type {\n",
       "        vertical-align: middle;\n",
       "    }\n",
       "\n",
       "    .dataframe tbody tr th {\n",
       "        vertical-align: top;\n",
       "    }\n",
       "\n",
       "    .dataframe thead th {\n",
       "        text-align: right;\n",
       "    }\n",
       "</style>\n",
       "<table border=\"1\" class=\"dataframe\">\n",
       "  <thead>\n",
       "    <tr style=\"text-align: right;\">\n",
       "      <th></th>\n",
       "      <th>age</th>\n",
       "      <th>sex</th>\n",
       "      <th>cp</th>\n",
       "      <th>trestbps</th>\n",
       "      <th>chol</th>\n",
       "      <th>fbs</th>\n",
       "      <th>restecg</th>\n",
       "      <th>thalach</th>\n",
       "      <th>exang</th>\n",
       "      <th>oldpeak</th>\n",
       "      <th>slope</th>\n",
       "      <th>ca</th>\n",
       "      <th>thal</th>\n",
       "    </tr>\n",
       "  </thead>\n",
       "  <tbody>\n",
       "    <tr>\n",
       "      <th>0</th>\n",
       "      <td>63</td>\n",
       "      <td>1</td>\n",
       "      <td>3</td>\n",
       "      <td>145</td>\n",
       "      <td>233</td>\n",
       "      <td>1</td>\n",
       "      <td>0</td>\n",
       "      <td>150</td>\n",
       "      <td>0</td>\n",
       "      <td>2.3</td>\n",
       "      <td>0</td>\n",
       "      <td>0</td>\n",
       "      <td>1</td>\n",
       "    </tr>\n",
       "    <tr>\n",
       "      <th>1</th>\n",
       "      <td>37</td>\n",
       "      <td>1</td>\n",
       "      <td>2</td>\n",
       "      <td>130</td>\n",
       "      <td>250</td>\n",
       "      <td>0</td>\n",
       "      <td>1</td>\n",
       "      <td>187</td>\n",
       "      <td>0</td>\n",
       "      <td>3.5</td>\n",
       "      <td>0</td>\n",
       "      <td>0</td>\n",
       "      <td>2</td>\n",
       "    </tr>\n",
       "  </tbody>\n",
       "</table>\n",
       "</div>"
      ],
      "text/plain": [
       "   age  sex  cp  trestbps  chol  fbs  restecg  thalach  exang  oldpeak  slope  \\\n",
       "0   63    1   3       145   233    1        0      150      0      2.3      0   \n",
       "1   37    1   2       130   250    0        1      187      0      3.5      0   \n",
       "\n",
       "   ca  thal  \n",
       "0   0     1  \n",
       "1   0     2  "
      ]
     },
     "execution_count": 3,
     "metadata": {},
     "output_type": "execute_result"
    }
   ],
   "source": [
    "x=df.drop('target', axis=1)\n",
    "y=df['target']\n",
    "\n",
    "x.head(2)"
   ]
  },
  {
   "cell_type": "code",
   "execution_count": 4,
   "id": "84bc0380",
   "metadata": {},
   "outputs": [
    {
     "data": {
      "text/plain": [
       "0    1\n",
       "1    1\n",
       "2    1\n",
       "3    1\n",
       "4    1\n",
       "Name: target, dtype: int64"
      ]
     },
     "execution_count": 4,
     "metadata": {},
     "output_type": "execute_result"
    }
   ],
   "source": [
    "y.head()"
   ]
  },
  {
   "cell_type": "markdown",
   "id": "90c23bf1",
   "metadata": {},
   "source": [
    "### <div class='alert alert-info'> Selecting the model </div>"
   ]
  },
  {
   "cell_type": "code",
   "execution_count": 5,
   "id": "b408432d",
   "metadata": {},
   "outputs": [],
   "source": [
    "from sklearn.ensemble import RandomForestClassifier\n",
    "model = RandomForestClassifier()"
   ]
  },
  {
   "cell_type": "markdown",
   "id": "fc5d0327",
   "metadata": {},
   "source": [
    "### <div class='alert alert-info'>training and testing the data</div>"
   ]
  },
  {
   "cell_type": "code",
   "execution_count": 6,
   "id": "acd8ef00",
   "metadata": {},
   "outputs": [],
   "source": [
    "from sklearn.model_selection import train_test_split\n",
    "x_train, x_test, y_train, y_test = train_test_split(x,y , test_size=.1)"
   ]
  },
  {
   "cell_type": "markdown",
   "id": "d174c8c7",
   "metadata": {},
   "source": [
    "### <div class='alert alert-info'> Predicting the data</div>"
   ]
  },
  {
   "cell_type": "markdown",
   "id": "2a194e46",
   "metadata": {},
   "source": [
    "- ### <font color='purple'> Finding the pattern within the data"
   ]
  },
  {
   "cell_type": "code",
   "execution_count": 7,
   "id": "806c0a15",
   "metadata": {},
   "outputs": [],
   "source": [
    "model.fit(x_train, y_train);"
   ]
  },
  {
   "cell_type": "markdown",
   "id": "a207bb96",
   "metadata": {},
   "source": [
    "- ### <font color='purple'>Making the predicting</font>"
   ]
  },
  {
   "cell_type": "code",
   "execution_count": 8,
   "id": "ca9431de",
   "metadata": {},
   "outputs": [],
   "source": [
    "data_predict = model.predict(x_test)"
   ]
  },
  {
   "cell_type": "code",
   "execution_count": 9,
   "id": "e9219ff6",
   "metadata": {},
   "outputs": [
    {
     "data": {
      "text/plain": [
       "array([1, 0, 0, 1, 0, 1, 1, 1, 1, 1, 0, 0, 0, 0, 1, 1, 0, 0, 1, 0, 0, 1,\n",
       "       0, 1, 1, 1, 1, 1, 0, 1, 0], dtype=int64)"
      ]
     },
     "execution_count": 9,
     "metadata": {},
     "output_type": "execute_result"
    }
   ],
   "source": [
    "data_predict"
   ]
  },
  {
   "cell_type": "markdown",
   "id": "342ca964",
   "metadata": {},
   "source": [
    "### <div class='alert alert-info'>Evaluate the model</div>"
   ]
  },
  {
   "cell_type": "code",
   "execution_count": 10,
   "id": "309fd901",
   "metadata": {},
   "outputs": [
    {
     "data": {
      "text/plain": [
       "1.0"
      ]
     },
     "execution_count": 10,
     "metadata": {},
     "output_type": "execute_result"
    }
   ],
   "source": [
    "model.score(x_train, y_train)"
   ]
  },
  {
   "cell_type": "code",
   "execution_count": 11,
   "id": "ed2effe9",
   "metadata": {},
   "outputs": [
    {
     "data": {
      "text/plain": [
       "0.8709677419354839"
      ]
     },
     "execution_count": 11,
     "metadata": {},
     "output_type": "execute_result"
    }
   ],
   "source": [
    "model.score(x_test, y_test)"
   ]
  },
  {
   "cell_type": "markdown",
   "id": "e6f75140",
   "metadata": {},
   "source": [
    "- ### <font color='purple'> Selecting the model for the evaluation </font>"
   ]
  },
  {
   "cell_type": "code",
   "execution_count": 12,
   "id": "b029fb4e",
   "metadata": {},
   "outputs": [],
   "source": [
    "from sklearn.metrics import accuracy_score, classification_report, precision_score"
   ]
  },
  {
   "cell_type": "code",
   "execution_count": 13,
   "id": "70eaff74",
   "metadata": {},
   "outputs": [
    {
     "data": {
      "text/plain": [
       "0.8709677419354839"
      ]
     },
     "execution_count": 13,
     "metadata": {},
     "output_type": "execute_result"
    }
   ],
   "source": [
    "accuracy_score(y_test, data_predict)"
   ]
  },
  {
   "cell_type": "code",
   "execution_count": 14,
   "id": "d3f95976",
   "metadata": {},
   "outputs": [
    {
     "data": {
      "text/plain": [
       "0.9411764705882353"
      ]
     },
     "execution_count": 14,
     "metadata": {},
     "output_type": "execute_result"
    }
   ],
   "source": [
    "precision_score(y_test, data_predict)"
   ]
  },
  {
   "cell_type": "code",
   "execution_count": 15,
   "id": "298636d8",
   "metadata": {},
   "outputs": [
    {
     "data": {
      "text/plain": [
       "'              precision    recall  f1-score   support\\n\\n           0       0.79      0.92      0.85        12\\n           1       0.94      0.84      0.89        19\\n\\n    accuracy                           0.87        31\\n   macro avg       0.86      0.88      0.87        31\\nweighted avg       0.88      0.87      0.87        31\\n'"
      ]
     },
     "execution_count": 15,
     "metadata": {},
     "output_type": "execute_result"
    }
   ],
   "source": [
    "classification_report(y_test, data_predict)"
   ]
  },
  {
   "cell_type": "markdown",
   "id": "c21e3983",
   "metadata": {},
   "source": [
    "### <div class='alert alert-info'>Improving the model</div>"
   ]
  },
  {
   "cell_type": "code",
   "execution_count": 16,
   "id": "35200f50",
   "metadata": {},
   "outputs": [
    {
     "name": "stdout",
     "output_type": "stream",
     "text": [
      "The testing is done one 10 estimators\n",
      "Model accuracy on test data set0.8709677419354839\n",
      "The testing is done one 20 estimators\n",
      "Model accuracy on test data set0.8387096774193549\n",
      "The testing is done one 30 estimators\n",
      "Model accuracy on test data set0.9032258064516129\n",
      "The testing is done one 40 estimators\n",
      "Model accuracy on test data set0.9032258064516129\n",
      "The testing is done one 50 estimators\n",
      "Model accuracy on test data set0.9032258064516129\n",
      "The testing is done one 60 estimators\n",
      "Model accuracy on test data set0.8387096774193549\n",
      "The testing is done one 70 estimators\n",
      "Model accuracy on test data set0.8709677419354839\n",
      "The testing is done one 80 estimators\n",
      "Model accuracy on test data set0.9354838709677419\n",
      "The testing is done one 90 estimators\n",
      "Model accuracy on test data set0.9032258064516129\n"
     ]
    }
   ],
   "source": [
    "np.random.seed(100)\n",
    "\n",
    "for i in range(10, 100, 10):\n",
    "    print(f'The testing is done one {i} estimators')\n",
    "    model=RandomForestClassifier(n_estimators=i).fit(x_train, y_train)\n",
    "    print(f'Model accuracy on test data set{model.score(x_test, y_test)}')"
   ]
  },
  {
   "cell_type": "markdown",
   "id": "63a86029",
   "metadata": {},
   "source": [
    "- #### <font color='purple'>The highest accuracy was when the n_estimators value was 60"
   ]
  },
  {
   "cell_type": "markdown",
   "id": "ec1dc484",
   "metadata": {},
   "source": [
    "### <div class='alert alert-info'>Saving a model then load </div>"
   ]
  },
  {
   "cell_type": "markdown",
   "id": "db7f313f",
   "metadata": {},
   "source": [
    "- ### <font color='purple'>Saving into pickle format </font>"
   ]
  },
  {
   "cell_type": "code",
   "execution_count": 17,
   "id": "0ccbdc7f",
   "metadata": {},
   "outputs": [],
   "source": [
    "import pickle\n",
    "\n",
    "pickle.dump(model, open(\"Basic_model_prediction_1.pkl\", 'wb'))"
   ]
  },
  {
   "cell_type": "markdown",
   "id": "79747caa",
   "metadata": {},
   "source": [
    "- ### <font color='purple'>Loading the data</font>"
   ]
  },
  {
   "cell_type": "code",
   "execution_count": 18,
   "id": "9564d6b2",
   "metadata": {},
   "outputs": [
    {
     "data": {
      "text/plain": [
       "0.9032258064516129"
      ]
     },
     "execution_count": 18,
     "metadata": {},
     "output_type": "execute_result"
    }
   ],
   "source": [
    "loaded_model = pickle.load(open(\"Basic_model_prediction_1.pkl\", 'rb'))\n",
    "loaded_model.score(x_test, y_test)"
   ]
  }
 ],
 "metadata": {
  "kernelspec": {
   "display_name": "Python 3 (ipykernel)",
   "language": "python",
   "name": "python3"
  },
  "language_info": {
   "codemirror_mode": {
    "name": "ipython",
    "version": 3
   },
   "file_extension": ".py",
   "mimetype": "text/x-python",
   "name": "python",
   "nbconvert_exporter": "python",
   "pygments_lexer": "ipython3",
   "version": "3.9.12"
  }
 },
 "nbformat": 4,
 "nbformat_minor": 5
}
