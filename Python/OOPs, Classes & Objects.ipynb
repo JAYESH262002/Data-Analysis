{
 "cells": [
  {
   "cell_type": "code",
   "execution_count": 1,
   "id": "2c49dd34",
   "metadata": {},
   "outputs": [],
   "source": [
    "class car:\n",
    "    pass"
   ]
  },
  {
   "cell_type": "code",
   "execution_count": 2,
   "id": "ee07f880",
   "metadata": {},
   "outputs": [],
   "source": [
    "audiq7 = car()"
   ]
  },
  {
   "cell_type": "code",
   "execution_count": 3,
   "id": "bdcc3098",
   "metadata": {},
   "outputs": [],
   "source": [
    "audiq7.mileage = 220\n",
    "audiq7.year = 2017\n",
    "audiq7.sales = 124\n",
    "audiq7.price = 120000"
   ]
  },
  {
   "cell_type": "code",
   "execution_count": 4,
   "id": "dfc22522",
   "metadata": {},
   "outputs": [],
   "source": [
    "nano = car()"
   ]
  },
  {
   "cell_type": "code",
   "execution_count": 5,
   "id": "ce6a1e96",
   "metadata": {},
   "outputs": [],
   "source": [
    "nano.mileage = 140\n",
    "nano.year = 2018\n",
    "nano.sales = 45000\n",
    "nano.price= 1600\n",
    "nano.seat = 4"
   ]
  },
  {
   "cell_type": "code",
   "execution_count": 8,
   "id": "1476ffa7",
   "metadata": {},
   "outputs": [
    {
     "name": "stdout",
     "output_type": "stream",
     "text": [
      "140 220\n"
     ]
    }
   ],
   "source": [
    "print(nano.mileage, audiq7.mileage)"
   ]
  },
  {
   "cell_type": "code",
   "execution_count": null,
   "id": "8e1d557d",
   "metadata": {},
   "outputs": [],
   "source": [
    "class car:\n",
    "    def __init__(self, mileage, year, sales, price):\n",
    "        self.mileage = mileage\n",
    "        self.year    = year\n",
    "        self.sales   = sales\n",
    "        self.sales   = price\n",
    "\n"
   ]
  }
 ],
 "metadata": {
  "kernelspec": {
   "display_name": "Python 3 (ipykernel)",
   "language": "python",
   "name": "python3"
  },
  "language_info": {
   "codemirror_mode": {
    "name": "ipython",
    "version": 3
   },
   "file_extension": ".py",
   "mimetype": "text/x-python",
   "name": "python",
   "nbconvert_exporter": "python",
   "pygments_lexer": "ipython3",
   "version": "3.9.12"
  }
 },
 "nbformat": 4,
 "nbformat_minor": 5
}
