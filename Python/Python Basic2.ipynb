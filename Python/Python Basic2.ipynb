{
 "cells": [
  {
   "cell_type": "markdown",
   "id": "b880dcf4",
   "metadata": {},
   "source": [
    "## <div class='alert alert-info'>Conditional Statement</div>"
   ]
  },
  {
   "cell_type": "code",
   "execution_count": 1,
   "id": "9f098715",
   "metadata": {},
   "outputs": [
    {
     "name": "stdout",
     "output_type": "stream",
     "text": [
      "Make your License 1st\n"
     ]
    }
   ],
   "source": [
    "is_Old=False\n",
    "is_License=True\n",
    "\n",
    "if is_Old and is_License:\n",
    "    print(\"You, can drive your Car\")\n",
    "else:\n",
    "    print(\"Make your License 1st\")"
   ]
  },
  {
   "cell_type": "markdown",
   "id": "be1db6f2",
   "metadata": {},
   "source": [
    "<div class='alert alert-info'>if magician True, expert True print\"Your are an real pro\"<br>\n",
    "if magician True, expert False print\"You need to practice more\"<br>\n",
    "if magician False, print\"You Fake\" </div>"
   ]
  },
  {
   "cell_type": "code",
   "execution_count": 2,
   "id": "7a7eb69d",
   "metadata": {},
   "outputs": [
    {
     "name": "stdout",
     "output_type": "stream",
     "text": [
      "You need to practice more\n"
     ]
    }
   ],
   "source": [
    "is_magician=True\n",
    "is_expert = False\n",
    "\n",
    "if is_magician and is_expert:\n",
    "    print(\"Your are a real pro\")\n",
    "elif is_magician and not is_expert:\n",
    "    print(\"You need to practice more\")\n",
    "elif not is_magician:\n",
    "    print(\"You Fake\")\n"
   ]
  },
  {
   "cell_type": "code",
   "execution_count": 3,
   "id": "ff32b106",
   "metadata": {},
   "outputs": [
    {
     "name": "stdout",
     "output_type": "stream",
     "text": [
      "True\n",
      "False\n",
      "True\n",
      "True\n",
      "False\n",
      "False\n"
     ]
    },
    {
     "name": "stderr",
     "output_type": "stream",
     "text": [
      "<>:9: SyntaxWarning: \"is\" with a literal. Did you mean \"==\"?\n",
      "<>:9: SyntaxWarning: \"is\" with a literal. Did you mean \"==\"?\n",
      "C:\\Users\\Mahakal Bhakt\\AppData\\Local\\Temp\\ipykernel_7224\\2626838300.py:9: SyntaxWarning: \"is\" with a literal. Did you mean \"==\"?\n",
      "  print(True is 1)\n"
     ]
    }
   ],
   "source": [
    "print(True==1)\n",
    "print(''==1)\n",
    "print('a'>'A')\n",
    "a=[1,2,3]\n",
    "b=[1,2,3]\n",
    "print(a==b)\n",
    "\n",
    "\n",
    "print(True is 1)\n",
    "print(a is b)"
   ]
  },
  {
   "cell_type": "markdown",
   "id": "e25a2415",
   "metadata": {},
   "source": [
    "####<font color='purple'> == Check only value, if mathces then True else False, True is bool value and 1 in boolean means True that why it given us ans True for the 1st </font>\n",
    "    \n",
    "#### <font color='purple'>    is check whether hey are present at the same index place(just like heap from java) </font>"
   ]
  },
  {
   "cell_type": "markdown",
   "id": "94c958d9",
   "metadata": {},
   "source": [
    "### <div class='alert alert-info'>Loop</div>"
   ]
  },
  {
   "cell_type": "code",
   "execution_count": 4,
   "id": "7368cb47",
   "metadata": {},
   "outputs": [
    {
     "name": "stdout",
     "output_type": "stream",
     "text": [
      "1\n",
      "2\n",
      "3\n",
      "4\n",
      "5\n"
     ]
    }
   ],
   "source": [
    "for i in [1,2,3,4,5]:\n",
    "    print(i)"
   ]
  },
  {
   "cell_type": "code",
   "execution_count": 5,
   "id": "9030b3fd",
   "metadata": {},
   "outputs": [
    {
     "name": "stdout",
     "output_type": "stream",
     "text": [
      "1 a\n",
      "1 b\n",
      "1 c\n",
      "1 d\n",
      "1 e\n",
      "2 a\n",
      "2 b\n",
      "2 c\n",
      "2 d\n",
      "2 e\n",
      "3 a\n",
      "3 b\n",
      "3 c\n",
      "3 d\n",
      "3 e\n"
     ]
    }
   ],
   "source": [
    "for i in [1,2,3]:\n",
    "    for j in ['a', 'b', 'c', 'd', 'e']:\n",
    "        print(i ,j)"
   ]
  },
  {
   "cell_type": "markdown",
   "id": "301ef6a9",
   "metadata": {},
   "source": [
    "<div class='alert alert-info'>Iterable</div>"
   ]
  },
  {
   "cell_type": "code",
   "execution_count": 6,
   "id": "15953fe3",
   "metadata": {},
   "outputs": [
    {
     "name": "stdout",
     "output_type": "stream",
     "text": [
      "name\n",
      "Reg id\n",
      "Cgpa\n",
      "Jayesh Raghuvanshi\n",
      "12011963\n",
      "7.14\n",
      "('name', 'Jayesh Raghuvanshi')\n",
      "('Reg id', 12011963)\n",
      "('Cgpa', 7.14)\n",
      "name : Jayesh Raghuvanshi\n",
      "Reg id : 12011963\n",
      "Cgpa : 7.14\n"
     ]
    }
   ],
   "source": [
    "user = { 'name': 'Jayesh Raghuvanshi',\n",
    "        'Reg id': 12011963,\n",
    "        'Cgpa':7.14\n",
    "}\n",
    "\n",
    "for i in user.keys():\n",
    "    print(i)\n",
    "    \n",
    "for i in user.values():\n",
    "    print(i)\n",
    "    \n",
    "for i in user.items():\n",
    "    print(i)\n",
    "    \n",
    "for k,v in user.items():\n",
    "    print(k,\":\", v)"
   ]
  },
  {
   "cell_type": "code",
   "execution_count": 7,
   "id": "dde951b3",
   "metadata": {},
   "outputs": [
    {
     "name": "stdout",
     "output_type": "stream",
     "text": [
      "10\n"
     ]
    }
   ],
   "source": [
    "my_list=[1,2,3,4,5,6,7,8,9,0]\n",
    "x=0\n",
    "for i in my_list:\n",
    "    x+=1\n",
    "print(x)"
   ]
  },
  {
   "cell_type": "code",
   "execution_count": 8,
   "id": "3d46e3db",
   "metadata": {},
   "outputs": [
    {
     "name": "stdout",
     "output_type": "stream",
     "text": [
      "Ram Ram Ji\n",
      "Ram Ram Ji\n",
      "Ram Ram Ji\n"
     ]
    }
   ],
   "source": [
    "for i in range(3):\n",
    "    print(\"Ram Ram Ji\")"
   ]
  },
  {
   "cell_type": "code",
   "execution_count": 9,
   "id": "1219ec76",
   "metadata": {},
   "outputs": [
    {
     "name": "stdout",
     "output_type": "stream",
     "text": [
      "5\n",
      "4\n",
      "3\n",
      "2\n",
      "1\n",
      "\n",
      "0\n",
      "1\n",
      "2\n",
      "3\n",
      "4\n"
     ]
    }
   ],
   "source": [
    "for _ in range(5, 0, -1):\n",
    "    print(_)\n",
    "    \n",
    "print(\"\")\n",
    "\n",
    "for _ in range(5):\n",
    "    print(_)"
   ]
  },
  {
   "cell_type": "raw",
   "id": "b04d9094",
   "metadata": {},
   "source": [
    "enumerate will print the index of the specified value"
   ]
  },
  {
   "cell_type": "code",
   "execution_count": 10,
   "id": "ed8c8053",
   "metadata": {
    "scrolled": true
   },
   "outputs": [
    {
     "name": "stdout",
     "output_type": "stream",
     "text": [
      "0 N\n",
      "1 a\n",
      "2 m\n",
      "3 a\n",
      "4 s\n",
      "5 t\n",
      "6 e\n",
      "7  \n",
      "8 S\n",
      "9 i\n",
      "10 r\n"
     ]
    }
   ],
   "source": [
    "for i, j in enumerate('Namaste Sir'):\n",
    "    print(i, j)"
   ]
  },
  {
   "cell_type": "code",
   "execution_count": null,
   "id": "092b4e36",
   "metadata": {},
   "outputs": [],
   "source": []
  },
  {
   "cell_type": "code",
   "execution_count": null,
   "id": "8f67ce36",
   "metadata": {},
   "outputs": [],
   "source": []
  }
 ],
 "metadata": {
  "kernelspec": {
   "display_name": "Python 3 (ipykernel)",
   "language": "python",
   "name": "python3"
  },
  "language_info": {
   "codemirror_mode": {
    "name": "ipython",
    "version": 3
   },
   "file_extension": ".py",
   "mimetype": "text/x-python",
   "name": "python",
   "nbconvert_exporter": "python",
   "pygments_lexer": "ipython3",
   "version": "3.9.12"
  }
 },
 "nbformat": 4,
 "nbformat_minor": 5
}
