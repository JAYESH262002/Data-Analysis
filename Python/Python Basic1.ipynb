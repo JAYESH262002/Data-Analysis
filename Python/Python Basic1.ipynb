{
 "cells": [
  {
   "cell_type": "markdown",
   "id": "66965283",
   "metadata": {},
   "source": [
    "# <div class='alert alert-info'> PYTHON </div>"
   ]
  },
  {
   "cell_type": "code",
   "execution_count": 1,
   "id": "e1fbe80b",
   "metadata": {
    "scrolled": true
   },
   "outputs": [
    {
     "name": "stdout",
     "output_type": "stream",
     "text": [
      "what is your nameJayesh Raghuvanshi\n",
      "Jayesh Raghuvanshi\n",
      "I am Jayesh Raghuvanshi\n",
      "<class 'int'>\n",
      "<class 'float'>\n",
      "10\n",
      "0\n",
      "25\n",
      "1.0\n",
      "2\n",
      "25\n",
      "0\n",
      "1\n"
     ]
    }
   ],
   "source": [
    "name= input('what is your name')\n",
    "print(name)\n",
    "\n",
    "print('I am '+name)\n",
    "\n",
    "print(type(10))\n",
    "print(type(10.0))\n",
    "\n",
    "print(5+5)\n",
    "print(5-5)\n",
    "print(5*5)\n",
    "print(5/5)\n",
    "print(7%5)\n",
    "print(5**2) #power\n",
    "print(4//5) #divide & return in int type ans 0\n",
    "print(6//5) #divide & return in int type ans 1"
   ]
  },
  {
   "cell_type": "markdown",
   "id": "496761d8",
   "metadata": {},
   "source": [
    "#  Math Function"
   ]
  },
  {
   "cell_type": "code",
   "execution_count": 2,
   "id": "67f8ad27",
   "metadata": {},
   "outputs": [
    {
     "name": "stdout",
     "output_type": "stream",
     "text": [
      "10\n",
      "11\n",
      "15\n",
      "0b1010\n",
      "10\n",
      "1 2 3\n"
     ]
    }
   ],
   "source": [
    "print(round(10.4))\n",
    "print(round(10.7))\n",
    "\n",
    "print(abs(-15)) #neg to pos\n",
    "\n",
    "print(bin(10)) #convert num to binary\n",
    "print(int('1010', 2)) #convert bin to number\n",
    "\n",
    "a,b,c=1,2,3\n",
    "print(a,b,c)"
   ]
  },
  {
   "cell_type": "markdown",
   "id": "58c326af",
   "metadata": {},
   "source": [
    "# Augmented Assignment Operator"
   ]
  },
  {
   "cell_type": "code",
   "execution_count": 3,
   "id": "5731f519",
   "metadata": {},
   "outputs": [
    {
     "name": "stdout",
     "output_type": "stream",
     "text": [
      "15\n"
     ]
    }
   ],
   "source": [
    "num=10\n",
    "num+=5 #num-=5, num*=5, num/=5\n",
    "print(num)"
   ]
  },
  {
   "cell_type": "markdown",
   "id": "33b21a99",
   "metadata": {},
   "source": [
    "# str (string)"
   ]
  },
  {
   "cell_type": "code",
   "execution_count": 4,
   "id": "a9b31276",
   "metadata": {},
   "outputs": [
    {
     "name": "stdout",
     "output_type": "stream",
     "text": [
      "Jayesh Singh\n",
      "\n",
      "Jayesh\n",
      "Singh\n",
      "Raghuvanshi\n"
     ]
    }
   ],
   "source": [
    "name = \"Jayesh Singh\"\n",
    "multi_line_name = '''\n",
    "Jayesh\n",
    "Singh\n",
    "Raghuvanshi'''\n",
    "\n",
    "print(name)\n",
    "print(multi_line_name)"
   ]
  },
  {
   "cell_type": "code",
   "execution_count": 5,
   "id": "14ae10df",
   "metadata": {},
   "outputs": [
    {
     "name": "stdout",
     "output_type": "stream",
     "text": [
      "jayesh Raghuvanshi\n"
     ]
    }
   ],
   "source": [
    "first_name='jayesh'\n",
    "last_name='Raghuvanshi'\n",
    "name=first_name+' '+last_name\n",
    "print(name)"
   ]
  },
  {
   "cell_type": "markdown",
   "id": "24c1262a",
   "metadata": {},
   "source": [
    "# Type Conversion"
   ]
  },
  {
   "cell_type": "code",
   "execution_count": 6,
   "id": "9accb507",
   "metadata": {},
   "outputs": [
    {
     "name": "stdout",
     "output_type": "stream",
     "text": [
      "<class 'str'>\n",
      "<class 'int'>\n"
     ]
    }
   ],
   "source": [
    "a='140'\n",
    "print(type(a))\n",
    "b=int(a)\n",
    "print(type(b))"
   ]
  },
  {
   "cell_type": "markdown",
   "id": "079a265b",
   "metadata": {},
   "source": [
    "# Escape Sequence"
   ]
  },
  {
   "cell_type": "code",
   "execution_count": 7,
   "id": "95c7f544",
   "metadata": {},
   "outputs": [
    {
     "name": "stdout",
     "output_type": "stream",
     "text": [
      "It's a nice \"weather\" \n",
      " I hope you are enjoying it\n"
     ]
    }
   ],
   "source": [
    "weather= \"It\\'s a nice \\\"weather\\\" \\n I hope you are enjoying it\"\n",
    "# \\ means whatever comes after this is string\n",
    "# \\n new line\n",
    "#\\t tap space\n",
    "print(weather)"
   ]
  },
  {
   "cell_type": "markdown",
   "id": "d9b0eb0e",
   "metadata": {},
   "source": [
    "# Format String"
   ]
  },
  {
   "cell_type": "code",
   "execution_count": 8,
   "id": "565d3c85",
   "metadata": {},
   "outputs": [
    {
     "name": "stdout",
     "output_type": "stream",
     "text": [
      "Hello Jayesh Raghuvanshi, \n",
      " it's nice to meet you \n",
      " your id is 24\n"
     ]
    }
   ],
   "source": [
    "name = \"Jayesh Raghuvanshi\"\n",
    "Id=24\n",
    "print(f'Hello {name}, \\n it\\'s nice to meet you \\n your id is {Id}')"
   ]
  },
  {
   "cell_type": "markdown",
   "id": "dd0e3cc6",
   "metadata": {},
   "source": [
    "## <div class='alert alert-success'>String Slicing</div>"
   ]
  },
  {
   "cell_type": "code",
   "execution_count": 9,
   "id": "fe1623e7",
   "metadata": {},
   "outputs": [
    {
     "name": "stdout",
     "output_type": "stream",
     "text": [
      "0123456789\n",
      "0123456789\n",
      "456789\n",
      "0123456789\n",
      "0123\n",
      "01234\n",
      "02468\n"
     ]
    }
   ],
   "source": [
    "fun = '0123456789'\n",
    "#[start:End:Step_over]\n",
    "print(fun)\n",
    "print(fun[0:10]) #all\n",
    "print(fun[4:10]) #from index 4 to 10-1\n",
    "print(fun[0:])   #from index 0 to all\n",
    "print(fun[0:4])  #from index 0 to 3\n",
    "print(fun[:5])   #from index start to 4\n",
    "print(fun[::2])  #from start to end with skipping 2-1\n"
   ]
  },
  {
   "cell_type": "markdown",
   "id": "bbf12ea2",
   "metadata": {},
   "source": [
    "# Pass Checker"
   ]
  },
  {
   "cell_type": "code",
   "execution_count": 10,
   "id": "17e58199",
   "metadata": {},
   "outputs": [
    {
     "name": "stdout",
     "output_type": "stream",
     "text": [
      "Enter your user name: Rajput\n",
      "Enter your pass: 0110\n",
      "Rajput, your password is 4 digit long ****\n"
     ]
    }
   ],
   "source": [
    "user_name=input('Enter your user name: ')\n",
    "password = input('Enter your pass: ')\n",
    "\n",
    "pass_len = len(password)\n",
    "star = '*'* pass_len\n",
    "\n",
    "print(f'{user_name}, your password is {pass_len} digit long {star}')"
   ]
  },
  {
   "cell_type": "markdown",
   "id": "4c121e8f",
   "metadata": {},
   "source": [
    "# DOB calculator "
   ]
  },
  {
   "cell_type": "code",
   "execution_count": 11,
   "id": "9428fc67",
   "metadata": {},
   "outputs": [
    {
     "name": "stdout",
     "output_type": "stream",
     "text": [
      "Enter your DOB : 2000\n",
      "You are 22 year old\n"
     ]
    }
   ],
   "source": [
    "year = input('Enter your DOB : ')\n",
    "DOB = 2022 - int(year)\n",
    "print(f'You are {DOB} year old')"
   ]
  },
  {
   "cell_type": "markdown",
   "id": "89134c31",
   "metadata": {},
   "source": [
    "## <div class='alert alert-success'>List[]</div>"
   ]
  },
  {
   "cell_type": "markdown",
   "id": "51efec22",
   "metadata": {},
   "source": [
    "<div class='alert alert-info'>-> muttable <br>\n",
    "-> index sequence start from 0 to n</div>"
   ]
  },
  {
   "cell_type": "code",
   "execution_count": 12,
   "id": "5061f9d3",
   "metadata": {},
   "outputs": [
    {
     "name": "stdout",
     "output_type": "stream",
     "text": [
      "[['9'], '2', '3', '4', '5']\n",
      "[['9'], '2', '3', '4', '5']\n",
      "[['10'], '7', '8']\n",
      "['6', '7', '8']\n"
     ]
    }
   ],
   "source": [
    "list = ['1','2','3','4','5']\n",
    "list2 = ['6','7','8']\n",
    "\n",
    "list3 = list  # here we are saying they both are equal, so a changes in one will affect other\n",
    "list3[0] = ['9']\n",
    "print(list3)\n",
    "print(list)\n",
    "\n",
    "list4 = list2[:] # here we are just copying the value of list2 into list4, so changes of list 4 will not affect list2\n",
    "list4[0] = ['10']\n",
    "print(list4)\n",
    "print(list2)"
   ]
  },
  {
   "cell_type": "markdown",
   "id": "d7073ec1",
   "metadata": {},
   "source": [
    "## <div class='alert alert-success'> Method</div>"
   ]
  },
  {
   "cell_type": "raw",
   "id": "a9df7a50",
   "metadata": {},
   "source": [
    ".append()"
   ]
  },
  {
   "cell_type": "code",
   "execution_count": 13,
   "id": "71dce6d2",
   "metadata": {},
   "outputs": [
    {
     "name": "stdout",
     "output_type": "stream",
     "text": [
      "[1, 2, 3, 4, 5, 6]\n",
      "None\n",
      "[1, 2, 3, 4, 5, 6, 7, 7]\n"
     ]
    }
   ],
   "source": [
    "list = [1,2,3,4,5]\n",
    "list.append(6)\n",
    "print(list)\n",
    "\n",
    "new_list = list.append(7) # here it will return none because append only changes value at a time\n",
    "print(new_list)\n",
    "\n",
    "# but if we do it like\n",
    "list.append(7)\n",
    "new_list=list\n",
    "print(new_list)"
   ]
  },
  {
   "cell_type": "raw",
   "id": "744ce22e",
   "metadata": {},
   "source": [
    ".insert()"
   ]
  },
  {
   "cell_type": "code",
   "execution_count": 14,
   "id": "299417c0",
   "metadata": {},
   "outputs": [
    {
     "name": "stdout",
     "output_type": "stream",
     "text": [
      "[1, 2, 3, 4, 6, 5]\n"
     ]
    }
   ],
   "source": [
    "list=[1,2,3,4,5]\n",
    "list.insert(4,6) #it will insert it at specified place,if there already element present then it will extend the later index by 1\n",
    "print(list)"
   ]
  },
  {
   "cell_type": "raw",
   "id": "daf93a9f",
   "metadata": {},
   "source": [
    ".pop(index_to_remove)  .remove(value_to_remove)"
   ]
  },
  {
   "cell_type": "code",
   "execution_count": 15,
   "id": "cacf16cd",
   "metadata": {},
   "outputs": [
    {
     "name": "stdout",
     "output_type": "stream",
     "text": [
      "[1, 2, 3, 4, 5, 7, 8, 9]\n",
      "[1, 2, 3, 4, 5, 7, 8]\n"
     ]
    }
   ],
   "source": [
    "list=[1,2,3,4,5,6,7,8,9]\n",
    "list.pop(5) # specified index value removed\n",
    "print(list)\n",
    "\n",
    "list.remove(9) # specified element removed\n",
    "print(list)"
   ]
  },
  {
   "cell_type": "raw",
   "id": "7e2d9371",
   "metadata": {},
   "source": [
    ".clear() -> delete all value"
   ]
  },
  {
   "cell_type": "code",
   "execution_count": 16,
   "id": "812820fc",
   "metadata": {},
   "outputs": [
    {
     "name": "stdout",
     "output_type": "stream",
     "text": [
      "[]\n"
     ]
    }
   ],
   "source": [
    "list.clear()\n",
    "print(list)"
   ]
  },
  {
   "cell_type": "raw",
   "id": "a2f43571",
   "metadata": {},
   "source": [
    ".index(value)  ->will show index of value mentioned"
   ]
  },
  {
   "cell_type": "code",
   "execution_count": 17,
   "id": "67d22085",
   "metadata": {},
   "outputs": [
    {
     "name": "stdout",
     "output_type": "stream",
     "text": [
      "2\n"
     ]
    }
   ],
   "source": [
    "list=['a','b','c','d']\n",
    "print(list.index('c'))"
   ]
  },
  {
   "cell_type": "raw",
   "id": "ea9eda59",
   "metadata": {},
   "source": [
    "in"
   ]
  },
  {
   "cell_type": "code",
   "execution_count": 18,
   "id": "420e3bdf",
   "metadata": {},
   "outputs": [
    {
     "name": "stdout",
     "output_type": "stream",
     "text": [
      "True\n",
      "True\n",
      "False\n"
     ]
    }
   ],
   "source": [
    "print('d' in list)\n",
    "\n",
    "print(\"Jayesh\" in \"Hello, my name is Jayesh Singh Raghuvanshi\")\n",
    "\n",
    "print(\"hello\" in list)"
   ]
  },
  {
   "cell_type": "markdown",
   "id": "7adf0273",
   "metadata": {},
   "source": [
    ".count(value)"
   ]
  },
  {
   "cell_type": "code",
   "execution_count": 19,
   "id": "d24c1a7e",
   "metadata": {},
   "outputs": [
    {
     "name": "stdout",
     "output_type": "stream",
     "text": [
      "3\n"
     ]
    }
   ],
   "source": [
    "list=['a','b','a','c','d','a']\n",
    "print(list.count('a'))"
   ]
  },
  {
   "cell_type": "raw",
   "id": "c92fb39f",
   "metadata": {},
   "source": [
    ".count(value)"
   ]
  },
  {
   "cell_type": "code",
   "execution_count": 20,
   "id": "f7d6b650",
   "metadata": {},
   "outputs": [
    {
     "name": "stdout",
     "output_type": "stream",
     "text": [
      "None\n",
      "None\n",
      "['a', 'b', 'c', 'd']\n",
      "[1, 2, 3, 4]\n"
     ]
    }
   ],
   "source": [
    "alpha=['d','b','c','a']\n",
    "num=[3,2,4,1]\n",
    "print(alpha.sort())\n",
    "print(num.sort())  \n",
    "\n",
    "alpha.sort()\n",
    "num.sort()\n",
    "print(alpha)\n",
    "print(num)"
   ]
  },
  {
   "cell_type": "raw",
   "id": "4c170884",
   "metadata": {},
   "source": [
    "sorted(list)\n",
    "\n",
    "->this one do not sort original list(array), it just create new list and stored the sorted value into it"
   ]
  },
  {
   "cell_type": "code",
   "execution_count": 21,
   "id": "1b84b391",
   "metadata": {},
   "outputs": [
    {
     "name": "stdout",
     "output_type": "stream",
     "text": [
      "['a', 'b', 'c', 'd']\n",
      "['d', 'b', 'c', 'a']\n"
     ]
    }
   ],
   "source": [
    "alpha=['d','b','c','a']\n",
    "\n",
    "print(sorted(alpha)) #it create new list, stored sorted value here\n",
    "print(alpha) # here the original list is unchanged"
   ]
  },
  {
   "cell_type": "markdown",
   "id": "a35d8e09",
   "metadata": {},
   "source": [
    "print(sorted(alpha)) #it create new list, stored sorted value here\n",
    "\n",
    "\n",
    "print(alpha) # here the original list is unchanged"
   ]
  },
  {
   "cell_type": "raw",
   "id": "cdc26702",
   "metadata": {},
   "source": [
    ".reverse()"
   ]
  },
  {
   "cell_type": "code",
   "execution_count": 22,
   "id": "c19145c1",
   "metadata": {},
   "outputs": [
    {
     "name": "stdout",
     "output_type": "stream",
     "text": [
      "['a', 'c', 'b', 'd']\n",
      "['d', 'b', 'c', 'a']\n"
     ]
    }
   ],
   "source": [
    "alpha=['d','b','c','a']\n",
    "alpha.reverse()\n",
    "print(alpha)\n",
    "\n",
    "# again reversing list to get original list\n",
    "print(alpha[::-1]) # to reverse list"
   ]
  },
  {
   "cell_type": "markdown",
   "id": "aafdec17",
   "metadata": {},
   "source": [
    "## <div class='alert alert-success'>list unpacking</div>"
   ]
  },
  {
   "cell_type": "code",
   "execution_count": 23,
   "id": "bf314abe",
   "metadata": {},
   "outputs": [
    {
     "name": "stdout",
     "output_type": "stream",
     "text": [
      "1\n",
      "2\n",
      "3\n",
      "[4, 5, 6, 7, 8, 9]\n"
     ]
    }
   ],
   "source": [
    "a,b,c, *any_name = [1,2,3,4,5,6,7,8,9]\n",
    "\n",
    "print(a)\n",
    "print(b)\n",
    "print(c)\n",
    "print(any_name)  #-> it will print all the rest of element after c"
   ]
  },
  {
   "cell_type": "code",
   "execution_count": 24,
   "id": "08ca37ac",
   "metadata": {},
   "outputs": [
    {
     "name": "stdout",
     "output_type": "stream",
     "text": [
      "3\n"
     ]
    }
   ],
   "source": [
    "print(c)"
   ]
  },
  {
   "cell_type": "markdown",
   "id": "2334e4b1",
   "metadata": {},
   "source": [
    "## <div class='alert alert-success'>Dictionary{} : key store value, key can be of any type as long as it it immutable</div>"
   ]
  },
  {
   "cell_type": "code",
   "execution_count": 25,
   "id": "60f8d6c7",
   "metadata": {},
   "outputs": [
    {
     "name": "stdout",
     "output_type": "stream",
     "text": [
      "{'name1': 'Jayesh Singh Raghuvanshi', 'roll1': 12011963, 'name2': 'Raj SIngh Raghuvanshi', 'roll2': 12011965}\n",
      "Raj SIngh Raghuvanshi\n",
      "12011965\n"
     ]
    }
   ],
   "source": [
    "# key store value, key can be of any type as long as it it immutable\n",
    "\n",
    "dic_name = {\n",
    "    'name1' : 'Jayesh Singh Raghuvanshi',\n",
    "    'roll1' : 12011963,\n",
    "    'name2' : \"Raj SIngh Raghuvanshi\",\n",
    "    'roll2' : 12011964,\n",
    "    'roll2' : 12011965\n",
    "}\n",
    "\n",
    "print(dic_name)\n",
    "print(dic_name['name2']) # name2 is key which store value RSR\n",
    "print(dic_name['roll2']) # roll2 value is updated from 12011964 to 12011965"
   ]
  },
  {
   "cell_type": "code",
   "execution_count": 26,
   "id": "4c6e9f72",
   "metadata": {},
   "outputs": [
    {
     "name": "stdout",
     "output_type": "stream",
     "text": [
      "dict_items([('name1', 'Jayesh Singh Raghuvanshi'), ('roll1', 12011963), ('name2', 'Raj SIngh Raghuvanshi'), ('roll2', 12011965)])\n"
     ]
    }
   ],
   "source": [
    "print(dic_name.items()) # .items will show all key with it value"
   ]
  },
  {
   "cell_type": "code",
   "execution_count": 27,
   "id": "c2e01f03",
   "metadata": {},
   "outputs": [],
   "source": [
    "dic_name.update({'roll2' : 12011964}) #it updated value of rool2\n",
    "\n",
    "dic_name.update({'name3': \"Saurabh Singh Raghuvanshi\"})  # if the key not available it will add it to dictionary"
   ]
  },
  {
   "cell_type": "markdown",
   "id": "d8601d2d",
   "metadata": {},
   "source": [
    "## <div class='alert alert-success'>Tuple</div>"
   ]
  },
  {
   "cell_type": "code",
   "execution_count": 28,
   "id": "b2d4c4d3",
   "metadata": {},
   "outputs": [
    {
     "name": "stdout",
     "output_type": "stream",
     "text": [
      "(1, 2, 3, 4, 5, 6)\n",
      "(2, 3)\n"
     ]
    }
   ],
   "source": [
    "my_tuple=(1,2,3,4,5,6)\n",
    "print(my_tuple)  # all list method can be applied on tuple too\n",
    "\n",
    "print(my_tuple[1:3])"
   ]
  },
  {
   "cell_type": "markdown",
   "id": "bccad0af",
   "metadata": {},
   "source": [
    "## <div class='alert alert-info'> Set{}: dict without key</div>"
   ]
  },
  {
   "cell_type": "code",
   "execution_count": 29,
   "id": "8bb6ac55",
   "metadata": {},
   "outputs": [
    {
     "name": "stdout",
     "output_type": "stream",
     "text": [
      "{1, 2, 3, 4, 5, 6}\n",
      "6\n"
     ]
    }
   ],
   "source": [
    "my_set={1,2,1,2,3,5,6,4,4}\n",
    "print(my_set)\n",
    "\n",
    "print(len(my_set)) # it will only count len of unique value because set only contain unique no. & ignore duplicate"
   ]
  },
  {
   "cell_type": "code",
   "execution_count": 30,
   "id": "8485999d",
   "metadata": {},
   "outputs": [
    {
     "name": "stdout",
     "output_type": "stream",
     "text": [
      "{1, 2, 3, 5}\n"
     ]
    }
   ],
   "source": [
    "# remove all the duplicate value of list\n",
    "\n",
    "my_list =[1,2,3,5,3,1,2,5]\n",
    "\n",
    "print(set(my_list)) #convert that list into set"
   ]
  },
  {
   "cell_type": "markdown",
   "id": "b8afc27d",
   "metadata": {},
   "source": [
    "## <div class='alert alert-success'> Hint</div>\n",
    "\n",
    "<div class=\"alert alert-info\"> list = [] -> muttable \n",
    "\n",
    "tuple = () -> immutable\n",
    "\n",
    "dict = {} -> key , value\n",
    "\n",
    "set = {} -> a dict without key, contain only unique value </div>"
   ]
  }
 ],
 "metadata": {
  "kernelspec": {
   "display_name": "Python 3 (ipykernel)",
   "language": "python",
   "name": "python3"
  },
  "language_info": {
   "codemirror_mode": {
    "name": "ipython",
    "version": 3
   },
   "file_extension": ".py",
   "mimetype": "text/x-python",
   "name": "python",
   "nbconvert_exporter": "python",
   "pygments_lexer": "ipython3",
   "version": "3.9.12"
  }
 },
 "nbformat": 4,
 "nbformat_minor": 5
}
