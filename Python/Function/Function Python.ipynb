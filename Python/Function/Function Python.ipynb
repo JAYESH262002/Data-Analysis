{
 "cells": [
  {
   "cell_type": "markdown",
   "id": "b6b08c53",
   "metadata": {},
   "source": [
    "### <div class='alert alert-info'>Function</div> "
   ]
  },
  {
   "cell_type": "code",
   "execution_count": 1,
   "id": "0f8b3983",
   "metadata": {},
   "outputs": [],
   "source": [
    "def case1():\n",
    "    print(\"Ram Ram Bhai\")"
   ]
  },
  {
   "cell_type": "code",
   "execution_count": 2,
   "id": "62ea9d3d",
   "metadata": {},
   "outputs": [
    {
     "name": "stdout",
     "output_type": "stream",
     "text": [
      "Ram Ram Bhai\n"
     ]
    }
   ],
   "source": [
    "case1()"
   ]
  },
  {
   "cell_type": "code",
   "execution_count": 3,
   "id": "7c67c4fb",
   "metadata": {},
   "outputs": [],
   "source": [
    "def case2():\n",
    "    return 1,2,3,[4,5,6,7,8,9], \"Namaste\""
   ]
  },
  {
   "cell_type": "code",
   "execution_count": 4,
   "id": "56d2739f",
   "metadata": {},
   "outputs": [],
   "source": [
    "a,b,c,d, e=case2()"
   ]
  },
  {
   "cell_type": "code",
   "execution_count": 5,
   "id": "4afb9531",
   "metadata": {},
   "outputs": [
    {
     "name": "stdout",
     "output_type": "stream",
     "text": [
      "1\n",
      "2\n",
      "3\n",
      "[4, 5, 6, 7, 8, 9]\n",
      "Namaste\n"
     ]
    }
   ],
   "source": [
    "print(a)\n",
    "print(b)\n",
    "print(c)\n",
    "print(d)\n",
    "print(e)"
   ]
  },
  {
   "cell_type": "markdown",
   "id": "a2a93ffa",
   "metadata": {},
   "source": [
    "### <font color='orange'>IP address</font>"
   ]
  },
  {
   "cell_type": "code",
   "execution_count": 6,
   "id": "5cd0839f",
   "metadata": {},
   "outputs": [
    {
     "data": {
      "text/plain": [
       "'192.168.18.7'"
      ]
     },
     "execution_count": 6,
     "metadata": {},
     "output_type": "execute_result"
    }
   ],
   "source": [
    "import socket\n",
    "socket.gethostbyname(socket.gethostname())"
   ]
  },
  {
   "cell_type": "markdown",
   "id": "a4ad8797",
   "metadata": {},
   "source": [
    "### <font color='orange'>Doc File</font>"
   ]
  },
  {
   "cell_type": "code",
   "execution_count": 7,
   "id": "04708d9c",
   "metadata": {},
   "outputs": [
    {
     "name": "stdout",
     "output_type": "stream",
     "text": [
      "Demonstration of DOCX support in calibre\n",
      "\n",
      "This document demonstrates the ability of the calibre DOCX Input plugin to convert the various typographic features in a Microsoft Word (2007 and newer) document. Convert this document to a modern ebook format, such as AZW3 for Kindles or EPUB for other ebook readers, to see it in action.\n",
      "\n",
      "There is support for images, tables, lists, footnotes, endnotes, links, dropcaps and various types of text and paragraph level formatting.\n",
      "\n",
      "To see the DOCX conversion in action, simply add this file to calibre using the “Add Books” button and then click “Convert”.  Set the output format in the top right corner of the conversion dialog to EPUB or AZW3 and click “OK”.\n"
     ]
    }
   ],
   "source": [
    "import docx2txt\n",
    "x=docx2txt.process('sample1.docx')\n",
    "print(x)"
   ]
  },
  {
   "cell_type": "code",
   "execution_count": null,
   "id": "5049a23e",
   "metadata": {},
   "outputs": [],
   "source": []
  },
  {
   "cell_type": "markdown",
   "id": "75570f46",
   "metadata": {},
   "source": [
    "### <font color='orange'>Input many argument in Function</font>"
   ]
  },
  {
   "cell_type": "code",
   "execution_count": 8,
   "id": "e6cdf80a",
   "metadata": {},
   "outputs": [],
   "source": [
    "def case3(*args):\n",
    "    return args"
   ]
  },
  {
   "cell_type": "code",
   "execution_count": 9,
   "id": "db56c8b4",
   "metadata": {},
   "outputs": [],
   "source": [
    "a = case3(1,2,3,9,8,7,[4,5,6])"
   ]
  },
  {
   "cell_type": "code",
   "execution_count": 10,
   "id": "5339a969",
   "metadata": {},
   "outputs": [
    {
     "data": {
      "text/plain": [
       "(1, 2, 3, 9, 8, 7, [4, 5, 6])"
      ]
     },
     "execution_count": 10,
     "metadata": {},
     "output_type": "execute_result"
    }
   ],
   "source": [
    "a"
   ]
  },
  {
   "cell_type": "code",
   "execution_count": 11,
   "id": "fa2889cf",
   "metadata": {
    "scrolled": true
   },
   "outputs": [
    {
     "data": {
      "text/plain": [
       "tuple"
      ]
     },
     "execution_count": 11,
     "metadata": {},
     "output_type": "execute_result"
    }
   ],
   "source": [
    "type(a)"
   ]
  },
  {
   "cell_type": "markdown",
   "id": "57a8803a",
   "metadata": {},
   "source": [
    "<font color='purple'>will return get the value as `tuple`.</font>"
   ]
  },
  {
   "cell_type": "code",
   "execution_count": null,
   "id": "1281cca4",
   "metadata": {},
   "outputs": [],
   "source": []
  },
  {
   "cell_type": "code",
   "execution_count": 12,
   "id": "a0697560",
   "metadata": {},
   "outputs": [],
   "source": [
    "def case4(**value):  #Key & Pair\n",
    "    return value\n",
    "    "
   ]
  },
  {
   "cell_type": "code",
   "execution_count": 13,
   "id": "af56e0dd",
   "metadata": {},
   "outputs": [
    {
     "data": {
      "text/plain": [
       "{'Name': 'Jayesh Singh Raghuvanshi', 'ID': 12011963, 'CGPA': 7.17}"
      ]
     },
     "execution_count": 13,
     "metadata": {},
     "output_type": "execute_result"
    }
   ],
   "source": [
    "case4(Name='Jayesh Singh Raghuvanshi', ID=12011963, CGPA = 7.17)"
   ]
  },
  {
   "cell_type": "code",
   "execution_count": null,
   "id": "dfb799ee",
   "metadata": {},
   "outputs": [],
   "source": []
  },
  {
   "cell_type": "markdown",
   "id": "66d2dede",
   "metadata": {},
   "source": [
    "## <div class='alert alert-info'> Decorator </div>"
   ]
  },
  {
   "cell_type": "code",
   "execution_count": 14,
   "id": "9b2ccf82",
   "metadata": {},
   "outputs": [],
   "source": [
    "import os"
   ]
  },
  {
   "cell_type": "code",
   "execution_count": 15,
   "id": "b0541c42",
   "metadata": {},
   "outputs": [],
   "source": [
    "def case5(fun):\n",
    "    print(\"Case5 successful\")\n",
    "    def case7():\n",
    "        print(\"Case7 successful\")\n",
    "    fun() # refering to case6 funtion\n",
    "    print(os.getcwd())\n",
    "    return case7()"
   ]
  },
  {
   "cell_type": "code",
   "execution_count": 16,
   "id": "914c0821",
   "metadata": {},
   "outputs": [
    {
     "name": "stdout",
     "output_type": "stream",
     "text": [
      "Case5 successful\n",
      "Case6 successful\n",
      "D:\\#DS_Code\\#INEURON\\Python\n",
      "Case7 successful\n"
     ]
    }
   ],
   "source": [
    "@case5\n",
    "def case6():\n",
    "    print(\"Case6 successful\")"
   ]
  },
  {
   "cell_type": "raw",
   "id": "1a017747",
   "metadata": {},
   "source": []
  },
  {
   "cell_type": "markdown",
   "id": "293a2cfb",
   "metadata": {},
   "source": [
    "### <font color='orange'>Execution Time of Code </font>"
   ]
  },
  {
   "cell_type": "code",
   "execution_count": 17,
   "id": "1b14f9ad",
   "metadata": {},
   "outputs": [],
   "source": [
    "import time"
   ]
  },
  {
   "cell_type": "code",
   "execution_count": 18,
   "id": "caaed9eb",
   "metadata": {},
   "outputs": [
    {
     "name": "stdout",
     "output_type": "stream",
     "text": [
      "Addition is:  20\n",
      "Substraction is:  -2\n",
      "Time taken to executed the program is:  0.0\n"
     ]
    }
   ],
   "source": [
    "start_time = time.time()\n",
    "def case8(): \n",
    "    #a=int(input(\"Enter Value A: \"))\n",
    "    #b=int(input(\"Enter Value B: \"))\n",
    "    a=9\n",
    "    b=11\n",
    "    print(\"Addition is: \",a+b)\n",
    "    print(\"Substraction is: \",a-b)\n",
    "case8()\n",
    "end_time   = time.time()\n",
    "\n",
    "print(\"Time taken to executed the program is: \", end_time - start_time)"
   ]
  },
  {
   "cell_type": "markdown",
   "id": "de06b8bd",
   "metadata": {},
   "source": [
    "<font color='purple'>This is also count how much it as to wait to get the input along with the excution time</font>"
   ]
  },
  {
   "cell_type": "code",
   "execution_count": null,
   "id": "eec827c1",
   "metadata": {},
   "outputs": [],
   "source": []
  },
  {
   "cell_type": "markdown",
   "id": "f5fdbcc7",
   "metadata": {},
   "source": [
    "### <font color='orange'>Lambda (Anonymous Funtion, used for basic eqn) </font>"
   ]
  },
  {
   "cell_type": "code",
   "execution_count": 19,
   "id": "1e3247e0",
   "metadata": {},
   "outputs": [],
   "source": [
    "def case9(a,b):\n",
    "    return a+b"
   ]
  },
  {
   "cell_type": "code",
   "execution_count": 20,
   "id": "2982aa53",
   "metadata": {},
   "outputs": [
    {
     "data": {
      "text/plain": [
       "14"
      ]
     },
     "execution_count": 20,
     "metadata": {},
     "output_type": "execute_result"
    }
   ],
   "source": [
    "case9(5,9)"
   ]
  },
  {
   "cell_type": "code",
   "execution_count": 21,
   "id": "530fe525",
   "metadata": {},
   "outputs": [],
   "source": [
    "cal = lambda a, b :a*b"
   ]
  },
  {
   "cell_type": "code",
   "execution_count": 22,
   "id": "2bee85da",
   "metadata": {},
   "outputs": [
    {
     "data": {
      "text/plain": [
       "56"
      ]
     },
     "execution_count": 22,
     "metadata": {},
     "output_type": "execute_result"
    }
   ],
   "source": [
    "cal(8, 7)"
   ]
  },
  {
   "cell_type": "code",
   "execution_count": 23,
   "id": "3961517c",
   "metadata": {},
   "outputs": [
    {
     "data": {
      "text/plain": [
       "14"
      ]
     },
     "execution_count": 23,
     "metadata": {},
     "output_type": "execute_result"
    }
   ],
   "source": [
    "x = lambda a,b,c,d: a+b*c%d\n",
    "x(8,6,4,9)"
   ]
  },
  {
   "cell_type": "raw",
   "id": "a42db430",
   "metadata": {},
   "source": []
  },
  {
   "cell_type": "markdown",
   "id": "712e59a8",
   "metadata": {},
   "source": [
    "### <font color='color'>Map</font>"
   ]
  },
  {
   "cell_type": "code",
   "execution_count": 24,
   "id": "ed9db943",
   "metadata": {},
   "outputs": [
    {
     "data": {
      "text/plain": [
       "[19, 18, 17, 16, 15, 14, 13, 13, 12, 11]"
      ]
     },
     "execution_count": 24,
     "metadata": {},
     "output_type": "execute_result"
    }
   ],
   "source": [
    "l = [9,8,7,6,5,4,3,3,2,1]\n",
    "#add 10 on every element\n",
    "l2=[]\n",
    "for i in l:\n",
    "    l2.append(i+10)\n",
    "l2"
   ]
  },
  {
   "cell_type": "code",
   "execution_count": 25,
   "id": "0012c824",
   "metadata": {},
   "outputs": [],
   "source": [
    "def case10(a):\n",
    "    return a+10"
   ]
  },
  {
   "cell_type": "code",
   "execution_count": 26,
   "id": "20719340",
   "metadata": {},
   "outputs": [
    {
     "data": {
      "text/plain": [
       "[19, 18, 17, 16, 15, 14, 13, 13, 12, 11]"
      ]
     },
     "execution_count": 26,
     "metadata": {},
     "output_type": "execute_result"
    }
   ],
   "source": [
    "list(map(case10, l))  #map(funtion, value)"
   ]
  },
  {
   "cell_type": "code",
   "execution_count": 27,
   "id": "a9ff23da",
   "metadata": {},
   "outputs": [
    {
     "data": {
      "text/plain": [
       "[19, 18, 17, 16, 15, 14, 13, 13, 12, 11]"
      ]
     },
     "execution_count": 27,
     "metadata": {},
     "output_type": "execute_result"
    }
   ],
   "source": [
    "list(map(lambda a:a+10, l))"
   ]
  },
  {
   "cell_type": "code",
   "execution_count": 28,
   "id": "f5e4a4d3",
   "metadata": {},
   "outputs": [
    {
     "data": {
      "text/plain": [
       "[8, 6, 4, 2]"
      ]
     },
     "execution_count": 28,
     "metadata": {},
     "output_type": "execute_result"
    }
   ],
   "source": [
    "l3=[]\n",
    "for i in l:\n",
    "    if(i%2==0):\n",
    "        l3.append(i)\n",
    "l3"
   ]
  },
  {
   "cell_type": "code",
   "execution_count": 29,
   "id": "fce00a7e",
   "metadata": {},
   "outputs": [
    {
     "data": {
      "text/plain": [
       "[8, 6, 4, 2]"
      ]
     },
     "execution_count": 29,
     "metadata": {},
     "output_type": "execute_result"
    }
   ],
   "source": [
    "[i for i in l if(i%2==0)]"
   ]
  },
  {
   "cell_type": "code",
   "execution_count": 30,
   "id": "541667ce",
   "metadata": {},
   "outputs": [],
   "source": [
    "x = lambda a:a if a%2==0 else None"
   ]
  },
  {
   "cell_type": "code",
   "execution_count": 31,
   "id": "fee7f6e4",
   "metadata": {},
   "outputs": [
    {
     "data": {
      "text/plain": [
       "[None, 8, None, 6, None, 4, None, None, 2, None]"
      ]
     },
     "execution_count": 31,
     "metadata": {},
     "output_type": "execute_result"
    }
   ],
   "source": [
    "list(map(x, l))"
   ]
  },
  {
   "cell_type": "markdown",
   "id": "92e1e438",
   "metadata": {},
   "source": [
    "Map here will goes through all the data, like linear search"
   ]
  },
  {
   "cell_type": "code",
   "execution_count": 32,
   "id": "18fd18fd",
   "metadata": {},
   "outputs": [
    {
     "data": {
      "text/plain": [
       "[8, 6, 4, 2]"
      ]
     },
     "execution_count": 32,
     "metadata": {},
     "output_type": "execute_result"
    }
   ],
   "source": [
    "list(filter(x, l))"
   ]
  },
  {
   "cell_type": "markdown",
   "id": "205b9d18",
   "metadata": {},
   "source": [
    "`filter`: will only show true cases"
   ]
  },
  {
   "cell_type": "code",
   "execution_count": 33,
   "id": "daefc7e7",
   "metadata": {},
   "outputs": [],
   "source": [
    "def case11(a):\n",
    "    if(a%2==0):\n",
    "        return True\n",
    "    else:\n",
    "        return False"
   ]
  },
  {
   "cell_type": "code",
   "execution_count": 34,
   "id": "3e603d86",
   "metadata": {},
   "outputs": [
    {
     "data": {
      "text/plain": [
       "[8, 6, 4, 2]"
      ]
     },
     "execution_count": 34,
     "metadata": {},
     "output_type": "execute_result"
    }
   ],
   "source": [
    "list(filter(case11, l))"
   ]
  },
  {
   "cell_type": "code",
   "execution_count": 35,
   "id": "1e1abfa3",
   "metadata": {},
   "outputs": [
    {
     "data": {
      "text/plain": [
       "[9, 8, 7, 6, 5, 4, 3, 3, 2, 1]"
      ]
     },
     "execution_count": 35,
     "metadata": {},
     "output_type": "execute_result"
    }
   ],
   "source": [
    "l"
   ]
  },
  {
   "cell_type": "code",
   "execution_count": 36,
   "id": "f4180519",
   "metadata": {},
   "outputs": [
    {
     "data": {
      "text/plain": [
       "48"
      ]
     },
     "execution_count": 36,
     "metadata": {},
     "output_type": "execute_result"
    }
   ],
   "source": [
    "sum(l)"
   ]
  },
  {
   "cell_type": "code",
   "execution_count": 37,
   "id": "e0b080a1",
   "metadata": {},
   "outputs": [
    {
     "data": {
      "text/plain": [
       "[81, 64, 49, 36, 25, 16, 9, 9, 4, 1]"
      ]
     },
     "execution_count": 37,
     "metadata": {},
     "output_type": "execute_result"
    }
   ],
   "source": [
    "list(map(lambda a: a*a, l))"
   ]
  },
  {
   "cell_type": "code",
   "execution_count": 38,
   "id": "af36a388",
   "metadata": {},
   "outputs": [],
   "source": [
    "from functools import reduce"
   ]
  },
  {
   "cell_type": "code",
   "execution_count": 39,
   "id": "bd4aee3b",
   "metadata": {},
   "outputs": [
    {
     "data": {
      "text/plain": [
       "1088640"
      ]
     },
     "execution_count": 39,
     "metadata": {},
     "output_type": "execute_result"
    }
   ],
   "source": [
    "reduce(lambda a,b:a*b, l)"
   ]
  },
  {
   "cell_type": "code",
   "execution_count": 40,
   "id": "97e2ee18",
   "metadata": {},
   "outputs": [
    {
     "data": {
      "text/plain": [
       "48"
      ]
     },
     "execution_count": 40,
     "metadata": {},
     "output_type": "execute_result"
    }
   ],
   "source": [
    "reduce(lambda a,b:a+b, l)"
   ]
  },
  {
   "cell_type": "code",
   "execution_count": 41,
   "id": "31b0a828",
   "metadata": {},
   "outputs": [
    {
     "data": {
      "text/plain": [
       "7"
      ]
     },
     "execution_count": 41,
     "metadata": {},
     "output_type": "execute_result"
    }
   ],
   "source": [
    "l2=[7]\n",
    "reduce(lambda a,b:a*b, l2)"
   ]
  },
  {
   "cell_type": "markdown",
   "id": "a009378c",
   "metadata": {},
   "source": [
    "If there only one element then it will return the same element, else it will check if it has enough argument to execute the problem."
   ]
  },
  {
   "cell_type": "code",
   "execution_count": 42,
   "id": "8a5c1376",
   "metadata": {},
   "outputs": [],
   "source": [
    "def case12(i:\"Int Value\", j:\"Int Value\")->int:\n",
    "    \"\"\"\n",
    "    This is a docstring used to give hint by calling 3quatation\"\"\"\n",
    "    print(\"Sum is \", i+j)"
   ]
  },
  {
   "cell_type": "code",
   "execution_count": 43,
   "id": "2843aac7",
   "metadata": {
    "scrolled": true
   },
   "outputs": [
    {
     "name": "stdout",
     "output_type": "stream",
     "text": [
      "Sum is  12\n"
     ]
    }
   ],
   "source": [
    "case12(5, 7)"
   ]
  },
  {
   "cell_type": "markdown",
   "id": "64836ba8",
   "metadata": {},
   "source": [
    "def case12(i`:\"Int Value\"`, j`:\"Int Value\"`)->int:\n",
    "\n",
    "    \"\"\"This is a docstring used to give hint by calling 3quatation\"\"\"\n",
    "    \n",
    "    print(\"Sum is \", i+j)"
   ]
  },
  {
   "cell_type": "markdown",
   "id": "766a3e46",
   "metadata": {},
   "source": [
    "Here the marked part used to create a Signature as prefessional"
   ]
  },
  {
   "cell_type": "code",
   "execution_count": null,
   "id": "09eefc98",
   "metadata": {},
   "outputs": [],
   "source": []
  }
 ],
 "metadata": {
  "kernelspec": {
   "display_name": "Python 3 (ipykernel)",
   "language": "python",
   "name": "python3"
  },
  "language_info": {
   "codemirror_mode": {
    "name": "ipython",
    "version": 3
   },
   "file_extension": ".py",
   "mimetype": "text/x-python",
   "name": "python",
   "nbconvert_exporter": "python",
   "pygments_lexer": "ipython3",
   "version": "3.9.12"
  }
 },
 "nbformat": 4,
 "nbformat_minor": 5
}
