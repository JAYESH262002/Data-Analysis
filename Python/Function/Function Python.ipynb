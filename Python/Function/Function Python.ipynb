{
 "cells": [
  {
   "cell_type": "markdown",
   "id": "b6b08c53",
   "metadata": {},
   "source": [
    "### <div class='alert alert-info'>Function</div> "
   ]
  },
  {
   "cell_type": "code",
   "execution_count": 1,
   "id": "0f8b3983",
   "metadata": {},
   "outputs": [],
   "source": [
    "def case1():\n",
    "    print(\"Ram Ram Bhai\")"
   ]
  },
  {
   "cell_type": "code",
   "execution_count": 2,
   "id": "62ea9d3d",
   "metadata": {},
   "outputs": [
    {
     "name": "stdout",
     "output_type": "stream",
     "text": [
      "Ram Ram Bhai\n"
     ]
    }
   ],
   "source": [
    "case1()"
   ]
  },
  {
   "cell_type": "code",
   "execution_count": 3,
   "id": "7c67c4fb",
   "metadata": {},
   "outputs": [],
   "source": [
    "def case2():\n",
    "    return 1,2,3,[4,5,6,7,8,9], \"Namaste\""
   ]
  },
  {
   "cell_type": "code",
   "execution_count": 4,
   "id": "56d2739f",
   "metadata": {},
   "outputs": [],
   "source": [
    "a,b,c,d, e=case2()"
   ]
  },
  {
   "cell_type": "code",
   "execution_count": 5,
   "id": "4afb9531",
   "metadata": {},
   "outputs": [
    {
     "name": "stdout",
     "output_type": "stream",
     "text": [
      "1\n",
      "2\n",
      "3\n",
      "[4, 5, 6, 7, 8, 9]\n",
      "Namaste\n"
     ]
    }
   ],
   "source": [
    "print(a)\n",
    "print(b)\n",
    "print(c)\n",
    "print(d)\n",
    "print(e)"
   ]
  },
  {
   "cell_type": "markdown",
   "id": "a2a93ffa",
   "metadata": {},
   "source": [
    "### <font color='orange'>IP address</font>"
   ]
  },
  {
   "cell_type": "code",
   "execution_count": 6,
   "id": "5cd0839f",
   "metadata": {},
   "outputs": [
    {
     "data": {
      "text/plain": [
       "'192.168.18.7'"
      ]
     },
     "execution_count": 6,
     "metadata": {},
     "output_type": "execute_result"
    }
   ],
   "source": [
    "import socket\n",
    "socket.gethostbyname(socket.gethostname())"
   ]
  },
  {
   "cell_type": "markdown",
   "id": "a4ad8797",
   "metadata": {},
   "source": [
    "### <font color='orange'>Doc File</font>"
   ]
  },
  {
   "cell_type": "code",
   "execution_count": 7,
   "id": "04708d9c",
   "metadata": {},
   "outputs": [
    {
     "name": "stdout",
     "output_type": "stream",
     "text": [
      "Demonstration of DOCX support in calibre\n",
      "\n",
      "This document demonstrates the ability of the calibre DOCX Input plugin to convert the various typographic features in a Microsoft Word (2007 and newer) document. Convert this document to a modern ebook format, such as AZW3 for Kindles or EPUB for other ebook readers, to see it in action.\n",
      "\n",
      "There is support for images, tables, lists, footnotes, endnotes, links, dropcaps and various types of text and paragraph level formatting.\n",
      "\n",
      "To see the DOCX conversion in action, simply add this file to calibre using the “Add Books” button and then click “Convert”.  Set the output format in the top right corner of the conversion dialog to EPUB or AZW3 and click “OK”.\n",
      "\n",
      "\n",
      "\n",
      "Text Formatting\n",
      "\n",
      "Inline formatting\n",
      "\n",
      "Here, we demonstrate various types of inline text formatting and the use of embedded fonts.\n",
      "\n",
      "Here is some bold, italic, bold-italic, underlined and struck out  text. Then, we have a superscript and a subscript. Now we see some red, green and blue text. Some text with a yellow highlight. Some text in a box. Some text in inverse video.\n",
      "\n",
      "A paragraph with styled text: subtle emphasis  followed by strong text and intense emphasis. This paragraph uses document wide styles for styling rather than inline text properties as demonstrated in the previous paragraph — calibre can handle both with equal ease.\n",
      "\n",
      "Fun with fonts\n",
      "\n",
      "This document has embedded the Ubuntu font family. The body text is in the Ubuntu typeface, here is some text in the Ubuntu Mono typeface, notice how every letter has the same width, even i and m. Every embedded font will automatically be embedded in the output ebook during conversion. \n",
      "\n",
      "Paragraph level formatting\n",
      "\n",
      "You can do crazy things with paragraphs, if the urge strikes you. For instance this paragraph is right aligned and has a right border. It has also been given a light gray background.\n",
      "\n",
      "For the lovers of poetry amongst you, paragraphs with hanging indents, like this often come in handy. You can use hanging indents to ensure that a line of poetry retains its individual identity as a line even when the screen is  too narrow to display it as a single line. Not only does this paragraph have a hanging indent, it is also has an extra top margin, setting it apart from the preceding paragraph.\n",
      "\n",
      "Tables\n",
      "\n",
      "ITEM\n",
      "\n",
      "NEEDED\n",
      "\n",
      "Books\n",
      "\n",
      "1\n",
      "\n",
      "Pens\n",
      "\n",
      "3\n",
      "\n",
      "Pencils\n",
      "\n",
      "2\n",
      "\n",
      "Highlighter\n",
      "\n",
      "2 colors\n",
      "\n",
      "Scissors\n",
      "\n",
      "1 pair\n",
      "\n",
      "Tables in Word can vary from the extremely simple to the extremely complex. calibre tries to do its best when converting tables. While you may run into trouble with the occasional table, the vast majority of common cases should be converted very well, as demonstrated in this section. Note that for optimum results, when creating tables in Word, you should set their widths using percentages, rather than absolute units.  To the left of this paragraph is a floating two column table with a nice green border and header row.\n",
      "\n",
      "Now let’s look at a fancier table—one with alternating row colors and partial borders. This table is stretched out to take 100% of the available width.\n",
      "\n",
      "City or Town\n",
      "\n",
      "Point A\n",
      "\n",
      "Point B\n",
      "\n",
      "Point C\n",
      "\n",
      "Point D\n",
      "\n",
      "Point E\n",
      "\n",
      "Point A\n",
      "\n",
      "—\n",
      "\n",
      "\n",
      "\n",
      "\n",
      "\n",
      "\n",
      "\n",
      "\n",
      "\n",
      "Point B\n",
      "\n",
      "87\n",
      "\n",
      "—\n",
      "\n",
      "\n",
      "\n",
      "\n",
      "\n",
      "\n",
      "\n",
      "Point C\n",
      "\n",
      "64\n",
      "\n",
      "56\n",
      "\n",
      "—\n",
      "\n",
      "\n",
      "\n",
      "\n",
      "\n",
      "Point D\n",
      "\n",
      "37\n",
      "\n",
      "32\n",
      "\n",
      "91\n",
      "\n",
      "—\n",
      "\n",
      "\n",
      "\n",
      "Point E\n",
      "\n",
      "93\n",
      "\n",
      "35\n",
      "\n",
      "54\n",
      "\n",
      "43\n",
      "\n",
      "—\n",
      "\n",
      "\n",
      "\n",
      "Next, we see a table with special formatting in various locations. Notice how the formatting for the header row and sub header rows is preserved.\n",
      "\n",
      "College\n",
      "\n",
      "New students\n",
      "\n",
      "Graduating students\n",
      "\n",
      "Change\n",
      "\n",
      "\n",
      "\n",
      "Undergraduate\n",
      "\n",
      "\n",
      "\n",
      "\n",
      "\n",
      "Cedar University\n",
      "\n",
      "110\n",
      "\n",
      "103\n",
      "\n",
      "+7\n",
      "\n",
      "Oak Institute\n",
      "\n",
      "202\n",
      "\n",
      "210\n",
      "\n",
      "-8\n",
      "\n",
      "\n",
      "\n",
      "Graduate\n",
      "\n",
      "\n",
      "\n",
      "\n",
      "\n",
      "Cedar University\n",
      "\n",
      "24\n",
      "\n",
      "20\n",
      "\n",
      "+4\n",
      "\n",
      "Elm College\n",
      "\n",
      "43\n",
      "\n",
      "53\n",
      "\n",
      "-10\n",
      "\n",
      "Total\n",
      "\n",
      "998\n",
      "\n",
      "908\n",
      "\n",
      "90\n",
      "\n",
      "Source: Fictitious data, for illustration purposes only\n",
      "\n",
      "Next, we have something a little more complex, a nested table, i.e. a table inside another table. Additionally, the inner table has some of its cells merged. The table is displayed horizontally centered.\n",
      "\n",
      "One\n",
      "\n",
      "Three\n",
      "\n",
      "Two\n",
      "\n",
      "\n",
      "\n",
      "Four\n",
      "\n",
      "\n",
      "\n",
      "To the left is a table inside a table, with some cells merged.\n",
      "\n",
      "\n",
      "\n",
      "We end with a fancy calendar, note how much of the original formatting is preserved. Note that this table will only display correctly on relatively wide screens. In general, very wide tables or tables whose cells have fixed width requirements don’t fare well in ebooks.\n",
      "\n",
      "December 2007\n",
      "\n",
      "Sun\n",
      "\n",
      "\n",
      "\n",
      "Mon\n",
      "\n",
      "\n",
      "\n",
      "Tue\n",
      "\n",
      "\n",
      "\n",
      "Wed\n",
      "\n",
      "\n",
      "\n",
      "Thu\n",
      "\n",
      "\n",
      "\n",
      "Fri\n",
      "\n",
      "\n",
      "\n",
      "Sat\n",
      "\n",
      "\n",
      "\n",
      "\n",
      "\n",
      "\n",
      "\n",
      "\n",
      "\n",
      "\n",
      "\n",
      "\n",
      "\n",
      "\n",
      "\n",
      "\n",
      "\n",
      "\n",
      "\n",
      "\n",
      "\n",
      "\n",
      "\n",
      "\n",
      "\n",
      "1\n",
      "\n",
      "\n",
      "\n",
      "\n",
      "\n",
      "\n",
      "\n",
      "\n",
      "\n",
      "\n",
      "\n",
      "\n",
      "\n",
      "\n",
      "\n",
      "\n",
      "\n",
      "\n",
      "\n",
      "\n",
      "\n",
      "\n",
      "\n",
      "\n",
      "\n",
      "\n",
      "\n",
      "2\n",
      "\n",
      "\n",
      "\n",
      "3\n",
      "\n",
      "\n",
      "\n",
      "4\n",
      "\n",
      "\n",
      "\n",
      "5\n",
      "\n",
      "\n",
      "\n",
      "6\n",
      "\n",
      "\n",
      "\n",
      "7\n",
      "\n",
      "\n",
      "\n",
      "8\n",
      "\n",
      "\n",
      "\n",
      "\n",
      "\n",
      "\n",
      "\n",
      "\n",
      "\n",
      "\n",
      "\n",
      "\n",
      "\n",
      "\n",
      "\n",
      "\n",
      "\n",
      "\n",
      "\n",
      "\n",
      "\n",
      "\n",
      "\n",
      "\n",
      "\n",
      "\n",
      "\n",
      "9\n",
      "\n",
      "\n",
      "\n",
      "10\n",
      "\n",
      "\n",
      "\n",
      "11\n",
      "\n",
      "\n",
      "\n",
      "12\n",
      "\n",
      "\n",
      "\n",
      "13\n",
      "\n",
      "\n",
      "\n",
      "14\n",
      "\n",
      "\n",
      "\n",
      "15\n",
      "\n",
      "\n",
      "\n",
      "\n",
      "\n",
      "\n",
      "\n",
      "\n",
      "\n",
      "\n",
      "\n",
      "\n",
      "\n",
      "\n",
      "\n",
      "\n",
      "\n",
      "\n",
      "\n",
      "\n",
      "\n",
      "\n",
      "\n",
      "\n",
      "\n",
      "\n",
      "\n",
      "16\n",
      "\n",
      "\n",
      "\n",
      "17\n",
      "\n",
      "\n",
      "\n",
      "18\n",
      "\n",
      "\n",
      "\n",
      "19\n",
      "\n",
      "\n",
      "\n",
      "20\n",
      "\n",
      "\n",
      "\n",
      "21\n",
      "\n",
      "\n",
      "\n",
      "22\n",
      "\n",
      "\n",
      "\n",
      "\n",
      "\n",
      "\n",
      "\n",
      "\n",
      "\n",
      "\n",
      "\n",
      "\n",
      "\n",
      "\n",
      "\n",
      "\n",
      "\n",
      "\n",
      "\n",
      "\n",
      "\n",
      "\n",
      "\n",
      "\n",
      "\n",
      "\n",
      "\n",
      "23\n",
      "\n",
      "\n",
      "\n",
      "24\n",
      "\n",
      "\n",
      "\n",
      "25\n",
      "\n",
      "\n",
      "\n",
      "26\n",
      "\n",
      "\n",
      "\n",
      "27\n",
      "\n",
      "\n",
      "\n",
      "28\n",
      "\n",
      "\n",
      "\n",
      "29\n",
      "\n",
      "\n",
      "\n",
      "\n",
      "\n",
      "\n",
      "\n",
      "\n",
      "\n",
      "\n",
      "\n",
      "\n",
      "\n",
      "\n",
      "\n",
      "\n",
      "\n",
      "\n",
      "\n",
      "\n",
      "\n",
      "\n",
      "\n",
      "\n",
      "\n",
      "\n",
      "\n",
      "30\n",
      "\n",
      "\n",
      "\n",
      "31\n",
      "\n",
      "\n",
      "\n",
      "\n",
      "\n",
      "\n",
      "\n",
      "\n",
      "\n",
      "\n",
      "\n",
      "\n",
      "\n",
      "\n",
      "\n",
      "\n",
      "\n",
      "\n",
      "\n",
      "\n",
      "\n",
      "Structural Elements\n",
      "\n",
      "Miscellaneous structural elements you can add to your document, like footnotes, endnotes, dropcaps and the like. \n",
      "\n",
      "Footnotes & Endnotes\n",
      "\n",
      "Footnotes and endnotes are automatically recognized and both are converted to endnotes, with backlinks for maximum ease of use in ebook devices.\n",
      "\n",
      "Dropcaps\n",
      "\n",
      "D\n",
      "\n",
      "rop caps are used to emphasize the leading paragraph at the start of a section. In Word it is possible to specify how many lines of text a drop-cap should use. Because of limitations in ebook technology, this is not possible when converting.  Instead, the converted drop cap will use font size and line height to simulate the effect as well as possible. While not as good as the original, the result is usually tolerable. This paragraph has a “D” dropcap set to occupy three lines of text with a font size of 58.5 pts. Depending on the screen width and capabilities of the device you view the book on, this dropcap can look anything from perfect to ugly.\n",
      "\n",
      "Links\n",
      "\n",
      "Two kinds of links are possible, those that refer to an external website and those that refer to locations inside the document itself. Both are supported by calibre. For example, here is a link pointing to the calibre download page. Then we have a link that points back to the section on paragraph level formatting in this document.\n",
      "\n",
      "Table of Contents\n",
      "\n",
      "There are two approaches that calibre takes when generating a Table of Contents. The first is if the Word document has a Table of Contents itself. Provided that the Table of Contents uses hyperlinks, calibre will automatically use it. The levels of the Table of Contents are identified by their left indent, so if you want the ebook to have a multi-level Table of Contents, make sure you create a properly indented Table of Contents in Word.\n",
      "\n",
      "If no Table of Contents is found in the document, then a table of contents is automatically generated from the headings in the document. A heading is identified as something that has the Heading 1 or Heading 2, etc. style applied to it. These headings are turned into a Table of Contents with Heading 1 being the topmost level, Heading 2 the second level and so on.\n",
      "\n",
      " You can see the Table of Contents created by calibre by clicking the Table of Contents button in whatever viewer you are using to view the converted ebook. \n",
      "\n",
      "\tDemonstration of DOCX support in calibre\t1\n",
      "\n",
      "\tText Formatting\t2\n",
      "\n",
      "\tInline formatting\t2\n",
      "\n",
      "\tFun with fonts\t2\n",
      "\n",
      "\tParagraph level formatting\t2\n",
      "\n",
      "\tTables\t3\n",
      "\n",
      "\tStructural Elements\t5\n",
      "\n",
      "\tFootnotes & Endnotes\t5\n",
      "\n",
      "\tDropcaps\t5\n",
      "\n",
      "\tLinks\t5\n",
      "\n",
      "\tTable of Contents\t5\n",
      "\n",
      "\tImages\t7\n",
      "\n",
      "\tLists\t8\n",
      "\n",
      "\tBulleted List\t8\n",
      "\n",
      "\tNumbered List\t8\n",
      "\n",
      "\tMulti-level Lists\t8\n",
      "\n",
      "\tContinued Lists\t8\n",
      "\n",
      "\n",
      "\n",
      "\n",
      "\n",
      "Images\n",
      "\n",
      "Images can be of three main types. Inline images are images that are part of the normal text flow, like this image of a green dot . Inline images do not cause breaks in the text and are usually small in size. The next category of image is a floating image, one that “floats “ on the page and is surrounded by text. Word supports more types of floating images than are possible with current ebook technology, so the conversion maps floating images to simple left and right floats, as you can see with the left and right arrow images on the sides of this paragraph.\n",
      "\n",
      "The final type of image is a “block” image, one that becomes a paragraph on its own and has no text on either side. Below is a centered green dot.\n",
      "\n",
      "Centered images like this are useful for large pictures that should be a focus of attention. \n",
      "\n",
      "Generally, it is not possible to translate the exact positioning of images from a Word document to an ebook. That is because in Word, image positioning is specified in absolute units from the page boundaries.  There is no analogous technology in ebooks, so the conversion will usually end up placing the image either centered or floating close to the point in the text where it was inserted, not necessarily where it appears on the page in Word.\n",
      "\n",
      "Lists\n",
      "\n",
      "All types of lists are supported by the conversion, with the exception of lists that use fancy bullets, these get converted to regular bullets.\n",
      "\n",
      "Bulleted List\n",
      "\n",
      "One\n",
      "\n",
      "Two\n",
      "\n",
      "Numbered List\n",
      "\n",
      "One, with a very long line to demonstrate that the hanging indent for the list is working correctly\n",
      "\n",
      "Two\n",
      "\n",
      "Multi-level Lists\n",
      "\n",
      "One\n",
      "\n",
      "Two\n",
      "\n",
      "Three\n",
      "\n",
      "Four with a very long line to demonstrate that the hanging indent for the list is working correctly.\n",
      "\n",
      "Five\n",
      "\n",
      "Six\n",
      "\n",
      "A Multi-level list with bullets:\n",
      "\n",
      "One\n",
      "\n",
      "Two\n",
      "\n",
      "This bullet uses an image as the bullet item\n",
      "\n",
      "Four\n",
      "\n",
      "Five\n",
      "\n",
      "Continued Lists\n",
      "\n",
      "One\n",
      "\n",
      "Two\n",
      "\n",
      "An interruption in our regularly scheduled listing, for this essential and very relevant public service announcement.\n",
      "\n",
      "We now resume our normal programming\n",
      "\n",
      "Four\n"
     ]
    }
   ],
   "source": [
    "import docx2txt\n",
    "x=docx2txt.process('sample1.docx')\n",
    "print(x)"
   ]
  },
  {
   "cell_type": "code",
   "execution_count": null,
   "id": "5049a23e",
   "metadata": {},
   "outputs": [],
   "source": []
  },
  {
   "cell_type": "markdown",
   "id": "75570f46",
   "metadata": {},
   "source": [
    "### <font color='orange'>Input many argument in Function</font>"
   ]
  },
  {
   "cell_type": "code",
   "execution_count": 8,
   "id": "e6cdf80a",
   "metadata": {},
   "outputs": [],
   "source": [
    "def case3(*args):\n",
    "    return args"
   ]
  },
  {
   "cell_type": "code",
   "execution_count": 9,
   "id": "db56c8b4",
   "metadata": {},
   "outputs": [],
   "source": [
    "a = case3(1,2,3,9,8,7,[4,5,6])"
   ]
  },
  {
   "cell_type": "code",
   "execution_count": 10,
   "id": "5339a969",
   "metadata": {},
   "outputs": [
    {
     "data": {
      "text/plain": [
       "(1, 2, 3, 9, 8, 7, [4, 5, 6])"
      ]
     },
     "execution_count": 10,
     "metadata": {},
     "output_type": "execute_result"
    }
   ],
   "source": [
    "a"
   ]
  },
  {
   "cell_type": "code",
   "execution_count": 11,
   "id": "fa2889cf",
   "metadata": {
    "scrolled": true
   },
   "outputs": [
    {
     "data": {
      "text/plain": [
       "tuple"
      ]
     },
     "execution_count": 11,
     "metadata": {},
     "output_type": "execute_result"
    }
   ],
   "source": [
    "type(a)"
   ]
  },
  {
   "cell_type": "markdown",
   "id": "57a8803a",
   "metadata": {},
   "source": [
    "<font color='purple'>will return get the value as `tuple`.</font>"
   ]
  },
  {
   "cell_type": "code",
   "execution_count": null,
   "id": "1281cca4",
   "metadata": {},
   "outputs": [],
   "source": []
  },
  {
   "cell_type": "code",
   "execution_count": 12,
   "id": "a0697560",
   "metadata": {},
   "outputs": [],
   "source": [
    "def case4(**value):  #Key & Pair\n",
    "    return value\n",
    "    "
   ]
  },
  {
   "cell_type": "code",
   "execution_count": 13,
   "id": "af56e0dd",
   "metadata": {},
   "outputs": [
    {
     "data": {
      "text/plain": [
       "{'Name': 'Jayesh Singh Raghuvanshi', 'ID': 12011963, 'CGPA': 7.17}"
      ]
     },
     "execution_count": 13,
     "metadata": {},
     "output_type": "execute_result"
    }
   ],
   "source": [
    "case4(Name='Jayesh Singh Raghuvanshi', ID=12011963, CGPA = 7.17)"
   ]
  },
  {
   "cell_type": "code",
   "execution_count": null,
   "id": "dfb799ee",
   "metadata": {},
   "outputs": [],
   "source": []
  },
  {
   "cell_type": "markdown",
   "id": "66d2dede",
   "metadata": {},
   "source": [
    "## <div class='alert alert-info'> Decorator </div>"
   ]
  },
  {
   "cell_type": "code",
   "execution_count": 14,
   "id": "9b2ccf82",
   "metadata": {},
   "outputs": [],
   "source": [
    "import os"
   ]
  },
  {
   "cell_type": "code",
   "execution_count": 15,
   "id": "b0541c42",
   "metadata": {},
   "outputs": [],
   "source": [
    "def case5(fun):\n",
    "    print(\"Case5 successful\")\n",
    "    def case7():\n",
    "        print(\"Case7 successful\")\n",
    "    fun() # refering to case6 funtion\n",
    "    print(os.getcwd())\n",
    "    return case7()"
   ]
  },
  {
   "cell_type": "code",
   "execution_count": 16,
   "id": "914c0821",
   "metadata": {},
   "outputs": [
    {
     "name": "stdout",
     "output_type": "stream",
     "text": [
      "Case5 successful\n",
      "Case6 successful\n",
      "D:\\#DS_Code\\#INEURON\\Python\n",
      "Case7 successful\n"
     ]
    }
   ],
   "source": [
    "@case5\n",
    "def case6():\n",
    "    print(\"Case6 successful\")"
   ]
  },
  {
   "cell_type": "raw",
   "id": "1a017747",
   "metadata": {},
   "source": []
  },
  {
   "cell_type": "markdown",
   "id": "293a2cfb",
   "metadata": {},
   "source": [
    "### <font color='orange'>Execution Time of Code </font>"
   ]
  },
  {
   "cell_type": "code",
   "execution_count": 17,
   "id": "1b14f9ad",
   "metadata": {},
   "outputs": [],
   "source": [
    "import time"
   ]
  },
  {
   "cell_type": "code",
   "execution_count": 18,
   "id": "caaed9eb",
   "metadata": {},
   "outputs": [
    {
     "name": "stdout",
     "output_type": "stream",
     "text": [
      "Addition is:  20\n",
      "Substraction is:  -2\n",
      "Time taken to executed the program is:  0.0\n"
     ]
    }
   ],
   "source": [
    "start_time = time.time()\n",
    "def case8(): \n",
    "    #a=int(input(\"Enter Value A: \"))\n",
    "    #b=int(input(\"Enter Value B: \"))\n",
    "    a=9\n",
    "    b=11\n",
    "    print(\"Addition is: \",a+b)\n",
    "    print(\"Substraction is: \",a-b)\n",
    "case8()\n",
    "end_time   = time.time()\n",
    "\n",
    "print(\"Time taken to executed the program is: \", end_time - start_time)"
   ]
  },
  {
   "cell_type": "markdown",
   "id": "de06b8bd",
   "metadata": {},
   "source": [
    "<font color='purple'>This is also count how much it as to wait to get the input along with the excution time</font>"
   ]
  },
  {
   "cell_type": "code",
   "execution_count": null,
   "id": "eec827c1",
   "metadata": {},
   "outputs": [],
   "source": []
  },
  {
   "cell_type": "markdown",
   "id": "f5fdbcc7",
   "metadata": {},
   "source": [
    "### <font color='orange'>Lambda (Anonymous Funtion, used for basic eqn) </font>"
   ]
  },
  {
   "cell_type": "code",
   "execution_count": 19,
   "id": "1e3247e0",
   "metadata": {},
   "outputs": [],
   "source": [
    "def case9(a,b):\n",
    "    return a+b"
   ]
  },
  {
   "cell_type": "code",
   "execution_count": 20,
   "id": "2982aa53",
   "metadata": {},
   "outputs": [
    {
     "data": {
      "text/plain": [
       "14"
      ]
     },
     "execution_count": 20,
     "metadata": {},
     "output_type": "execute_result"
    }
   ],
   "source": [
    "case9(5,9)"
   ]
  },
  {
   "cell_type": "code",
   "execution_count": 21,
   "id": "530fe525",
   "metadata": {},
   "outputs": [],
   "source": [
    "cal = lambda a, b :a*b"
   ]
  },
  {
   "cell_type": "code",
   "execution_count": 22,
   "id": "2bee85da",
   "metadata": {},
   "outputs": [
    {
     "data": {
      "text/plain": [
       "56"
      ]
     },
     "execution_count": 22,
     "metadata": {},
     "output_type": "execute_result"
    }
   ],
   "source": [
    "cal(8, 7)"
   ]
  },
  {
   "cell_type": "code",
   "execution_count": 23,
   "id": "3961517c",
   "metadata": {},
   "outputs": [
    {
     "data": {
      "text/plain": [
       "14"
      ]
     },
     "execution_count": 23,
     "metadata": {},
     "output_type": "execute_result"
    }
   ],
   "source": [
    "x = lambda a,b,c,d: a+b*c%d\n",
    "x(8,6,4,9)"
   ]
  },
  {
   "cell_type": "raw",
   "id": "a42db430",
   "metadata": {},
   "source": []
  },
  {
   "cell_type": "markdown",
   "id": "712e59a8",
   "metadata": {},
   "source": [
    "### <font color='color'>Map</font>"
   ]
  },
  {
   "cell_type": "code",
   "execution_count": 24,
   "id": "ed9db943",
   "metadata": {},
   "outputs": [
    {
     "data": {
      "text/plain": [
       "[19, 18, 17, 16, 15, 14, 13, 13, 12, 11]"
      ]
     },
     "execution_count": 24,
     "metadata": {},
     "output_type": "execute_result"
    }
   ],
   "source": [
    "l = [9,8,7,6,5,4,3,3,2,1]\n",
    "#add 10 on every element\n",
    "l2=[]\n",
    "for i in l:\n",
    "    l2.append(i+10)\n",
    "l2"
   ]
  },
  {
   "cell_type": "code",
   "execution_count": 25,
   "id": "0012c824",
   "metadata": {},
   "outputs": [],
   "source": [
    "def case10(a):\n",
    "    return a+10"
   ]
  },
  {
   "cell_type": "code",
   "execution_count": 26,
   "id": "20719340",
   "metadata": {},
   "outputs": [
    {
     "data": {
      "text/plain": [
       "[19, 18, 17, 16, 15, 14, 13, 13, 12, 11]"
      ]
     },
     "execution_count": 26,
     "metadata": {},
     "output_type": "execute_result"
    }
   ],
   "source": [
    "list(map(case10, l))  #map(funtion, value)"
   ]
  },
  {
   "cell_type": "code",
   "execution_count": 27,
   "id": "a9ff23da",
   "metadata": {},
   "outputs": [
    {
     "data": {
      "text/plain": [
       "[19, 18, 17, 16, 15, 14, 13, 13, 12, 11]"
      ]
     },
     "execution_count": 27,
     "metadata": {},
     "output_type": "execute_result"
    }
   ],
   "source": [
    "list(map(lambda a:a+10, l))"
   ]
  },
  {
   "cell_type": "code",
   "execution_count": 28,
   "id": "f5e4a4d3",
   "metadata": {},
   "outputs": [
    {
     "data": {
      "text/plain": [
       "[8, 6, 4, 2]"
      ]
     },
     "execution_count": 28,
     "metadata": {},
     "output_type": "execute_result"
    }
   ],
   "source": [
    "l3=[]\n",
    "for i in l:\n",
    "    if(i%2==0):\n",
    "        l3.append(i)\n",
    "l3"
   ]
  },
  {
   "cell_type": "code",
   "execution_count": 29,
   "id": "fce00a7e",
   "metadata": {},
   "outputs": [
    {
     "data": {
      "text/plain": [
       "[8, 6, 4, 2]"
      ]
     },
     "execution_count": 29,
     "metadata": {},
     "output_type": "execute_result"
    }
   ],
   "source": [
    "[i for i in l if(i%2==0)]"
   ]
  },
  {
   "cell_type": "code",
   "execution_count": 30,
   "id": "541667ce",
   "metadata": {},
   "outputs": [],
   "source": [
    "x = lambda a:a if a%2==0 else None"
   ]
  },
  {
   "cell_type": "code",
   "execution_count": 31,
   "id": "fee7f6e4",
   "metadata": {},
   "outputs": [
    {
     "data": {
      "text/plain": [
       "[None, 8, None, 6, None, 4, None, None, 2, None]"
      ]
     },
     "execution_count": 31,
     "metadata": {},
     "output_type": "execute_result"
    }
   ],
   "source": [
    "list(map(x, l))"
   ]
  },
  {
   "cell_type": "markdown",
   "id": "92e1e438",
   "metadata": {},
   "source": [
    "Map here will goes through all the data, like linear search"
   ]
  },
  {
   "cell_type": "code",
   "execution_count": 32,
   "id": "18fd18fd",
   "metadata": {},
   "outputs": [
    {
     "data": {
      "text/plain": [
       "[8, 6, 4, 2]"
      ]
     },
     "execution_count": 32,
     "metadata": {},
     "output_type": "execute_result"
    }
   ],
   "source": [
    "list(filter(x, l))"
   ]
  },
  {
   "cell_type": "markdown",
   "id": "205b9d18",
   "metadata": {},
   "source": [
    "`filter`: will only show true cases"
   ]
  },
  {
   "cell_type": "code",
   "execution_count": 33,
   "id": "daefc7e7",
   "metadata": {},
   "outputs": [],
   "source": [
    "def case11(a):\n",
    "    if(a%2==0):\n",
    "        return True\n",
    "    else:\n",
    "        return False"
   ]
  },
  {
   "cell_type": "code",
   "execution_count": 34,
   "id": "3e603d86",
   "metadata": {},
   "outputs": [
    {
     "data": {
      "text/plain": [
       "[8, 6, 4, 2]"
      ]
     },
     "execution_count": 34,
     "metadata": {},
     "output_type": "execute_result"
    }
   ],
   "source": [
    "list(filter(case11, l))"
   ]
  },
  {
   "cell_type": "code",
   "execution_count": 35,
   "id": "1e1abfa3",
   "metadata": {},
   "outputs": [
    {
     "data": {
      "text/plain": [
       "[9, 8, 7, 6, 5, 4, 3, 3, 2, 1]"
      ]
     },
     "execution_count": 35,
     "metadata": {},
     "output_type": "execute_result"
    }
   ],
   "source": [
    "l"
   ]
  },
  {
   "cell_type": "code",
   "execution_count": 36,
   "id": "f4180519",
   "metadata": {},
   "outputs": [
    {
     "data": {
      "text/plain": [
       "48"
      ]
     },
     "execution_count": 36,
     "metadata": {},
     "output_type": "execute_result"
    }
   ],
   "source": [
    "sum(l)"
   ]
  },
  {
   "cell_type": "code",
   "execution_count": 37,
   "id": "e0b080a1",
   "metadata": {},
   "outputs": [
    {
     "data": {
      "text/plain": [
       "[81, 64, 49, 36, 25, 16, 9, 9, 4, 1]"
      ]
     },
     "execution_count": 37,
     "metadata": {},
     "output_type": "execute_result"
    }
   ],
   "source": [
    "list(map(lambda a: a*a, l))"
   ]
  },
  {
   "cell_type": "code",
   "execution_count": 38,
   "id": "af36a388",
   "metadata": {},
   "outputs": [],
   "source": [
    "from functools import reduce"
   ]
  },
  {
   "cell_type": "code",
   "execution_count": 39,
   "id": "bd4aee3b",
   "metadata": {},
   "outputs": [
    {
     "data": {
      "text/plain": [
       "1088640"
      ]
     },
     "execution_count": 39,
     "metadata": {},
     "output_type": "execute_result"
    }
   ],
   "source": [
    "reduce(lambda a,b:a*b, l)"
   ]
  },
  {
   "cell_type": "code",
   "execution_count": 40,
   "id": "97e2ee18",
   "metadata": {},
   "outputs": [
    {
     "data": {
      "text/plain": [
       "48"
      ]
     },
     "execution_count": 40,
     "metadata": {},
     "output_type": "execute_result"
    }
   ],
   "source": [
    "reduce(lambda a,b:a+b, l)"
   ]
  },
  {
   "cell_type": "code",
   "execution_count": 41,
   "id": "31b0a828",
   "metadata": {},
   "outputs": [
    {
     "data": {
      "text/plain": [
       "7"
      ]
     },
     "execution_count": 41,
     "metadata": {},
     "output_type": "execute_result"
    }
   ],
   "source": [
    "l2=[7]\n",
    "reduce(lambda a,b:a*b, l2)"
   ]
  },
  {
   "cell_type": "markdown",
   "id": "a009378c",
   "metadata": {},
   "source": [
    "If there only one element then it will return the same element, else it will check if it has enough argument to execute the problem."
   ]
  },
  {
   "cell_type": "code",
   "execution_count": 42,
   "id": "8a5c1376",
   "metadata": {},
   "outputs": [],
   "source": [
    "def case12(i:\"Int Value\", j:\"Int Value\")->int:\n",
    "    \"\"\"\n",
    "    This is a docstring used to give hint by calling 3quatation\"\"\"\n",
    "    print(\"Sum is \", i+j)"
   ]
  },
  {
   "cell_type": "code",
   "execution_count": 43,
   "id": "2843aac7",
   "metadata": {},
   "outputs": [
    {
     "name": "stdout",
     "output_type": "stream",
     "text": [
      "Sum is  12\n"
     ]
    }
   ],
   "source": [
    "case12(5, 7)"
   ]
  },
  {
   "cell_type": "markdown",
   "id": "64836ba8",
   "metadata": {},
   "source": [
    "def case12(i`:\"Int Value\"`, j`:\"Int Value\"`)->int:\n",
    "\n",
    "    \"\"\"This is a docstring used to give hint by calling 3quatation\"\"\"\n",
    "    \n",
    "    print(\"Sum is \", i+j)"
   ]
  },
  {
   "cell_type": "markdown",
   "id": "766a3e46",
   "metadata": {},
   "source": [
    "Here the marked part used to create a Signature as prefessional"
   ]
  },
  {
   "cell_type": "code",
   "execution_count": null,
   "id": "09eefc98",
   "metadata": {},
   "outputs": [],
   "source": []
  }
 ],
 "metadata": {
  "kernelspec": {
   "display_name": "Python 3 (ipykernel)",
   "language": "python",
   "name": "python3"
  },
  "language_info": {
   "codemirror_mode": {
    "name": "ipython",
    "version": 3
   },
   "file_extension": ".py",
   "mimetype": "text/x-python",
   "name": "python",
   "nbconvert_exporter": "python",
   "pygments_lexer": "ipython3",
   "version": "3.9.12"
  }
 },
 "nbformat": 4,
 "nbformat_minor": 5
}
