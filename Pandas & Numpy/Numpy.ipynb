{
 "cells": [
  {
   "cell_type": "markdown",
   "id": "8b60718e",
   "metadata": {},
   "source": [
    "### <center><div class='alert alert-info'>Numpy</div></center>"
   ]
  },
  {
   "cell_type": "code",
   "execution_count": 1,
   "id": "db7f0499",
   "metadata": {},
   "outputs": [],
   "source": [
    "import numpy as np"
   ]
  },
  {
   "cell_type": "code",
   "execution_count": 2,
   "id": "9b87c01b",
   "metadata": {},
   "outputs": [],
   "source": [
    "lst = ['Jayesh Raghuvanshi', 'Raj Raghuvanshi', 1,12,123,1234]"
   ]
  },
  {
   "cell_type": "code",
   "execution_count": 3,
   "id": "13c0b68c",
   "metadata": {},
   "outputs": [
    {
     "data": {
      "text/plain": [
       "list"
      ]
     },
     "execution_count": 3,
     "metadata": {},
     "output_type": "execute_result"
    }
   ],
   "source": [
    "type(lst)"
   ]
  },
  {
   "cell_type": "code",
   "execution_count": 4,
   "id": "a3db9d1e",
   "metadata": {},
   "outputs": [
    {
     "data": {
      "text/plain": [
       "array(['Jayesh Raghuvanshi', 'Raj Raghuvanshi', '1', '12', '123', '1234'],\n",
       "      dtype='<U18')"
      ]
     },
     "execution_count": 4,
     "metadata": {},
     "output_type": "execute_result"
    }
   ],
   "source": [
    "np.array(lst)"
   ]
  },
  {
   "cell_type": "code",
   "execution_count": 5,
   "id": "a4a7943a",
   "metadata": {},
   "outputs": [
    {
     "data": {
      "text/plain": [
       "numpy.ndarray"
      ]
     },
     "execution_count": 5,
     "metadata": {},
     "output_type": "execute_result"
    }
   ],
   "source": [
    "type(np.array(lst))"
   ]
  },
  {
   "cell_type": "code",
   "execution_count": 6,
   "id": "d7a8b144",
   "metadata": {},
   "outputs": [
    {
     "data": {
      "text/plain": [
       "array([1. , 2. , 3. , 4. , 5.6])"
      ]
     },
     "execution_count": 6,
     "metadata": {},
     "output_type": "execute_result"
    }
   ],
   "source": [
    "np.array([1,2,3,4,5.6])"
   ]
  },
  {
   "cell_type": "code",
   "execution_count": 7,
   "id": "16a2028b",
   "metadata": {},
   "outputs": [],
   "source": [
    "a=np.array([[1,2,3],[4,5,6],[7,8,9]])"
   ]
  },
  {
   "cell_type": "code",
   "execution_count": 8,
   "id": "2e206381",
   "metadata": {},
   "outputs": [
    {
     "data": {
      "text/plain": [
       "array([[1, 2, 3],\n",
       "       [4, 5, 6],\n",
       "       [7, 8, 9]])"
      ]
     },
     "execution_count": 8,
     "metadata": {},
     "output_type": "execute_result"
    }
   ],
   "source": [
    "a"
   ]
  },
  {
   "cell_type": "code",
   "execution_count": 9,
   "id": "bb9a9d0c",
   "metadata": {},
   "outputs": [
    {
     "data": {
      "text/plain": [
       "6"
      ]
     },
     "execution_count": 9,
     "metadata": {},
     "output_type": "execute_result"
    }
   ],
   "source": [
    "a[1][2]"
   ]
  },
  {
   "cell_type": "code",
   "execution_count": 10,
   "id": "0814d137",
   "metadata": {},
   "outputs": [],
   "source": [
    "b=np.array([1,2,3,4,5,6], ndmin=4)"
   ]
  },
  {
   "cell_type": "code",
   "execution_count": 11,
   "id": "53a3e84d",
   "metadata": {},
   "outputs": [
    {
     "data": {
      "text/plain": [
       "1"
      ]
     },
     "execution_count": 11,
     "metadata": {},
     "output_type": "execute_result"
    }
   ],
   "source": [
    "b[0][0][0][0]"
   ]
  },
  {
   "cell_type": "code",
   "execution_count": 12,
   "id": "ca90413a",
   "metadata": {},
   "outputs": [
    {
     "data": {
      "text/plain": [
       "array([1, 2, 3, 4])"
      ]
     },
     "execution_count": 12,
     "metadata": {},
     "output_type": "execute_result"
    }
   ],
   "source": [
    "np.asarray([1,2,3,4])"
   ]
  },
  {
   "cell_type": "code",
   "execution_count": 13,
   "id": "b8b4cba7",
   "metadata": {},
   "outputs": [
    {
     "data": {
      "text/plain": [
       "array([1, 2, 3, 4])"
      ]
     },
     "execution_count": 13,
     "metadata": {},
     "output_type": "execute_result"
    }
   ],
   "source": [
    "np.asanyarray([1,2,3,4])"
   ]
  },
  {
   "cell_type": "code",
   "execution_count": 14,
   "id": "71f3b502",
   "metadata": {},
   "outputs": [
    {
     "data": {
      "text/plain": [
       "matrix([[1, 2, 3, 4]])"
      ]
     },
     "execution_count": 14,
     "metadata": {},
     "output_type": "execute_result"
    }
   ],
   "source": [
    "np.mat([1,2,3,4])"
   ]
  },
  {
   "cell_type": "markdown",
   "id": "3b9b13b8",
   "metadata": {},
   "source": [
    "`matrix` return atleast a 2d array"
   ]
  },
  {
   "cell_type": "raw",
   "id": "3f90b155",
   "metadata": {},
   "source": []
  },
  {
   "cell_type": "code",
   "execution_count": 15,
   "id": "5e66b1ab",
   "metadata": {},
   "outputs": [
    {
     "data": {
      "text/plain": [
       "array([[ True, False, False, False],\n",
       "       [False,  True, False, False],\n",
       "       [False, False,  True, False],\n",
       "       [False, False, False,  True]])"
      ]
     },
     "execution_count": 15,
     "metadata": {},
     "output_type": "execute_result"
    }
   ],
   "source": [
    "np.fromfunction(lambda i, j: i==j, (4,4))"
   ]
  },
  {
   "cell_type": "code",
   "execution_count": 16,
   "id": "38ac5fbc",
   "metadata": {},
   "outputs": [
    {
     "data": {
      "text/plain": [
       "array([[ 0.,  0.,  0.,  0.,  0.,  0.],\n",
       "       [ 0.,  1.,  2.,  3.,  4.,  5.],\n",
       "       [ 0.,  2.,  4.,  6.,  8., 10.],\n",
       "       [ 0.,  3.,  6.,  9., 12., 15.],\n",
       "       [ 0.,  4.,  8., 12., 16., 20.]])"
      ]
     },
     "execution_count": 16,
     "metadata": {},
     "output_type": "execute_result"
    }
   ],
   "source": [
    " np.fromfunction(lambda i, j: i*j, (5,6))"
   ]
  },
  {
   "cell_type": "code",
   "execution_count": 17,
   "id": "e6850384",
   "metadata": {},
   "outputs": [
    {
     "data": {
      "text/plain": [
       "array([[ 0,  0,  0,  0,  0,  0],\n",
       "       [ 0,  1,  2,  3,  4,  5],\n",
       "       [ 0,  2,  4,  6,  8, 10],\n",
       "       [ 0,  3,  6,  9, 12, 15],\n",
       "       [ 0,  4,  8, 12, 16, 20]])"
      ]
     },
     "execution_count": 17,
     "metadata": {},
     "output_type": "execute_result"
    }
   ],
   "source": [
    " np.fromfunction(lambda i, j: i*j, (5,6), dtype=int)"
   ]
  },
  {
   "cell_type": "code",
   "execution_count": 18,
   "id": "192dfcf8",
   "metadata": {},
   "outputs": [
    {
     "data": {
      "text/plain": [
       "array([[[0, 0],\n",
       "        [0, 0],\n",
       "        [0, 0]],\n",
       "\n",
       "       [[0, 0],\n",
       "        [0, 1],\n",
       "        [0, 2]],\n",
       "\n",
       "       [[0, 0],\n",
       "        [0, 2],\n",
       "        [0, 4]]])"
      ]
     },
     "execution_count": 18,
     "metadata": {},
     "output_type": "execute_result"
    }
   ],
   "source": [
    "np.fromfunction(lambda i, j, k:i*j*k, (3,3,2), dtype=int)"
   ]
  },
  {
   "cell_type": "markdown",
   "id": "f28a2cbd",
   "metadata": {},
   "source": [
    "`(3,3,2)` -> 3 matrix of (3,2)"
   ]
  },
  {
   "cell_type": "code",
   "execution_count": 19,
   "id": "5788ecdd",
   "metadata": {},
   "outputs": [
    {
     "data": {
      "text/plain": [
       "array([[[[ 0,  0],\n",
       "         [ 0,  0],\n",
       "         [ 0,  0]],\n",
       "\n",
       "        [[ 0,  0],\n",
       "         [ 0,  0],\n",
       "         [ 0,  0]],\n",
       "\n",
       "        [[ 0,  0],\n",
       "         [ 0,  0],\n",
       "         [ 0,  0]]],\n",
       "\n",
       "\n",
       "       [[[ 0,  0],\n",
       "         [ 0,  0],\n",
       "         [ 0,  0]],\n",
       "\n",
       "        [[ 0,  0],\n",
       "         [ 0,  1],\n",
       "         [ 0,  2]],\n",
       "\n",
       "        [[ 0,  0],\n",
       "         [ 0,  2],\n",
       "         [ 0,  4]]],\n",
       "\n",
       "\n",
       "       [[[ 0,  0],\n",
       "         [ 0,  0],\n",
       "         [ 0,  0]],\n",
       "\n",
       "        [[ 0,  0],\n",
       "         [ 0,  2],\n",
       "         [ 0,  4]],\n",
       "\n",
       "        [[ 0,  0],\n",
       "         [ 0,  4],\n",
       "         [ 0,  8]]],\n",
       "\n",
       "\n",
       "       [[[ 0,  0],\n",
       "         [ 0,  0],\n",
       "         [ 0,  0]],\n",
       "\n",
       "        [[ 0,  0],\n",
       "         [ 0,  3],\n",
       "         [ 0,  6]],\n",
       "\n",
       "        [[ 0,  0],\n",
       "         [ 0,  6],\n",
       "         [ 0, 12]]],\n",
       "\n",
       "\n",
       "       [[[ 0,  0],\n",
       "         [ 0,  0],\n",
       "         [ 0,  0]],\n",
       "\n",
       "        [[ 0,  0],\n",
       "         [ 0,  4],\n",
       "         [ 0,  8]],\n",
       "\n",
       "        [[ 0,  0],\n",
       "         [ 0,  8],\n",
       "         [ 0, 16]]]])"
      ]
     },
     "execution_count": 19,
     "metadata": {},
     "output_type": "execute_result"
    }
   ],
   "source": [
    "np.fromfunction(lambda i, j, k, l:i*j*k*l, (5,3,3,2), dtype=int)"
   ]
  },
  {
   "cell_type": "markdown",
   "id": "2f39c5d1",
   "metadata": {},
   "source": [
    "`(5,3,3,2)` `5->combination` of `3 arrays` of shape `(3,2)`"
   ]
  },
  {
   "cell_type": "code",
   "execution_count": 20,
   "id": "2ddcaad5",
   "metadata": {},
   "outputs": [
    {
     "data": {
      "text/plain": [
       "4"
      ]
     },
     "execution_count": 20,
     "metadata": {},
     "output_type": "execute_result"
    }
   ],
   "source": [
    "b.ndim"
   ]
  },
  {
   "cell_type": "code",
   "execution_count": 21,
   "id": "7a0c9f71",
   "metadata": {},
   "outputs": [
    {
     "data": {
      "text/plain": [
       "6"
      ]
     },
     "execution_count": 21,
     "metadata": {},
     "output_type": "execute_result"
    }
   ],
   "source": [
    "b.size"
   ]
  },
  {
   "cell_type": "code",
   "execution_count": 22,
   "id": "3fb6b04a",
   "metadata": {},
   "outputs": [
    {
     "data": {
      "text/plain": [
       "(1, 1, 1, 6)"
      ]
     },
     "execution_count": 22,
     "metadata": {},
     "output_type": "execute_result"
    }
   ],
   "source": [
    "b.shape"
   ]
  },
  {
   "cell_type": "code",
   "execution_count": 23,
   "id": "11ce67fa",
   "metadata": {},
   "outputs": [
    {
     "data": {
      "text/plain": [
       "dtype('int32')"
      ]
     },
     "execution_count": 23,
     "metadata": {},
     "output_type": "execute_result"
    }
   ],
   "source": [
    "b.dtype"
   ]
  },
  {
   "cell_type": "code",
   "execution_count": 24,
   "id": "c89d6477",
   "metadata": {},
   "outputs": [],
   "source": [
    "import pandas as pd"
   ]
  },
  {
   "cell_type": "code",
   "execution_count": 25,
   "id": "5cfd8b9b",
   "metadata": {
    "scrolled": true
   },
   "outputs": [
    {
     "data": {
      "text/html": [
       "<div>\n",
       "<style scoped>\n",
       "    .dataframe tbody tr th:only-of-type {\n",
       "        vertical-align: middle;\n",
       "    }\n",
       "\n",
       "    .dataframe tbody tr th {\n",
       "        vertical-align: top;\n",
       "    }\n",
       "\n",
       "    .dataframe thead th {\n",
       "        text-align: right;\n",
       "    }\n",
       "</style>\n",
       "<table border=\"1\" class=\"dataframe\">\n",
       "  <thead>\n",
       "    <tr style=\"text-align: right;\">\n",
       "      <th></th>\n",
       "      <th>0</th>\n",
       "      <th>1</th>\n",
       "      <th>2</th>\n",
       "    </tr>\n",
       "  </thead>\n",
       "  <tbody>\n",
       "    <tr>\n",
       "      <th>0</th>\n",
       "      <td>1</td>\n",
       "      <td>2</td>\n",
       "      <td>3</td>\n",
       "    </tr>\n",
       "    <tr>\n",
       "      <th>1</th>\n",
       "      <td>4</td>\n",
       "      <td>5</td>\n",
       "      <td>6</td>\n",
       "    </tr>\n",
       "    <tr>\n",
       "      <th>2</th>\n",
       "      <td>7</td>\n",
       "      <td>8</td>\n",
       "      <td>9</td>\n",
       "    </tr>\n",
       "  </tbody>\n",
       "</table>\n",
       "</div>"
      ],
      "text/plain": [
       "   0  1  2\n",
       "0  1  2  3\n",
       "1  4  5  6\n",
       "2  7  8  9"
      ]
     },
     "execution_count": 25,
     "metadata": {},
     "output_type": "execute_result"
    }
   ],
   "source": [
    "pd.DataFrame(a)"
   ]
  },
  {
   "cell_type": "code",
   "execution_count": 26,
   "id": "83712254",
   "metadata": {},
   "outputs": [],
   "source": [
    "c = np.fromfunction(lambda i,j: i*j, (400,100), dtype=int)"
   ]
  },
  {
   "cell_type": "code",
   "execution_count": 27,
   "id": "36038cc2",
   "metadata": {},
   "outputs": [
    {
     "data": {
      "text/plain": [
       "array([[    0,     0,     0, ...,     0,     0,     0],\n",
       "       [    0,     1,     2, ...,    97,    98,    99],\n",
       "       [    0,     2,     4, ...,   194,   196,   198],\n",
       "       ...,\n",
       "       [    0,   397,   794, ..., 38509, 38906, 39303],\n",
       "       [    0,   398,   796, ..., 38606, 39004, 39402],\n",
       "       [    0,   399,   798, ..., 38703, 39102, 39501]])"
      ]
     },
     "execution_count": 27,
     "metadata": {},
     "output_type": "execute_result"
    }
   ],
   "source": [
    "c"
   ]
  },
  {
   "cell_type": "code",
   "execution_count": 28,
   "id": "35368ece",
   "metadata": {},
   "outputs": [
    {
     "data": {
      "text/html": [
       "<div>\n",
       "<style scoped>\n",
       "    .dataframe tbody tr th:only-of-type {\n",
       "        vertical-align: middle;\n",
       "    }\n",
       "\n",
       "    .dataframe tbody tr th {\n",
       "        vertical-align: top;\n",
       "    }\n",
       "\n",
       "    .dataframe thead th {\n",
       "        text-align: right;\n",
       "    }\n",
       "</style>\n",
       "<table border=\"1\" class=\"dataframe\">\n",
       "  <thead>\n",
       "    <tr style=\"text-align: right;\">\n",
       "      <th></th>\n",
       "      <th>0</th>\n",
       "      <th>1</th>\n",
       "      <th>2</th>\n",
       "      <th>3</th>\n",
       "      <th>4</th>\n",
       "      <th>5</th>\n",
       "      <th>6</th>\n",
       "      <th>7</th>\n",
       "      <th>8</th>\n",
       "      <th>9</th>\n",
       "      <th>...</th>\n",
       "      <th>90</th>\n",
       "      <th>91</th>\n",
       "      <th>92</th>\n",
       "      <th>93</th>\n",
       "      <th>94</th>\n",
       "      <th>95</th>\n",
       "      <th>96</th>\n",
       "      <th>97</th>\n",
       "      <th>98</th>\n",
       "      <th>99</th>\n",
       "    </tr>\n",
       "  </thead>\n",
       "  <tbody>\n",
       "    <tr>\n",
       "      <th>0</th>\n",
       "      <td>0</td>\n",
       "      <td>0</td>\n",
       "      <td>0</td>\n",
       "      <td>0</td>\n",
       "      <td>0</td>\n",
       "      <td>0</td>\n",
       "      <td>0</td>\n",
       "      <td>0</td>\n",
       "      <td>0</td>\n",
       "      <td>0</td>\n",
       "      <td>...</td>\n",
       "      <td>0</td>\n",
       "      <td>0</td>\n",
       "      <td>0</td>\n",
       "      <td>0</td>\n",
       "      <td>0</td>\n",
       "      <td>0</td>\n",
       "      <td>0</td>\n",
       "      <td>0</td>\n",
       "      <td>0</td>\n",
       "      <td>0</td>\n",
       "    </tr>\n",
       "    <tr>\n",
       "      <th>1</th>\n",
       "      <td>0</td>\n",
       "      <td>1</td>\n",
       "      <td>2</td>\n",
       "      <td>3</td>\n",
       "      <td>4</td>\n",
       "      <td>5</td>\n",
       "      <td>6</td>\n",
       "      <td>7</td>\n",
       "      <td>8</td>\n",
       "      <td>9</td>\n",
       "      <td>...</td>\n",
       "      <td>90</td>\n",
       "      <td>91</td>\n",
       "      <td>92</td>\n",
       "      <td>93</td>\n",
       "      <td>94</td>\n",
       "      <td>95</td>\n",
       "      <td>96</td>\n",
       "      <td>97</td>\n",
       "      <td>98</td>\n",
       "      <td>99</td>\n",
       "    </tr>\n",
       "    <tr>\n",
       "      <th>2</th>\n",
       "      <td>0</td>\n",
       "      <td>2</td>\n",
       "      <td>4</td>\n",
       "      <td>6</td>\n",
       "      <td>8</td>\n",
       "      <td>10</td>\n",
       "      <td>12</td>\n",
       "      <td>14</td>\n",
       "      <td>16</td>\n",
       "      <td>18</td>\n",
       "      <td>...</td>\n",
       "      <td>180</td>\n",
       "      <td>182</td>\n",
       "      <td>184</td>\n",
       "      <td>186</td>\n",
       "      <td>188</td>\n",
       "      <td>190</td>\n",
       "      <td>192</td>\n",
       "      <td>194</td>\n",
       "      <td>196</td>\n",
       "      <td>198</td>\n",
       "    </tr>\n",
       "    <tr>\n",
       "      <th>3</th>\n",
       "      <td>0</td>\n",
       "      <td>3</td>\n",
       "      <td>6</td>\n",
       "      <td>9</td>\n",
       "      <td>12</td>\n",
       "      <td>15</td>\n",
       "      <td>18</td>\n",
       "      <td>21</td>\n",
       "      <td>24</td>\n",
       "      <td>27</td>\n",
       "      <td>...</td>\n",
       "      <td>270</td>\n",
       "      <td>273</td>\n",
       "      <td>276</td>\n",
       "      <td>279</td>\n",
       "      <td>282</td>\n",
       "      <td>285</td>\n",
       "      <td>288</td>\n",
       "      <td>291</td>\n",
       "      <td>294</td>\n",
       "      <td>297</td>\n",
       "    </tr>\n",
       "    <tr>\n",
       "      <th>4</th>\n",
       "      <td>0</td>\n",
       "      <td>4</td>\n",
       "      <td>8</td>\n",
       "      <td>12</td>\n",
       "      <td>16</td>\n",
       "      <td>20</td>\n",
       "      <td>24</td>\n",
       "      <td>28</td>\n",
       "      <td>32</td>\n",
       "      <td>36</td>\n",
       "      <td>...</td>\n",
       "      <td>360</td>\n",
       "      <td>364</td>\n",
       "      <td>368</td>\n",
       "      <td>372</td>\n",
       "      <td>376</td>\n",
       "      <td>380</td>\n",
       "      <td>384</td>\n",
       "      <td>388</td>\n",
       "      <td>392</td>\n",
       "      <td>396</td>\n",
       "    </tr>\n",
       "    <tr>\n",
       "      <th>...</th>\n",
       "      <td>...</td>\n",
       "      <td>...</td>\n",
       "      <td>...</td>\n",
       "      <td>...</td>\n",
       "      <td>...</td>\n",
       "      <td>...</td>\n",
       "      <td>...</td>\n",
       "      <td>...</td>\n",
       "      <td>...</td>\n",
       "      <td>...</td>\n",
       "      <td>...</td>\n",
       "      <td>...</td>\n",
       "      <td>...</td>\n",
       "      <td>...</td>\n",
       "      <td>...</td>\n",
       "      <td>...</td>\n",
       "      <td>...</td>\n",
       "      <td>...</td>\n",
       "      <td>...</td>\n",
       "      <td>...</td>\n",
       "      <td>...</td>\n",
       "    </tr>\n",
       "    <tr>\n",
       "      <th>395</th>\n",
       "      <td>0</td>\n",
       "      <td>395</td>\n",
       "      <td>790</td>\n",
       "      <td>1185</td>\n",
       "      <td>1580</td>\n",
       "      <td>1975</td>\n",
       "      <td>2370</td>\n",
       "      <td>2765</td>\n",
       "      <td>3160</td>\n",
       "      <td>3555</td>\n",
       "      <td>...</td>\n",
       "      <td>35550</td>\n",
       "      <td>35945</td>\n",
       "      <td>36340</td>\n",
       "      <td>36735</td>\n",
       "      <td>37130</td>\n",
       "      <td>37525</td>\n",
       "      <td>37920</td>\n",
       "      <td>38315</td>\n",
       "      <td>38710</td>\n",
       "      <td>39105</td>\n",
       "    </tr>\n",
       "    <tr>\n",
       "      <th>396</th>\n",
       "      <td>0</td>\n",
       "      <td>396</td>\n",
       "      <td>792</td>\n",
       "      <td>1188</td>\n",
       "      <td>1584</td>\n",
       "      <td>1980</td>\n",
       "      <td>2376</td>\n",
       "      <td>2772</td>\n",
       "      <td>3168</td>\n",
       "      <td>3564</td>\n",
       "      <td>...</td>\n",
       "      <td>35640</td>\n",
       "      <td>36036</td>\n",
       "      <td>36432</td>\n",
       "      <td>36828</td>\n",
       "      <td>37224</td>\n",
       "      <td>37620</td>\n",
       "      <td>38016</td>\n",
       "      <td>38412</td>\n",
       "      <td>38808</td>\n",
       "      <td>39204</td>\n",
       "    </tr>\n",
       "    <tr>\n",
       "      <th>397</th>\n",
       "      <td>0</td>\n",
       "      <td>397</td>\n",
       "      <td>794</td>\n",
       "      <td>1191</td>\n",
       "      <td>1588</td>\n",
       "      <td>1985</td>\n",
       "      <td>2382</td>\n",
       "      <td>2779</td>\n",
       "      <td>3176</td>\n",
       "      <td>3573</td>\n",
       "      <td>...</td>\n",
       "      <td>35730</td>\n",
       "      <td>36127</td>\n",
       "      <td>36524</td>\n",
       "      <td>36921</td>\n",
       "      <td>37318</td>\n",
       "      <td>37715</td>\n",
       "      <td>38112</td>\n",
       "      <td>38509</td>\n",
       "      <td>38906</td>\n",
       "      <td>39303</td>\n",
       "    </tr>\n",
       "    <tr>\n",
       "      <th>398</th>\n",
       "      <td>0</td>\n",
       "      <td>398</td>\n",
       "      <td>796</td>\n",
       "      <td>1194</td>\n",
       "      <td>1592</td>\n",
       "      <td>1990</td>\n",
       "      <td>2388</td>\n",
       "      <td>2786</td>\n",
       "      <td>3184</td>\n",
       "      <td>3582</td>\n",
       "      <td>...</td>\n",
       "      <td>35820</td>\n",
       "      <td>36218</td>\n",
       "      <td>36616</td>\n",
       "      <td>37014</td>\n",
       "      <td>37412</td>\n",
       "      <td>37810</td>\n",
       "      <td>38208</td>\n",
       "      <td>38606</td>\n",
       "      <td>39004</td>\n",
       "      <td>39402</td>\n",
       "    </tr>\n",
       "    <tr>\n",
       "      <th>399</th>\n",
       "      <td>0</td>\n",
       "      <td>399</td>\n",
       "      <td>798</td>\n",
       "      <td>1197</td>\n",
       "      <td>1596</td>\n",
       "      <td>1995</td>\n",
       "      <td>2394</td>\n",
       "      <td>2793</td>\n",
       "      <td>3192</td>\n",
       "      <td>3591</td>\n",
       "      <td>...</td>\n",
       "      <td>35910</td>\n",
       "      <td>36309</td>\n",
       "      <td>36708</td>\n",
       "      <td>37107</td>\n",
       "      <td>37506</td>\n",
       "      <td>37905</td>\n",
       "      <td>38304</td>\n",
       "      <td>38703</td>\n",
       "      <td>39102</td>\n",
       "      <td>39501</td>\n",
       "    </tr>\n",
       "  </tbody>\n",
       "</table>\n",
       "<p>400 rows × 100 columns</p>\n",
       "</div>"
      ],
      "text/plain": [
       "     0    1    2     3     4     5     6     7     8     9   ...     90  \\\n",
       "0     0    0    0     0     0     0     0     0     0     0  ...      0   \n",
       "1     0    1    2     3     4     5     6     7     8     9  ...     90   \n",
       "2     0    2    4     6     8    10    12    14    16    18  ...    180   \n",
       "3     0    3    6     9    12    15    18    21    24    27  ...    270   \n",
       "4     0    4    8    12    16    20    24    28    32    36  ...    360   \n",
       "..   ..  ...  ...   ...   ...   ...   ...   ...   ...   ...  ...    ...   \n",
       "395   0  395  790  1185  1580  1975  2370  2765  3160  3555  ...  35550   \n",
       "396   0  396  792  1188  1584  1980  2376  2772  3168  3564  ...  35640   \n",
       "397   0  397  794  1191  1588  1985  2382  2779  3176  3573  ...  35730   \n",
       "398   0  398  796  1194  1592  1990  2388  2786  3184  3582  ...  35820   \n",
       "399   0  399  798  1197  1596  1995  2394  2793  3192  3591  ...  35910   \n",
       "\n",
       "        91     92     93     94     95     96     97     98     99  \n",
       "0        0      0      0      0      0      0      0      0      0  \n",
       "1       91     92     93     94     95     96     97     98     99  \n",
       "2      182    184    186    188    190    192    194    196    198  \n",
       "3      273    276    279    282    285    288    291    294    297  \n",
       "4      364    368    372    376    380    384    388    392    396  \n",
       "..     ...    ...    ...    ...    ...    ...    ...    ...    ...  \n",
       "395  35945  36340  36735  37130  37525  37920  38315  38710  39105  \n",
       "396  36036  36432  36828  37224  37620  38016  38412  38808  39204  \n",
       "397  36127  36524  36921  37318  37715  38112  38509  38906  39303  \n",
       "398  36218  36616  37014  37412  37810  38208  38606  39004  39402  \n",
       "399  36309  36708  37107  37506  37905  38304  38703  39102  39501  \n",
       "\n",
       "[400 rows x 100 columns]"
      ]
     },
     "execution_count": 28,
     "metadata": {},
     "output_type": "execute_result"
    }
   ],
   "source": [
    "pd.DataFrame(c)"
   ]
  },
  {
   "cell_type": "code",
   "execution_count": 29,
   "id": "cce37a42",
   "metadata": {},
   "outputs": [
    {
     "data": {
      "text/plain": [
       "array([5, 5, 7, 5, 5, 4])"
      ]
     },
     "execution_count": 29,
     "metadata": {},
     "output_type": "execute_result"
    }
   ],
   "source": [
    "np.random.randint(4,10,6)"
   ]
  },
  {
   "cell_type": "code",
   "execution_count": 30,
   "id": "d477694d",
   "metadata": {},
   "outputs": [
    {
     "data": {
      "text/plain": [
       "array([[0.16640053, 0.35846706, 0.05881956, 0.41101566, 0.41882817,\n",
       "        0.18918699, 0.85062532, 0.76503294, 0.94706873, 0.38652191,\n",
       "        0.87727682, 0.07971424, 0.04429824, 0.78954892, 0.13112749,\n",
       "        0.83223279, 0.23604573, 0.07328273, 0.862082  , 0.74945378],\n",
       "       [0.87055287, 0.63767284, 0.66493051, 0.29802732, 0.85147204,\n",
       "        0.80491939, 0.97384657, 0.45817959, 0.13268521, 0.2581696 ,\n",
       "        0.65337412, 0.33000175, 0.9756748 , 0.58121348, 0.55455664,\n",
       "        0.45807662, 0.31446725, 0.96813577, 0.24787732, 0.27611171],\n",
       "       [0.69601483, 0.56203433, 0.42094188, 0.39274493, 0.54626264,\n",
       "        0.77784449, 0.62562762, 0.10986644, 0.56478478, 0.71002028,\n",
       "        0.5312321 , 0.59913547, 0.16188117, 0.39025111, 0.21494237,\n",
       "        0.42422933, 0.51146945, 0.03407792, 0.52164886, 0.94199339],\n",
       "       [0.17071793, 0.0877121 , 0.0134696 , 0.84877073, 0.33318209,\n",
       "        0.71006265, 0.70529987, 0.85158239, 0.44442697, 0.00428321,\n",
       "        0.26678345, 0.52951763, 0.21488554, 0.86756689, 0.5490118 ,\n",
       "        0.80692761, 0.04774812, 0.22488129, 0.43167885, 0.73056594],\n",
       "       [0.5950269 , 0.26956149, 0.36524685, 0.10699145, 0.43202234,\n",
       "        0.80832254, 0.15809237, 0.56828409, 0.86306005, 0.06237669,\n",
       "        0.85400836, 0.89789614, 0.13091285, 0.99726263, 0.5489839 ,\n",
       "        0.65871515, 0.80444328, 0.57803956, 0.55467844, 0.75266524],\n",
       "       [0.44460958, 0.19293377, 0.07852572, 0.29438322, 0.26149687,\n",
       "        0.46721002, 0.77203479, 0.58041602, 0.72325509, 0.46452189,\n",
       "        0.02072979, 0.0384146 , 0.61889636, 0.54050485, 0.45215859,\n",
       "        0.17597953, 0.71685197, 0.91639478, 0.65644466, 0.16272849],\n",
       "       [0.40981402, 0.44023479, 0.14387012, 0.58034334, 0.17013355,\n",
       "        0.28255597, 0.76385417, 0.59399907, 0.41181638, 0.0064833 ,\n",
       "        0.3984093 , 0.31916482, 0.49479764, 0.35847463, 0.53351737,\n",
       "        0.71369246, 0.65656271, 0.07033173, 0.12589372, 0.7797822 ],\n",
       "       [0.475469  , 0.53204576, 0.82683365, 0.95143186, 0.69779611,\n",
       "        0.5479378 , 0.58305755, 0.6755451 , 0.33237399, 0.11893708,\n",
       "        0.45612273, 0.64301643, 0.10026128, 0.51619224, 0.13556415,\n",
       "        0.03166747, 0.5431138 , 0.53627137, 0.5674299 , 0.78304091],\n",
       "       [0.14998681, 0.44828382, 0.52262779, 0.27187159, 0.26044079,\n",
       "        0.30538671, 0.71937982, 0.13811642, 0.08489252, 0.04316324,\n",
       "        0.76148287, 0.18991863, 0.78487129, 0.27793146, 0.74529076,\n",
       "        0.11821463, 0.82852476, 0.50603884, 0.99205712, 0.90916976],\n",
       "       [0.61575914, 0.39609985, 0.56984273, 0.7170259 , 0.96018984,\n",
       "        0.23076449, 0.68339129, 0.40719453, 0.47521992, 0.00795313,\n",
       "        0.23422058, 0.52184218, 0.73772947, 0.50285293, 0.9049288 ,\n",
       "        0.66362018, 0.26948716, 0.87836569, 0.35943631, 0.15718885]])"
      ]
     },
     "execution_count": 30,
     "metadata": {},
     "output_type": "execute_result"
    }
   ],
   "source": [
    "np.random.rand(10,20)"
   ]
  },
  {
   "cell_type": "code",
   "execution_count": 31,
   "id": "4d1fd82e",
   "metadata": {},
   "outputs": [
    {
     "data": {
      "text/html": [
       "<div>\n",
       "<style scoped>\n",
       "    .dataframe tbody tr th:only-of-type {\n",
       "        vertical-align: middle;\n",
       "    }\n",
       "\n",
       "    .dataframe tbody tr th {\n",
       "        vertical-align: top;\n",
       "    }\n",
       "\n",
       "    .dataframe thead th {\n",
       "        text-align: right;\n",
       "    }\n",
       "</style>\n",
       "<table border=\"1\" class=\"dataframe\">\n",
       "  <thead>\n",
       "    <tr style=\"text-align: right;\">\n",
       "      <th></th>\n",
       "      <th>0</th>\n",
       "      <th>1</th>\n",
       "      <th>2</th>\n",
       "      <th>3</th>\n",
       "      <th>4</th>\n",
       "      <th>5</th>\n",
       "      <th>6</th>\n",
       "      <th>7</th>\n",
       "    </tr>\n",
       "  </thead>\n",
       "  <tbody>\n",
       "    <tr>\n",
       "      <th>0</th>\n",
       "      <td>0.914568</td>\n",
       "      <td>0.294267</td>\n",
       "      <td>0.475561</td>\n",
       "      <td>0.613736</td>\n",
       "      <td>0.415333</td>\n",
       "      <td>0.520456</td>\n",
       "      <td>0.711203</td>\n",
       "      <td>0.912431</td>\n",
       "    </tr>\n",
       "    <tr>\n",
       "      <th>1</th>\n",
       "      <td>0.379817</td>\n",
       "      <td>0.703621</td>\n",
       "      <td>0.311191</td>\n",
       "      <td>0.867891</td>\n",
       "      <td>0.813736</td>\n",
       "      <td>0.694256</td>\n",
       "      <td>0.311108</td>\n",
       "      <td>0.673387</td>\n",
       "    </tr>\n",
       "    <tr>\n",
       "      <th>2</th>\n",
       "      <td>0.127913</td>\n",
       "      <td>0.689734</td>\n",
       "      <td>0.217982</td>\n",
       "      <td>0.493380</td>\n",
       "      <td>0.252644</td>\n",
       "      <td>0.519467</td>\n",
       "      <td>0.627688</td>\n",
       "      <td>0.857805</td>\n",
       "    </tr>\n",
       "    <tr>\n",
       "      <th>3</th>\n",
       "      <td>0.918894</td>\n",
       "      <td>0.050476</td>\n",
       "      <td>0.569393</td>\n",
       "      <td>0.476216</td>\n",
       "      <td>0.626918</td>\n",
       "      <td>0.250850</td>\n",
       "      <td>0.154001</td>\n",
       "      <td>0.910088</td>\n",
       "    </tr>\n",
       "    <tr>\n",
       "      <th>4</th>\n",
       "      <td>0.046747</td>\n",
       "      <td>0.007329</td>\n",
       "      <td>0.153403</td>\n",
       "      <td>0.398834</td>\n",
       "      <td>0.937137</td>\n",
       "      <td>0.062997</td>\n",
       "      <td>0.993876</td>\n",
       "      <td>0.573241</td>\n",
       "    </tr>\n",
       "  </tbody>\n",
       "</table>\n",
       "</div>"
      ],
      "text/plain": [
       "          0         1         2         3         4         5         6  \\\n",
       "0  0.914568  0.294267  0.475561  0.613736  0.415333  0.520456  0.711203   \n",
       "1  0.379817  0.703621  0.311191  0.867891  0.813736  0.694256  0.311108   \n",
       "2  0.127913  0.689734  0.217982  0.493380  0.252644  0.519467  0.627688   \n",
       "3  0.918894  0.050476  0.569393  0.476216  0.626918  0.250850  0.154001   \n",
       "4  0.046747  0.007329  0.153403  0.398834  0.937137  0.062997  0.993876   \n",
       "\n",
       "          7  \n",
       "0  0.912431  \n",
       "1  0.673387  \n",
       "2  0.857805  \n",
       "3  0.910088  \n",
       "4  0.573241  "
      ]
     },
     "execution_count": 31,
     "metadata": {},
     "output_type": "execute_result"
    }
   ],
   "source": [
    "pd.DataFrame(np.random.rand(5,8))"
   ]
  },
  {
   "cell_type": "code",
   "execution_count": 32,
   "id": "a59d9cb6",
   "metadata": {},
   "outputs": [],
   "source": [
    "d = b.reshape(3,2)"
   ]
  },
  {
   "cell_type": "code",
   "execution_count": 33,
   "id": "20e401a6",
   "metadata": {},
   "outputs": [
    {
     "data": {
      "text/html": [
       "<div>\n",
       "<style scoped>\n",
       "    .dataframe tbody tr th:only-of-type {\n",
       "        vertical-align: middle;\n",
       "    }\n",
       "\n",
       "    .dataframe tbody tr th {\n",
       "        vertical-align: top;\n",
       "    }\n",
       "\n",
       "    .dataframe thead th {\n",
       "        text-align: right;\n",
       "    }\n",
       "</style>\n",
       "<table border=\"1\" class=\"dataframe\">\n",
       "  <thead>\n",
       "    <tr style=\"text-align: right;\">\n",
       "      <th></th>\n",
       "      <th>0</th>\n",
       "      <th>1</th>\n",
       "    </tr>\n",
       "  </thead>\n",
       "  <tbody>\n",
       "    <tr>\n",
       "      <th>0</th>\n",
       "      <td>1</td>\n",
       "      <td>2</td>\n",
       "    </tr>\n",
       "    <tr>\n",
       "      <th>1</th>\n",
       "      <td>3</td>\n",
       "      <td>4</td>\n",
       "    </tr>\n",
       "    <tr>\n",
       "      <th>2</th>\n",
       "      <td>5</td>\n",
       "      <td>6</td>\n",
       "    </tr>\n",
       "  </tbody>\n",
       "</table>\n",
       "</div>"
      ],
      "text/plain": [
       "   0  1\n",
       "0  1  2\n",
       "1  3  4\n",
       "2  5  6"
      ]
     },
     "execution_count": 33,
     "metadata": {},
     "output_type": "execute_result"
    }
   ],
   "source": [
    "pd.DataFrame(d)"
   ]
  },
  {
   "cell_type": "code",
   "execution_count": 34,
   "id": "db4839e6",
   "metadata": {},
   "outputs": [
    {
     "data": {
      "text/plain": [
       "array([[1, 2, 3],\n",
       "       [4, 5, 6]])"
      ]
     },
     "execution_count": 34,
     "metadata": {},
     "output_type": "execute_result"
    }
   ],
   "source": [
    "b.reshape(2,-1) #any negative number here will give the default which 2*x be 4"
   ]
  },
  {
   "cell_type": "code",
   "execution_count": 35,
   "id": "e0dc4af1",
   "metadata": {},
   "outputs": [
    {
     "data": {
      "text/plain": [
       "array([1. , 1.5, 2. , 2.5, 3. , 3.5, 4. , 4.5, 5. , 5.5, 6. , 6.5, 7. ,\n",
       "       7.5, 8. , 8.5, 9. , 9.5])"
      ]
     },
     "execution_count": 35,
     "metadata": {},
     "output_type": "execute_result"
    }
   ],
   "source": [
    "np.arange(1,10,0.5)"
   ]
  },
  {
   "cell_type": "markdown",
   "id": "e05bf43d",
   "metadata": {},
   "source": [
    "list(range(1,10,0.5) ->will not work"
   ]
  },
  {
   "cell_type": "code",
   "execution_count": 36,
   "id": "6f90e0cf",
   "metadata": {},
   "outputs": [
    {
     "data": {
      "text/plain": [
       "array([[0.20656857, 0.84945066, 0.04954185, 0.87975366, 0.56877909],\n",
       "       [0.99889475, 0.97088291, 0.0429726 , 0.45665816, 0.27815424],\n",
       "       [0.69251727, 0.50183943, 0.38640824, 0.10186602, 0.53897029],\n",
       "       [0.4039017 , 0.22984631, 0.40142965, 0.84516287, 0.97409406]])"
      ]
     },
     "execution_count": 36,
     "metadata": {},
     "output_type": "execute_result"
    }
   ],
   "source": [
    "arr = np.random.rand(4,5)\n",
    "arr"
   ]
  },
  {
   "cell_type": "code",
   "execution_count": 37,
   "id": "5ad140e2",
   "metadata": {},
   "outputs": [
    {
     "data": {
      "text/plain": [
       "array([[False, False, False, False, False],\n",
       "       [False, False, False, False, False],\n",
       "       [False, False, False, False, False],\n",
       "       [False, False, False, False, False]])"
      ]
     },
     "execution_count": 37,
     "metadata": {},
     "output_type": "execute_result"
    }
   ],
   "source": [
    "arr>5"
   ]
  },
  {
   "cell_type": "code",
   "execution_count": 38,
   "id": "c856494c",
   "metadata": {},
   "outputs": [
    {
     "data": {
      "text/plain": [
       "array([0.84945066, 0.87975366, 0.99889475, 0.97088291, 0.69251727,\n",
       "       0.84516287, 0.97409406])"
      ]
     },
     "execution_count": 38,
     "metadata": {},
     "output_type": "execute_result"
    }
   ],
   "source": [
    "arr[arr>0.6]"
   ]
  },
  {
   "cell_type": "code",
   "execution_count": 39,
   "id": "b66ec3c9",
   "metadata": {},
   "outputs": [],
   "source": [
    "a=np.array([[1,2],[4,5]])\n",
    "b=np.array([[1,2],[4,5]])"
   ]
  },
  {
   "cell_type": "code",
   "execution_count": 40,
   "id": "4dcbb8d8",
   "metadata": {},
   "outputs": [
    {
     "data": {
      "text/plain": [
       "array([[ 9, 12],\n",
       "       [24, 33]])"
      ]
     },
     "execution_count": 40,
     "metadata": {},
     "output_type": "execute_result"
    }
   ],
   "source": [
    "a@b"
   ]
  },
  {
   "cell_type": "code",
   "execution_count": 41,
   "id": "d08e462c",
   "metadata": {},
   "outputs": [
    {
     "data": {
      "text/plain": [
       "array([[ 9, 12],\n",
       "       [24, 33]])"
      ]
     },
     "execution_count": 41,
     "metadata": {},
     "output_type": "execute_result"
    }
   ],
   "source": [
    "a.dot(b)"
   ]
  },
  {
   "cell_type": "code",
   "execution_count": 42,
   "id": "44ccade6",
   "metadata": {},
   "outputs": [
    {
     "data": {
      "text/plain": [
       "array([1., 1., 1., 1., 1.])"
      ]
     },
     "execution_count": 42,
     "metadata": {},
     "output_type": "execute_result"
    }
   ],
   "source": [
    "np.ones(5)"
   ]
  },
  {
   "cell_type": "code",
   "execution_count": 43,
   "id": "ff9d54eb",
   "metadata": {},
   "outputs": [
    {
     "data": {
      "text/plain": [
       "array([[1, 1, 1, 1, 1, 1, 1],\n",
       "       [1, 1, 1, 1, 1, 1, 1],\n",
       "       [1, 1, 1, 1, 1, 1, 1],\n",
       "       [1, 1, 1, 1, 1, 1, 1]])"
      ]
     },
     "execution_count": 43,
     "metadata": {},
     "output_type": "execute_result"
    }
   ],
   "source": [
    "np.ones((4,7),dtype=int)"
   ]
  },
  {
   "cell_type": "code",
   "execution_count": 44,
   "id": "09a5b924",
   "metadata": {},
   "outputs": [
    {
     "data": {
      "text/plain": [
       "array([8, 8, 8, 8, 8])"
      ]
     },
     "execution_count": 44,
     "metadata": {},
     "output_type": "execute_result"
    }
   ],
   "source": [
    "7+np.ones(5, dtype=int)"
   ]
  },
  {
   "cell_type": "code",
   "execution_count": 45,
   "id": "e3349be1",
   "metadata": {},
   "outputs": [
    {
     "data": {
      "text/plain": [
       "array([[0.20656857, 0.84945066, 0.04954185, 0.87975366, 0.56877909],\n",
       "       [0.99889475, 0.97088291, 0.0429726 , 0.45665816, 0.27815424],\n",
       "       [0.69251727, 0.50183943, 0.38640824, 0.10186602, 0.53897029],\n",
       "       [0.4039017 , 0.22984631, 0.40142965, 0.84516287, 0.97409406]])"
      ]
     },
     "execution_count": 45,
     "metadata": {},
     "output_type": "execute_result"
    }
   ],
   "source": [
    "np.empty((4,5))"
   ]
  },
  {
   "cell_type": "code",
   "execution_count": 46,
   "id": "e23fa33a",
   "metadata": {},
   "outputs": [
    {
     "data": {
      "text/plain": [
       "array([2.        , 2.08163265, 2.16326531, 2.24489796, 2.32653061,\n",
       "       2.40816327, 2.48979592, 2.57142857, 2.65306122, 2.73469388,\n",
       "       2.81632653, 2.89795918, 2.97959184, 3.06122449, 3.14285714,\n",
       "       3.2244898 , 3.30612245, 3.3877551 , 3.46938776, 3.55102041,\n",
       "       3.63265306, 3.71428571, 3.79591837, 3.87755102, 3.95918367,\n",
       "       4.04081633, 4.12244898, 4.20408163, 4.28571429, 4.36734694,\n",
       "       4.44897959, 4.53061224, 4.6122449 , 4.69387755, 4.7755102 ,\n",
       "       4.85714286, 4.93877551, 5.02040816, 5.10204082, 5.18367347,\n",
       "       5.26530612, 5.34693878, 5.42857143, 5.51020408, 5.59183673,\n",
       "       5.67346939, 5.75510204, 5.83673469, 5.91836735, 6.        ])"
      ]
     },
     "execution_count": 46,
     "metadata": {},
     "output_type": "execute_result"
    }
   ],
   "source": [
    "np.linspace(2,6)"
   ]
  },
  {
   "cell_type": "code",
   "execution_count": 47,
   "id": "137f98c3",
   "metadata": {},
   "outputs": [
    {
     "data": {
      "text/plain": [
       "array([2.        , 2.44444444, 2.88888889, 3.33333333, 3.77777778,\n",
       "       4.22222222, 4.66666667, 5.11111111, 5.55555556, 6.        ])"
      ]
     },
     "execution_count": 47,
     "metadata": {},
     "output_type": "execute_result"
    }
   ],
   "source": [
    "np.linspace(2,6,10)"
   ]
  },
  {
   "cell_type": "code",
   "execution_count": 48,
   "id": "51ca2a8d",
   "metadata": {},
   "outputs": [
    {
     "data": {
      "text/plain": [
       "array([[2. , 2.4],\n",
       "       [2.8, 3.2],\n",
       "       [3.6, 4. ],\n",
       "       [4.4, 4.8],\n",
       "       [5.2, 5.6]])"
      ]
     },
     "execution_count": 48,
     "metadata": {},
     "output_type": "execute_result"
    }
   ],
   "source": [
    "np.linspace(2,6,10, endpoint=False).reshape(5,2)"
   ]
  },
  {
   "cell_type": "code",
   "execution_count": 49,
   "id": "8bd02add",
   "metadata": {},
   "outputs": [
    {
     "data": {
      "text/plain": [
       "(array([2. , 2.4, 2.8, 3.2, 3.6, 4. , 4.4, 4.8, 5.2, 5.6]), 0.4)"
      ]
     },
     "execution_count": 49,
     "metadata": {},
     "output_type": "execute_result"
    }
   ],
   "source": [
    "np.linspace(2,6,10, endpoint=False,retstep=True)"
   ]
  },
  {
   "cell_type": "markdown",
   "id": "06176c86",
   "metadata": {},
   "source": [
    "`retstep=True` > will show the stepsize"
   ]
  },
  {
   "cell_type": "code",
   "execution_count": 50,
   "id": "ae50b2e9",
   "metadata": {},
   "outputs": [
    {
     "data": {
      "text/plain": [
       "array([ 100.        ,  129.1549665 ,  166.81005372,  215.443469  ,\n",
       "        278.25594022,  359.38136638,  464.15888336,  599.48425032,\n",
       "        774.26368268, 1000.        ])"
      ]
     },
     "execution_count": 50,
     "metadata": {},
     "output_type": "execute_result"
    }
   ],
   "source": [
    "np.logspace(2,3,10, base=10)"
   ]
  },
  {
   "cell_type": "code",
   "execution_count": 51,
   "id": "c12549d9",
   "metadata": {},
   "outputs": [],
   "source": [
    "a = np.array([1,2,3,4,5])"
   ]
  },
  {
   "cell_type": "code",
   "execution_count": 52,
   "id": "3efa6e47",
   "metadata": {},
   "outputs": [],
   "source": [
    "b=a"
   ]
  },
  {
   "cell_type": "code",
   "execution_count": 53,
   "id": "2c08e3a7",
   "metadata": {},
   "outputs": [
    {
     "data": {
      "text/plain": [
       "(2101399158832, 2101399158832)"
      ]
     },
     "execution_count": 53,
     "metadata": {},
     "output_type": "execute_result"
    }
   ],
   "source": [
    "id(a), id(b)"
   ]
  },
  {
   "cell_type": "code",
   "execution_count": 54,
   "id": "c345b562",
   "metadata": {},
   "outputs": [],
   "source": [
    "c=np.copy(a)"
   ]
  },
  {
   "cell_type": "code",
   "execution_count": 55,
   "id": "7cc2ca69",
   "metadata": {},
   "outputs": [
    {
     "data": {
      "text/plain": [
       "(2101399158832, 2101399158832, 2101415404144)"
      ]
     },
     "execution_count": 55,
     "metadata": {},
     "output_type": "execute_result"
    }
   ],
   "source": [
    "id(a), id(b), id(c)"
   ]
  },
  {
   "cell_type": "code",
   "execution_count": null,
   "id": "7ac1ace2",
   "metadata": {},
   "outputs": [],
   "source": []
  }
 ],
 "metadata": {
  "kernelspec": {
   "display_name": "Python 3 (ipykernel)",
   "language": "python",
   "name": "python3"
  },
  "language_info": {
   "codemirror_mode": {
    "name": "ipython",
    "version": 3
   },
   "file_extension": ".py",
   "mimetype": "text/x-python",
   "name": "python",
   "nbconvert_exporter": "python",
   "pygments_lexer": "ipython3",
   "version": "3.9.13"
  }
 },
 "nbformat": 4,
 "nbformat_minor": 5
}
