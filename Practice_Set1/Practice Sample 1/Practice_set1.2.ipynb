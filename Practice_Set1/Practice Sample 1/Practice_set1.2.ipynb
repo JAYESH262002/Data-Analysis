{
 "cells": [
  {
   "cell_type": "code",
   "execution_count": 1,
   "id": "c6f7d46f",
   "metadata": {},
   "outputs": [],
   "source": [
    "import pandas as pd\n",
    "import numpy as np\n",
    "import seaborn as sns"
   ]
  },
  {
   "cell_type": "code",
   "execution_count": 2,
   "id": "a0c2eb68",
   "metadata": {},
   "outputs": [
    {
     "data": {
      "text/html": [
       "<div>\n",
       "<style scoped>\n",
       "    .dataframe tbody tr th:only-of-type {\n",
       "        vertical-align: middle;\n",
       "    }\n",
       "\n",
       "    .dataframe tbody tr th {\n",
       "        vertical-align: top;\n",
       "    }\n",
       "\n",
       "    .dataframe thead th {\n",
       "        text-align: right;\n",
       "    }\n",
       "</style>\n",
       "<table border=\"1\" class=\"dataframe\">\n",
       "  <thead>\n",
       "    <tr style=\"text-align: right;\">\n",
       "      <th></th>\n",
       "      <th>order_id</th>\n",
       "      <th>product</th>\n",
       "      <th>quantity</th>\n",
       "      <th>price</th>\n",
       "      <th>total</th>\n",
       "      <th>full_date</th>\n",
       "      <th>hour</th>\n",
       "      <th>date</th>\n",
       "      <th>month</th>\n",
       "      <th>year</th>\n",
       "      <th>day</th>\n",
       "      <th>address</th>\n",
       "      <th>city</th>\n",
       "      <th>state</th>\n",
       "      <th>pincode</th>\n",
       "      <th>timezone</th>\n",
       "    </tr>\n",
       "  </thead>\n",
       "  <tbody>\n",
       "    <tr>\n",
       "      <th>0</th>\n",
       "      <td>236670</td>\n",
       "      <td>Wired Headphones</td>\n",
       "      <td>2</td>\n",
       "      <td>11.99</td>\n",
       "      <td>23.98</td>\n",
       "      <td>08/31/19</td>\n",
       "      <td>22</td>\n",
       "      <td>31</td>\n",
       "      <td>8</td>\n",
       "      <td>2019</td>\n",
       "      <td>Sat</td>\n",
       "      <td>359 Spruce St</td>\n",
       "      <td>Seattle</td>\n",
       "      <td>WA</td>\n",
       "      <td>98101</td>\n",
       "      <td>PM</td>\n",
       "    </tr>\n",
       "    <tr>\n",
       "      <th>1</th>\n",
       "      <td>236671</td>\n",
       "      <td>Bose SoundSport Headphones</td>\n",
       "      <td>1</td>\n",
       "      <td>99.99</td>\n",
       "      <td>99.99</td>\n",
       "      <td>08/15/19</td>\n",
       "      <td>15</td>\n",
       "      <td>15</td>\n",
       "      <td>8</td>\n",
       "      <td>2019</td>\n",
       "      <td>Thu</td>\n",
       "      <td>492 Ridge St</td>\n",
       "      <td>Dallas</td>\n",
       "      <td>TX</td>\n",
       "      <td>75001</td>\n",
       "      <td>PM</td>\n",
       "    </tr>\n",
       "  </tbody>\n",
       "</table>\n",
       "</div>"
      ],
      "text/plain": [
       "   order_id                     product  quantity  price  total full_date  \\\n",
       "0    236670            Wired Headphones         2  11.99  23.98  08/31/19   \n",
       "1    236671  Bose SoundSport Headphones         1  99.99  99.99  08/15/19   \n",
       "\n",
       "   hour  date  month  year  day        address     city state  pincode  \\\n",
       "0    22    31      8  2019  Sat  359 Spruce St  Seattle    WA    98101   \n",
       "1    15    15      8  2019  Thu   492 Ridge St   Dallas    TX    75001   \n",
       "\n",
       "  timezone  \n",
       "0       PM  \n",
       "1       PM  "
      ]
     },
     "execution_count": 2,
     "metadata": {},
     "output_type": "execute_result"
    }
   ],
   "source": [
    "df=pd.read_csv('data.csv')\n",
    "df.head(2)"
   ]
  },
  {
   "cell_type": "code",
   "execution_count": 3,
   "id": "a2feca16",
   "metadata": {},
   "outputs": [
    {
     "name": "stdout",
     "output_type": "stream",
     "text": [
      "<class 'pandas.core.frame.DataFrame'>\n",
      "RangeIndex: 185950 entries, 0 to 185949\n",
      "Data columns (total 16 columns):\n",
      " #   Column     Non-Null Count   Dtype  \n",
      "---  ------     --------------   -----  \n",
      " 0   order_id   185950 non-null  int64  \n",
      " 1   product    185950 non-null  object \n",
      " 2   quantity   185950 non-null  int64  \n",
      " 3   price      185950 non-null  float64\n",
      " 4   total      185950 non-null  float64\n",
      " 5   full_date  185950 non-null  object \n",
      " 6   hour       185950 non-null  int64  \n",
      " 7   date       185950 non-null  int64  \n",
      " 8   month      185950 non-null  int64  \n",
      " 9   year       185950 non-null  int64  \n",
      " 10  day        185950 non-null  object \n",
      " 11  address    185950 non-null  object \n",
      " 12  city       185950 non-null  object \n",
      " 13  state      185950 non-null  object \n",
      " 14  pincode    185950 non-null  int64  \n",
      " 15  timezone   185950 non-null  object \n",
      "dtypes: float64(2), int64(7), object(7)\n",
      "memory usage: 22.7+ MB\n"
     ]
    }
   ],
   "source": [
    "df.info()"
   ]
  },
  {
   "cell_type": "markdown",
   "id": "36de8511",
   "metadata": {},
   "source": [
    "<div class='alert alert-info'> Q1. What is the 4th highest product sold in terms of total revenue generated overall ?</div>"
   ]
  },
  {
   "cell_type": "code",
   "execution_count": 4,
   "id": "cc452d94",
   "metadata": {},
   "outputs": [
    {
     "data": {
      "image/png": "[encoded data removed]",
      "text/plain": [
       "<Figure size 432x288 with 1 Axes>"
      ]
     },
     "metadata": {},
     "output_type": "display_data"
    }
   ],
   "source": [
    "df.groupby('product')['total'].sum().nlargest(5).sort_values(ascending=False).plot(kind='pie', autopct='%0.1f');"
   ]
  },
  {
   "cell_type": "markdown",
   "id": "e5625091",
   "metadata": {},
   "source": [
    "- ### Inferences: \n",
    "#### The 4th highest product sold in term of total revenue generated is `Google Phone`"
   ]
  },
  {
   "cell_type": "markdown",
   "id": "291d9b44",
   "metadata": {},
   "source": [
    "<div class='alert alert-info'>Q2. Which City sees the maximum number of orders being placed in the month of June 2019?</div>"
   ]
  },
  {
   "cell_type": "code",
   "execution_count": 5,
   "id": "8d70de93",
   "metadata": {},
   "outputs": [
    {
     "data": {
      "text/html": [
       "<div>\n",
       "<style scoped>\n",
       "    .dataframe tbody tr th:only-of-type {\n",
       "        vertical-align: middle;\n",
       "    }\n",
       "\n",
       "    .dataframe tbody tr th {\n",
       "        vertical-align: top;\n",
       "    }\n",
       "\n",
       "    .dataframe thead th {\n",
       "        text-align: right;\n",
       "    }\n",
       "</style>\n",
       "<table border=\"1\" class=\"dataframe\">\n",
       "  <thead>\n",
       "    <tr style=\"text-align: right;\">\n",
       "      <th></th>\n",
       "      <th>order_id</th>\n",
       "      <th>product</th>\n",
       "      <th>quantity</th>\n",
       "      <th>price</th>\n",
       "      <th>total</th>\n",
       "      <th>full_date</th>\n",
       "      <th>hour</th>\n",
       "      <th>date</th>\n",
       "      <th>month</th>\n",
       "      <th>year</th>\n",
       "      <th>day</th>\n",
       "      <th>address</th>\n",
       "      <th>city</th>\n",
       "      <th>state</th>\n",
       "      <th>pincode</th>\n",
       "      <th>timezone</th>\n",
       "    </tr>\n",
       "  </thead>\n",
       "  <tbody>\n",
       "    <tr>\n",
       "      <th>41402</th>\n",
       "      <td>209921</td>\n",
       "      <td>USB-C Charging Cable</td>\n",
       "      <td>1</td>\n",
       "      <td>11.95</td>\n",
       "      <td>11.95</td>\n",
       "      <td>06/23/19</td>\n",
       "      <td>19</td>\n",
       "      <td>23</td>\n",
       "      <td>6</td>\n",
       "      <td>2019</td>\n",
       "      <td>Sun</td>\n",
       "      <td>950 Walnut St</td>\n",
       "      <td>Portland</td>\n",
       "      <td>ME</td>\n",
       "      <td>4101</td>\n",
       "      <td>PM</td>\n",
       "    </tr>\n",
       "    <tr>\n",
       "      <th>41403</th>\n",
       "      <td>209922</td>\n",
       "      <td>Macbook Pro Laptop</td>\n",
       "      <td>1</td>\n",
       "      <td>1700.00</td>\n",
       "      <td>1700.00</td>\n",
       "      <td>06/30/19</td>\n",
       "      <td>10</td>\n",
       "      <td>30</td>\n",
       "      <td>6</td>\n",
       "      <td>2019</td>\n",
       "      <td>Sun</td>\n",
       "      <td>80 4th St</td>\n",
       "      <td>San Francisco</td>\n",
       "      <td>CA</td>\n",
       "      <td>94016</td>\n",
       "      <td>AM</td>\n",
       "    </tr>\n",
       "  </tbody>\n",
       "</table>\n",
       "</div>"
      ],
      "text/plain": [
       "       order_id               product  quantity    price    total full_date  \\\n",
       "41402    209921  USB-C Charging Cable         1    11.95    11.95  06/23/19   \n",
       "41403    209922    Macbook Pro Laptop         1  1700.00  1700.00  06/30/19   \n",
       "\n",
       "       hour  date  month  year  day        address           city state  \\\n",
       "41402    19    23      6  2019  Sun  950 Walnut St       Portland    ME   \n",
       "41403    10    30      6  2019  Sun      80 4th St  San Francisco    CA   \n",
       "\n",
       "       pincode timezone  \n",
       "41402     4101       PM  \n",
       "41403    94016       AM  "
      ]
     },
     "execution_count": 5,
     "metadata": {},
     "output_type": "execute_result"
    }
   ],
   "source": [
    "df2=df[(df['month']==6) & (df['year']==2019)]\n",
    "df2.head(2)"
   ]
  },
  {
   "cell_type": "code",
   "execution_count": 6,
   "id": "93ed6f4a",
   "metadata": {},
   "outputs": [
    {
     "data": {
      "image/png": "[encoded data removed]",
      "text/plain": [
       "<Figure size 432x288 with 1 Axes>"
      ]
     },
     "metadata": {},
     "output_type": "display_data"
    }
   ],
   "source": [
    "df2.groupby('city')['quantity'].sum().nlargest(3).sort_values().plot(kind='pie', autopct='%0.1f', shadow=True);"
   ]
  },
  {
   "cell_type": "markdown",
   "id": "1b3da925",
   "metadata": {},
   "source": [
    "- ### Inferences:\n",
    "#### The maximum number of order being placed in the month of june 2019 is `San-Francisco`"
   ]
  },
  {
   "cell_type": "markdown",
   "id": "107b0dd3",
   "metadata": {},
   "source": [
    "<div class='alert alert-info'>Q3. What is the least popular product in terms of unique orders in the city of Los Angeles. ?</div>"
   ]
  },
  {
   "cell_type": "code",
   "execution_count": 7,
   "id": "7cac21f0",
   "metadata": {},
   "outputs": [
    {
     "data": {
      "text/html": [
       "<div>\n",
       "<style scoped>\n",
       "    .dataframe tbody tr th:only-of-type {\n",
       "        vertical-align: middle;\n",
       "    }\n",
       "\n",
       "    .dataframe tbody tr th {\n",
       "        vertical-align: top;\n",
       "    }\n",
       "\n",
       "    .dataframe thead th {\n",
       "        text-align: right;\n",
       "    }\n",
       "</style>\n",
       "<table border=\"1\" class=\"dataframe\">\n",
       "  <thead>\n",
       "    <tr style=\"text-align: right;\">\n",
       "      <th></th>\n",
       "      <th>order_id</th>\n",
       "      <th>product</th>\n",
       "      <th>quantity</th>\n",
       "      <th>price</th>\n",
       "      <th>total</th>\n",
       "      <th>full_date</th>\n",
       "      <th>hour</th>\n",
       "      <th>date</th>\n",
       "      <th>month</th>\n",
       "      <th>year</th>\n",
       "      <th>day</th>\n",
       "      <th>address</th>\n",
       "      <th>city</th>\n",
       "      <th>state</th>\n",
       "      <th>pincode</th>\n",
       "      <th>timezone</th>\n",
       "    </tr>\n",
       "  </thead>\n",
       "  <tbody>\n",
       "    <tr>\n",
       "      <th>3</th>\n",
       "      <td>236673</td>\n",
       "      <td>AA Batteries (4-pack)</td>\n",
       "      <td>2</td>\n",
       "      <td>3.84</td>\n",
       "      <td>7.68</td>\n",
       "      <td>08/29/19</td>\n",
       "      <td>20</td>\n",
       "      <td>29</td>\n",
       "      <td>8</td>\n",
       "      <td>2019</td>\n",
       "      <td>Thu</td>\n",
       "      <td>631 2nd St</td>\n",
       "      <td>Los Angeles</td>\n",
       "      <td>CA</td>\n",
       "      <td>90001</td>\n",
       "      <td>PM</td>\n",
       "    </tr>\n",
       "    <tr>\n",
       "      <th>6</th>\n",
       "      <td>236676</td>\n",
       "      <td>34in Ultrawide Monitor</td>\n",
       "      <td>1</td>\n",
       "      <td>379.99</td>\n",
       "      <td>379.99</td>\n",
       "      <td>08/04/19</td>\n",
       "      <td>19</td>\n",
       "      <td>4</td>\n",
       "      <td>8</td>\n",
       "      <td>2019</td>\n",
       "      <td>Sun</td>\n",
       "      <td>470 Cherry St</td>\n",
       "      <td>Los Angeles</td>\n",
       "      <td>CA</td>\n",
       "      <td>90001</td>\n",
       "      <td>PM</td>\n",
       "    </tr>\n",
       "  </tbody>\n",
       "</table>\n",
       "</div>"
      ],
      "text/plain": [
       "   order_id                 product  quantity   price   total full_date  hour  \\\n",
       "3    236673   AA Batteries (4-pack)         2    3.84    7.68  08/29/19    20   \n",
       "6    236676  34in Ultrawide Monitor         1  379.99  379.99  08/04/19    19   \n",
       "\n",
       "   date  month  year  day        address         city state  pincode timezone  \n",
       "3    29      8  2019  Thu     631 2nd St  Los Angeles    CA    90001       PM  \n",
       "6     4      8  2019  Sun  470 Cherry St  Los Angeles    CA    90001       PM  "
      ]
     },
     "execution_count": 7,
     "metadata": {},
     "output_type": "execute_result"
    }
   ],
   "source": [
    "df2=df[df['city']=='Los Angeles']\n",
    "df2.head(2)"
   ]
  },
  {
   "cell_type": "code",
   "execution_count": 8,
   "id": "8a9e5501",
   "metadata": {},
   "outputs": [
    {
     "data": {
      "text/plain": [
       "product\n",
       "LG Washing Machine    105\n",
       "LG Dryer              116\n",
       "Vareebadd Phone       317\n",
       "ThinkPad Laptop       641\n",
       "20in Monitor          658\n",
       "Name: quantity, dtype: int64"
      ]
     },
     "execution_count": 8,
     "metadata": {},
     "output_type": "execute_result"
    }
   ],
   "source": [
    "df2.groupby('product')['quantity'].sum().nsmallest(5).sort_values()"
   ]
  },
  {
   "cell_type": "markdown",
   "id": "beb8f970",
   "metadata": {},
   "source": [
    "- ### Inferences:\n",
    "#### The least popular product in the city of Los Angelas is `LG Washing Machine` with the toal order of `105`"
   ]
  },
  {
   "cell_type": "markdown",
   "id": "ede2f583",
   "metadata": {},
   "source": [
    "<div class='alert alert-info'>Q4. Which state has the highest revenue generated from all the apple products in year 2019?\n",
    "Hint { Apple products : Apple airpods, iphone, Macbook} </div>"
   ]
  },
  {
   "cell_type": "code",
   "execution_count": 9,
   "id": "3ce8d5ec",
   "metadata": {},
   "outputs": [
    {
     "data": {
      "text/html": [
       "<div>\n",
       "<style scoped>\n",
       "    .dataframe tbody tr th:only-of-type {\n",
       "        vertical-align: middle;\n",
       "    }\n",
       "\n",
       "    .dataframe tbody tr th {\n",
       "        vertical-align: top;\n",
       "    }\n",
       "\n",
       "    .dataframe thead th {\n",
       "        text-align: right;\n",
       "    }\n",
       "</style>\n",
       "<table border=\"1\" class=\"dataframe\">\n",
       "  <thead>\n",
       "    <tr style=\"text-align: right;\">\n",
       "      <th></th>\n",
       "      <th>order_id</th>\n",
       "      <th>product</th>\n",
       "      <th>quantity</th>\n",
       "      <th>price</th>\n",
       "      <th>total</th>\n",
       "      <th>full_date</th>\n",
       "      <th>hour</th>\n",
       "      <th>date</th>\n",
       "      <th>month</th>\n",
       "      <th>year</th>\n",
       "      <th>day</th>\n",
       "      <th>address</th>\n",
       "      <th>city</th>\n",
       "      <th>state</th>\n",
       "      <th>pincode</th>\n",
       "      <th>timezone</th>\n",
       "    </tr>\n",
       "  </thead>\n",
       "  <tbody>\n",
       "    <tr>\n",
       "      <th>2</th>\n",
       "      <td>236672</td>\n",
       "      <td>iPhone</td>\n",
       "      <td>1</td>\n",
       "      <td>700.0</td>\n",
       "      <td>700.0</td>\n",
       "      <td>08/06/19</td>\n",
       "      <td>14</td>\n",
       "      <td>6</td>\n",
       "      <td>8</td>\n",
       "      <td>2019</td>\n",
       "      <td>Tue</td>\n",
       "      <td>149 7th St</td>\n",
       "      <td>Portland</td>\n",
       "      <td>OR</td>\n",
       "      <td>97035</td>\n",
       "      <td>PM</td>\n",
       "    </tr>\n",
       "    <tr>\n",
       "      <th>9</th>\n",
       "      <td>236679</td>\n",
       "      <td>Macbook Pro Laptop</td>\n",
       "      <td>1</td>\n",
       "      <td>1700.0</td>\n",
       "      <td>1700.0</td>\n",
       "      <td>08/07/19</td>\n",
       "      <td>15</td>\n",
       "      <td>7</td>\n",
       "      <td>8</td>\n",
       "      <td>2019</td>\n",
       "      <td>Wed</td>\n",
       "      <td>239 Spruce St</td>\n",
       "      <td>Los Angeles</td>\n",
       "      <td>CA</td>\n",
       "      <td>90001</td>\n",
       "      <td>PM</td>\n",
       "    </tr>\n",
       "  </tbody>\n",
       "</table>\n",
       "</div>"
      ],
      "text/plain": [
       "   order_id             product  quantity   price   total full_date  hour  \\\n",
       "2    236672              iPhone         1   700.0   700.0  08/06/19    14   \n",
       "9    236679  Macbook Pro Laptop         1  1700.0  1700.0  08/07/19    15   \n",
       "\n",
       "   date  month  year  day        address         city state  pincode timezone  \n",
       "2     6      8  2019  Tue     149 7th St     Portland    OR    97035       PM  \n",
       "9     7      8  2019  Wed  239 Spruce St  Los Angeles    CA    90001       PM  "
      ]
     },
     "execution_count": 9,
     "metadata": {},
     "output_type": "execute_result"
    }
   ],
   "source": [
    "df2=df[(df['year']==2019) & ((df['product']=='Apple Airpods Headphones')| (df['product']=='Macbook Pro Laptop') | (df['product']=='iPhone'))]\n",
    "df2.head(2)"
   ]
  },
  {
   "cell_type": "code",
   "execution_count": 10,
   "id": "34123e1a",
   "metadata": {},
   "outputs": [
    {
     "data": {
      "text/plain": [
       "state\n",
       "TX    2013750.0\n",
       "NY    2047600.0\n",
       "CA    6082950.0\n",
       "Name: total, dtype: float64"
      ]
     },
     "execution_count": 10,
     "metadata": {},
     "output_type": "execute_result"
    }
   ],
   "source": [
    "df2.groupby('state')['total'].sum().nlargest(3).sort_values()"
   ]
  },
  {
   "cell_type": "markdown",
   "id": "6b230059",
   "metadata": {},
   "source": [
    "- ### Inferences:\n",
    "#### CA has the highest sales of all apple product in total revenue generated"
   ]
  },
  {
   "cell_type": "markdown",
   "id": "e08f96c9",
   "metadata": {},
   "source": [
    "<div class='alert alert-info'>Q5. What is the difference of revenue generated between weekend and weekday in the state of CA ?\n",
    "Hint { Weekday : Mon – Thu, Weekend : Fri – Sun}</div>"
   ]
  },
  {
   "cell_type": "code",
   "execution_count": 11,
   "id": "a05db330",
   "metadata": {},
   "outputs": [
    {
     "data": {
      "text/html": [
       "<div>\n",
       "<style scoped>\n",
       "    .dataframe tbody tr th:only-of-type {\n",
       "        vertical-align: middle;\n",
       "    }\n",
       "\n",
       "    .dataframe tbody tr th {\n",
       "        vertical-align: top;\n",
       "    }\n",
       "\n",
       "    .dataframe thead th {\n",
       "        text-align: right;\n",
       "    }\n",
       "</style>\n",
       "<table border=\"1\" class=\"dataframe\">\n",
       "  <thead>\n",
       "    <tr style=\"text-align: right;\">\n",
       "      <th></th>\n",
       "      <th>order_id</th>\n",
       "      <th>product</th>\n",
       "      <th>quantity</th>\n",
       "      <th>price</th>\n",
       "      <th>total</th>\n",
       "      <th>full_date</th>\n",
       "      <th>hour</th>\n",
       "      <th>date</th>\n",
       "      <th>month</th>\n",
       "      <th>year</th>\n",
       "      <th>day</th>\n",
       "      <th>address</th>\n",
       "      <th>city</th>\n",
       "      <th>state</th>\n",
       "      <th>pincode</th>\n",
       "      <th>timezone</th>\n",
       "    </tr>\n",
       "  </thead>\n",
       "  <tbody>\n",
       "    <tr>\n",
       "      <th>7</th>\n",
       "      <td>236677</td>\n",
       "      <td>20in Monitor</td>\n",
       "      <td>1</td>\n",
       "      <td>109.99</td>\n",
       "      <td>109.99</td>\n",
       "      <td>08/13/19</td>\n",
       "      <td>7</td>\n",
       "      <td>13</td>\n",
       "      <td>8</td>\n",
       "      <td>2019</td>\n",
       "      <td>Tue</td>\n",
       "      <td>918 6th St</td>\n",
       "      <td>San Francisco</td>\n",
       "      <td>CA</td>\n",
       "      <td>94016</td>\n",
       "      <td>AM</td>\n",
       "    </tr>\n",
       "    <tr>\n",
       "      <th>9</th>\n",
       "      <td>236679</td>\n",
       "      <td>Macbook Pro Laptop</td>\n",
       "      <td>1</td>\n",
       "      <td>1700.00</td>\n",
       "      <td>1700.00</td>\n",
       "      <td>08/07/19</td>\n",
       "      <td>15</td>\n",
       "      <td>7</td>\n",
       "      <td>8</td>\n",
       "      <td>2019</td>\n",
       "      <td>Wed</td>\n",
       "      <td>239 Spruce St</td>\n",
       "      <td>Los Angeles</td>\n",
       "      <td>CA</td>\n",
       "      <td>90001</td>\n",
       "      <td>PM</td>\n",
       "    </tr>\n",
       "  </tbody>\n",
       "</table>\n",
       "</div>"
      ],
      "text/plain": [
       "   order_id             product  quantity    price    total full_date  hour  \\\n",
       "7    236677        20in Monitor         1   109.99   109.99  08/13/19     7   \n",
       "9    236679  Macbook Pro Laptop         1  1700.00  1700.00  08/07/19    15   \n",
       "\n",
       "   date  month  year  day        address           city state  pincode  \\\n",
       "7    13      8  2019  Tue     918 6th St  San Francisco    CA    94016   \n",
       "9     7      8  2019  Wed  239 Spruce St    Los Angeles    CA    90001   \n",
       "\n",
       "  timezone  \n",
       "7       AM  \n",
       "9       PM  "
      ]
     },
     "execution_count": 11,
     "metadata": {},
     "output_type": "execute_result"
    }
   ],
   "source": [
    "weekday = df[(df['state']=='CA') & ((df['day']=='Mon') | (df['day']=='Tue') | (df['day']=='Wed') | (df['day']=='Thur'))]\n",
    "weekday.head(2)"
   ]
  },
  {
   "cell_type": "code",
   "execution_count": 12,
   "id": "7bea5d83",
   "metadata": {},
   "outputs": [
    {
     "data": {
      "text/html": [
       "<div>\n",
       "<style scoped>\n",
       "    .dataframe tbody tr th:only-of-type {\n",
       "        vertical-align: middle;\n",
       "    }\n",
       "\n",
       "    .dataframe tbody tr th {\n",
       "        vertical-align: top;\n",
       "    }\n",
       "\n",
       "    .dataframe thead th {\n",
       "        text-align: right;\n",
       "    }\n",
       "</style>\n",
       "<table border=\"1\" class=\"dataframe\">\n",
       "  <thead>\n",
       "    <tr style=\"text-align: right;\">\n",
       "      <th></th>\n",
       "      <th>order_id</th>\n",
       "      <th>product</th>\n",
       "      <th>quantity</th>\n",
       "      <th>price</th>\n",
       "      <th>total</th>\n",
       "      <th>full_date</th>\n",
       "      <th>hour</th>\n",
       "      <th>date</th>\n",
       "      <th>month</th>\n",
       "      <th>year</th>\n",
       "      <th>day</th>\n",
       "      <th>address</th>\n",
       "      <th>city</th>\n",
       "      <th>state</th>\n",
       "      <th>pincode</th>\n",
       "      <th>timezone</th>\n",
       "    </tr>\n",
       "  </thead>\n",
       "  <tbody>\n",
       "    <tr>\n",
       "      <th>5</th>\n",
       "      <td>236675</td>\n",
       "      <td>Wired Headphones</td>\n",
       "      <td>1</td>\n",
       "      <td>11.99</td>\n",
       "      <td>11.99</td>\n",
       "      <td>08/02/19</td>\n",
       "      <td>23</td>\n",
       "      <td>2</td>\n",
       "      <td>8</td>\n",
       "      <td>2019</td>\n",
       "      <td>Fri</td>\n",
       "      <td>470 Hill St</td>\n",
       "      <td>San Francisco</td>\n",
       "      <td>CA</td>\n",
       "      <td>94016</td>\n",
       "      <td>PM</td>\n",
       "    </tr>\n",
       "    <tr>\n",
       "      <th>6</th>\n",
       "      <td>236676</td>\n",
       "      <td>34in Ultrawide Monitor</td>\n",
       "      <td>1</td>\n",
       "      <td>379.99</td>\n",
       "      <td>379.99</td>\n",
       "      <td>08/04/19</td>\n",
       "      <td>19</td>\n",
       "      <td>4</td>\n",
       "      <td>8</td>\n",
       "      <td>2019</td>\n",
       "      <td>Sun</td>\n",
       "      <td>470 Cherry St</td>\n",
       "      <td>Los Angeles</td>\n",
       "      <td>CA</td>\n",
       "      <td>90001</td>\n",
       "      <td>PM</td>\n",
       "    </tr>\n",
       "  </tbody>\n",
       "</table>\n",
       "</div>"
      ],
      "text/plain": [
       "   order_id                 product  quantity   price   total full_date  hour  \\\n",
       "5    236675        Wired Headphones         1   11.99   11.99  08/02/19    23   \n",
       "6    236676  34in Ultrawide Monitor         1  379.99  379.99  08/04/19    19   \n",
       "\n",
       "   date  month  year  day        address           city state  pincode  \\\n",
       "5     2      8  2019  Fri    470 Hill St  San Francisco    CA    94016   \n",
       "6     4      8  2019  Sun  470 Cherry St    Los Angeles    CA    90001   \n",
       "\n",
       "  timezone  \n",
       "5       PM  \n",
       "6       PM  "
      ]
     },
     "execution_count": 12,
     "metadata": {},
     "output_type": "execute_result"
    }
   ],
   "source": [
    "weekend = df[(df['state']=='CA') & ((df['day']=='Fri') | (df['day']=='Sat') | (df['day']=='Sun'))]\n",
    "weekend.head(2)"
   ]
  },
  {
   "cell_type": "code",
   "execution_count": 13,
   "id": "391114ee",
   "metadata": {},
   "outputs": [
    {
     "data": {
      "text/plain": [
       "(5993208.2299999995, 5799084.76)"
      ]
     },
     "execution_count": 13,
     "metadata": {},
     "output_type": "execute_result"
    }
   ],
   "source": [
    "weekday['total'].sum() , weekend['total'].sum()"
   ]
  },
  {
   "cell_type": "code",
   "execution_count": 14,
   "id": "6e119804",
   "metadata": {},
   "outputs": [
    {
     "data": {
      "text/plain": [
       "194123.46999999974"
      ]
     },
     "execution_count": 14,
     "metadata": {},
     "output_type": "execute_result"
    }
   ],
   "source": [
    "weekday['total'].sum() - weekend['total'].sum()"
   ]
  },
  {
   "cell_type": "markdown",
   "id": "9dfbc641",
   "metadata": {},
   "source": [
    "- ### Inferences:\n",
    "#### The difference of revenue generated between weekend and weekday in the state of CA is `194123.46999999974`"
   ]
  },
  {
   "cell_type": "markdown",
   "id": "5ad6aa5f",
   "metadata": {},
   "source": [
    "<div class='alert alert-info'> Q6. Which city has seen the overall least orders in night hours in the months of May, June and July 2019. \n",
    "Hint { Night Hours : 18 – 24 } </div>"
   ]
  },
  {
   "cell_type": "code",
   "execution_count": 15,
   "id": "38923c05",
   "metadata": {
    "scrolled": true
   },
   "outputs": [
    {
     "data": {
      "text/html": [
       "<div>\n",
       "<style scoped>\n",
       "    .dataframe tbody tr th:only-of-type {\n",
       "        vertical-align: middle;\n",
       "    }\n",
       "\n",
       "    .dataframe tbody tr th {\n",
       "        vertical-align: top;\n",
       "    }\n",
       "\n",
       "    .dataframe thead th {\n",
       "        text-align: right;\n",
       "    }\n",
       "</style>\n",
       "<table border=\"1\" class=\"dataframe\">\n",
       "  <thead>\n",
       "    <tr style=\"text-align: right;\">\n",
       "      <th></th>\n",
       "      <th>order_id</th>\n",
       "      <th>product</th>\n",
       "      <th>quantity</th>\n",
       "      <th>price</th>\n",
       "      <th>total</th>\n",
       "      <th>full_date</th>\n",
       "      <th>hour</th>\n",
       "      <th>date</th>\n",
       "      <th>month</th>\n",
       "      <th>year</th>\n",
       "      <th>day</th>\n",
       "      <th>address</th>\n",
       "      <th>city</th>\n",
       "      <th>state</th>\n",
       "      <th>pincode</th>\n",
       "      <th>timezone</th>\n",
       "    </tr>\n",
       "  </thead>\n",
       "  <tbody>\n",
       "    <tr>\n",
       "      <th>27116</th>\n",
       "      <td>222915</td>\n",
       "      <td>Bose SoundSport Headphones</td>\n",
       "      <td>1</td>\n",
       "      <td>99.99</td>\n",
       "      <td>99.99</td>\n",
       "      <td>07/03/19</td>\n",
       "      <td>18</td>\n",
       "      <td>3</td>\n",
       "      <td>7</td>\n",
       "      <td>2019</td>\n",
       "      <td>Wed</td>\n",
       "      <td>899 Elm St</td>\n",
       "      <td>San Francisco</td>\n",
       "      <td>CA</td>\n",
       "      <td>94016</td>\n",
       "      <td>PM</td>\n",
       "    </tr>\n",
       "    <tr>\n",
       "      <th>27117</th>\n",
       "      <td>222916</td>\n",
       "      <td>Google Phone</td>\n",
       "      <td>1</td>\n",
       "      <td>600.00</td>\n",
       "      <td>600.00</td>\n",
       "      <td>07/21/19</td>\n",
       "      <td>22</td>\n",
       "      <td>21</td>\n",
       "      <td>7</td>\n",
       "      <td>2019</td>\n",
       "      <td>Sun</td>\n",
       "      <td>745 Chestnut St</td>\n",
       "      <td>New York City</td>\n",
       "      <td>NY</td>\n",
       "      <td>10001</td>\n",
       "      <td>PM</td>\n",
       "    </tr>\n",
       "  </tbody>\n",
       "</table>\n",
       "</div>"
      ],
      "text/plain": [
       "       order_id                     product  quantity   price   total  \\\n",
       "27116    222915  Bose SoundSport Headphones         1   99.99   99.99   \n",
       "27117    222916                Google Phone         1  600.00  600.00   \n",
       "\n",
       "      full_date  hour  date  month  year  day          address           city  \\\n",
       "27116  07/03/19    18     3      7  2019  Wed       899 Elm St  San Francisco   \n",
       "27117  07/21/19    22    21      7  2019  Sun  745 Chestnut St  New York City   \n",
       "\n",
       "      state  pincode timezone  \n",
       "27116    CA    94016       PM  \n",
       "27117    NY    10001       PM  "
      ]
     },
     "execution_count": 15,
     "metadata": {},
     "output_type": "execute_result"
    }
   ],
   "source": [
    "night=df[(df['hour'] >=18 ) & ((df['month']== 5) | (df['month']==6) | (df['month']==7)) & (df['year']==2019)]\n",
    "night.head(2)"
   ]
  },
  {
   "cell_type": "code",
   "execution_count": 16,
   "id": "c54ab3b5",
   "metadata": {},
   "outputs": [
    {
     "data": {
      "text/plain": [
       "(array([18, 19, 20, 21, 22, 23], dtype=int64),\n",
       " array([ 8,  9,  3,  4,  7,  6, 10, 11,  5, 12,  1,  2], dtype=int64),\n",
       " array([2019], dtype=int64))"
      ]
     },
     "execution_count": 16,
     "metadata": {},
     "output_type": "execute_result"
    }
   ],
   "source": [
    "night['hour'].sort_values().unique() , df2['month'].unique(), df2['year'].unique()"
   ]
  },
  {
   "cell_type": "code",
   "execution_count": 17,
   "id": "ceb54637",
   "metadata": {},
   "outputs": [
    {
     "data": {
      "text/plain": [
       "city\n",
       "Austin       822\n",
       "Portland    1157\n",
       "Atlanta     1347\n",
       "Seattle     1349\n",
       "Dallas      1384\n",
       "Name: quantity, dtype: int64"
      ]
     },
     "execution_count": 17,
     "metadata": {},
     "output_type": "execute_result"
    }
   ],
   "source": [
    "night.groupby('city')['quantity'].sum().nsmallest(5).sort_values()"
   ]
  },
  {
   "cell_type": "markdown",
   "id": "cbec8c71",
   "metadata": {},
   "source": [
    "- ### Inferences:\n",
    "#### The city of `Austin` has seen the lowest ordering of `822`"
   ]
  },
  {
   "cell_type": "markdown",
   "id": "e57b2de2",
   "metadata": {},
   "source": [
    "<div class='alert alert-info'>Q7. Is “Google Phone” better performing in respect to overall number of orders placed as well as \n",
    "            revenue generated than “iphone” in “New York City” ?</div>"
   ]
  },
  {
   "cell_type": "code",
   "execution_count": 18,
   "id": "c6ca5790",
   "metadata": {},
   "outputs": [
    {
     "data": {
      "text/html": [
       "<div>\n",
       "<style scoped>\n",
       "    .dataframe tbody tr th:only-of-type {\n",
       "        vertical-align: middle;\n",
       "    }\n",
       "\n",
       "    .dataframe tbody tr th {\n",
       "        vertical-align: top;\n",
       "    }\n",
       "\n",
       "    .dataframe thead th {\n",
       "        text-align: right;\n",
       "    }\n",
       "</style>\n",
       "<table border=\"1\" class=\"dataframe\">\n",
       "  <thead>\n",
       "    <tr style=\"text-align: right;\">\n",
       "      <th></th>\n",
       "      <th>order_id</th>\n",
       "      <th>product</th>\n",
       "      <th>quantity</th>\n",
       "      <th>price</th>\n",
       "      <th>total</th>\n",
       "      <th>full_date</th>\n",
       "      <th>hour</th>\n",
       "      <th>date</th>\n",
       "      <th>month</th>\n",
       "      <th>year</th>\n",
       "      <th>day</th>\n",
       "      <th>address</th>\n",
       "      <th>city</th>\n",
       "      <th>state</th>\n",
       "      <th>pincode</th>\n",
       "      <th>timezone</th>\n",
       "    </tr>\n",
       "  </thead>\n",
       "  <tbody>\n",
       "    <tr>\n",
       "      <th>62</th>\n",
       "      <td>236730</td>\n",
       "      <td>Google Phone</td>\n",
       "      <td>1</td>\n",
       "      <td>600.0</td>\n",
       "      <td>600.0</td>\n",
       "      <td>08/02/19</td>\n",
       "      <td>10</td>\n",
       "      <td>2</td>\n",
       "      <td>8</td>\n",
       "      <td>2019</td>\n",
       "      <td>Fri</td>\n",
       "      <td>445 Lincoln St</td>\n",
       "      <td>New York City</td>\n",
       "      <td>NY</td>\n",
       "      <td>10001</td>\n",
       "      <td>AM</td>\n",
       "    </tr>\n",
       "  </tbody>\n",
       "</table>\n",
       "</div>"
      ],
      "text/plain": [
       "    order_id       product  quantity  price  total full_date  hour  date  \\\n",
       "62    236730  Google Phone         1  600.0  600.0  08/02/19    10     2   \n",
       "\n",
       "    month  year  day         address           city state  pincode timezone  \n",
       "62      8  2019  Fri  445 Lincoln St  New York City    NY    10001       AM  "
      ]
     },
     "execution_count": 18,
     "metadata": {},
     "output_type": "execute_result"
    }
   ],
   "source": [
    "df2=df[(df['product']=='Google Phone') & (df['city']=='New York City')]\n",
    "df2.head(1)"
   ]
  },
  {
   "cell_type": "code",
   "execution_count": 19,
   "id": "d38bf1ed",
   "metadata": {},
   "outputs": [
    {
     "data": {
      "text/plain": [
       "(758, 454800.0)"
      ]
     },
     "execution_count": 19,
     "metadata": {},
     "output_type": "execute_result"
    }
   ],
   "source": [
    "df2['quantity'].sum(), df2['total'].sum()"
   ]
  },
  {
   "cell_type": "code",
   "execution_count": 20,
   "id": "4f737e40",
   "metadata": {},
   "outputs": [
    {
     "data": {
      "text/html": [
       "<div>\n",
       "<style scoped>\n",
       "    .dataframe tbody tr th:only-of-type {\n",
       "        vertical-align: middle;\n",
       "    }\n",
       "\n",
       "    .dataframe tbody tr th {\n",
       "        vertical-align: top;\n",
       "    }\n",
       "\n",
       "    .dataframe thead th {\n",
       "        text-align: right;\n",
       "    }\n",
       "</style>\n",
       "<table border=\"1\" class=\"dataframe\">\n",
       "  <thead>\n",
       "    <tr style=\"text-align: right;\">\n",
       "      <th></th>\n",
       "      <th>order_id</th>\n",
       "      <th>product</th>\n",
       "      <th>quantity</th>\n",
       "      <th>price</th>\n",
       "      <th>total</th>\n",
       "      <th>full_date</th>\n",
       "      <th>hour</th>\n",
       "      <th>date</th>\n",
       "      <th>month</th>\n",
       "      <th>year</th>\n",
       "      <th>day</th>\n",
       "      <th>address</th>\n",
       "      <th>city</th>\n",
       "      <th>state</th>\n",
       "      <th>pincode</th>\n",
       "      <th>timezone</th>\n",
       "    </tr>\n",
       "  </thead>\n",
       "  <tbody>\n",
       "    <tr>\n",
       "      <th>317</th>\n",
       "      <td>236981</td>\n",
       "      <td>iPhone</td>\n",
       "      <td>1</td>\n",
       "      <td>700.0</td>\n",
       "      <td>700.0</td>\n",
       "      <td>08/05/19</td>\n",
       "      <td>11</td>\n",
       "      <td>5</td>\n",
       "      <td>8</td>\n",
       "      <td>2019</td>\n",
       "      <td>Mon</td>\n",
       "      <td>499 River St</td>\n",
       "      <td>New York City</td>\n",
       "      <td>NY</td>\n",
       "      <td>10001</td>\n",
       "      <td>AM</td>\n",
       "    </tr>\n",
       "  </tbody>\n",
       "</table>\n",
       "</div>"
      ],
      "text/plain": [
       "     order_id product  quantity  price  total full_date  hour  date  month  \\\n",
       "317    236981  iPhone         1  700.0  700.0  08/05/19    11     5      8   \n",
       "\n",
       "     year  day       address           city state  pincode timezone  \n",
       "317  2019  Mon  499 River St  New York City    NY    10001       AM  "
      ]
     },
     "execution_count": 20,
     "metadata": {},
     "output_type": "execute_result"
    }
   ],
   "source": [
    "df3=df[(df['product']=='iPhone') & (df['city']=='New York City')]\n",
    "df3.head(1)"
   ]
  },
  {
   "cell_type": "code",
   "execution_count": 21,
   "id": "646f12e2",
   "metadata": {},
   "outputs": [
    {
     "data": {
      "text/plain": [
       "(881, 616700.0)"
      ]
     },
     "execution_count": 21,
     "metadata": {},
     "output_type": "execute_result"
    }
   ],
   "source": [
    "df3['quantity'].sum(), df3['total'].sum()"
   ]
  },
  {
   "cell_type": "markdown",
   "id": "2afc6b9d",
   "metadata": {},
   "source": [
    "- ### Inferences:\n",
    "- ### The total number of Google phone sold is `758`, and generated a total revenue of `454800.0$`\n",
    "- ### The total number of iphone sold is `881`, and enerated the total revenue of `616700.0$`"
   ]
  },
  {
   "cell_type": "markdown",
   "id": "6491f139",
   "metadata": {},
   "source": [
    "<div class='alert alert-info'>Q8. What is the absolute difference in total number of unique orders being created in the cities of \n",
    "“Boston” and “Portland” for the month of Jan in both years 2019 & 2020 ?</div>"
   ]
  },
  {
   "cell_type": "code",
   "execution_count": 22,
   "id": "9a507f4f",
   "metadata": {},
   "outputs": [
    {
     "data": {
      "text/html": [
       "<div>\n",
       "<style scoped>\n",
       "    .dataframe tbody tr th:only-of-type {\n",
       "        vertical-align: middle;\n",
       "    }\n",
       "\n",
       "    .dataframe tbody tr th {\n",
       "        vertical-align: top;\n",
       "    }\n",
       "\n",
       "    .dataframe thead th {\n",
       "        text-align: right;\n",
       "    }\n",
       "</style>\n",
       "<table border=\"1\" class=\"dataframe\">\n",
       "  <thead>\n",
       "    <tr style=\"text-align: right;\">\n",
       "      <th></th>\n",
       "      <th>order_id</th>\n",
       "      <th>product</th>\n",
       "      <th>quantity</th>\n",
       "      <th>price</th>\n",
       "      <th>total</th>\n",
       "      <th>full_date</th>\n",
       "      <th>hour</th>\n",
       "      <th>date</th>\n",
       "      <th>month</th>\n",
       "      <th>year</th>\n",
       "      <th>day</th>\n",
       "      <th>address</th>\n",
       "      <th>city</th>\n",
       "      <th>state</th>\n",
       "      <th>pincode</th>\n",
       "      <th>timezone</th>\n",
       "    </tr>\n",
       "  </thead>\n",
       "  <tbody>\n",
       "    <tr>\n",
       "      <th>100543</th>\n",
       "      <td>302393</td>\n",
       "      <td>Lightning Charging Cable</td>\n",
       "      <td>1</td>\n",
       "      <td>14.95</td>\n",
       "      <td>14.95</td>\n",
       "      <td>01/01/20</td>\n",
       "      <td>0</td>\n",
       "      <td>1</td>\n",
       "      <td>1</td>\n",
       "      <td>2020</td>\n",
       "      <td>Wed</td>\n",
       "      <td>108 Jefferson St</td>\n",
       "      <td>Boston</td>\n",
       "      <td>MA</td>\n",
       "      <td>2215</td>\n",
       "      <td>AM</td>\n",
       "    </tr>\n",
       "  </tbody>\n",
       "</table>\n",
       "</div>"
      ],
      "text/plain": [
       "        order_id                   product  quantity  price  total full_date  \\\n",
       "100543    302393  Lightning Charging Cable         1  14.95  14.95  01/01/20   \n",
       "\n",
       "        hour  date  month  year  day           address    city state  pincode  \\\n",
       "100543     0     1      1  2020  Wed  108 Jefferson St  Boston    MA     2215   \n",
       "\n",
       "       timezone  \n",
       "100543       AM  "
      ]
     },
     "execution_count": 22,
     "metadata": {},
     "output_type": "execute_result"
    }
   ],
   "source": [
    "Boston = df[(df['month']==1) & ((df['year']==2019) | (df['year']==2020)) & (df['city']=='Boston')]\n",
    "Boston.head(1)"
   ]
  },
  {
   "cell_type": "code",
   "execution_count": 23,
   "id": "802292a9",
   "metadata": {
    "scrolled": true
   },
   "outputs": [
    {
     "data": {
      "text/html": [
       "<div>\n",
       "<style scoped>\n",
       "    .dataframe tbody tr th:only-of-type {\n",
       "        vertical-align: middle;\n",
       "    }\n",
       "\n",
       "    .dataframe tbody tr th {\n",
       "        vertical-align: top;\n",
       "    }\n",
       "\n",
       "    .dataframe thead th {\n",
       "        text-align: right;\n",
       "    }\n",
       "</style>\n",
       "<table border=\"1\" class=\"dataframe\">\n",
       "  <thead>\n",
       "    <tr style=\"text-align: right;\">\n",
       "      <th></th>\n",
       "      <th>order_id</th>\n",
       "      <th>product</th>\n",
       "      <th>quantity</th>\n",
       "      <th>price</th>\n",
       "      <th>total</th>\n",
       "      <th>full_date</th>\n",
       "      <th>hour</th>\n",
       "      <th>date</th>\n",
       "      <th>month</th>\n",
       "      <th>year</th>\n",
       "      <th>day</th>\n",
       "      <th>address</th>\n",
       "      <th>city</th>\n",
       "      <th>state</th>\n",
       "      <th>pincode</th>\n",
       "      <th>timezone</th>\n",
       "    </tr>\n",
       "  </thead>\n",
       "  <tbody>\n",
       "    <tr>\n",
       "      <th>102398</th>\n",
       "      <td>304165</td>\n",
       "      <td>AAA Batteries (4-pack)</td>\n",
       "      <td>1</td>\n",
       "      <td>2.99</td>\n",
       "      <td>2.99</td>\n",
       "      <td>01/01/20</td>\n",
       "      <td>4</td>\n",
       "      <td>1</td>\n",
       "      <td>1</td>\n",
       "      <td>2020</td>\n",
       "      <td>Wed</td>\n",
       "      <td>825 Adams St</td>\n",
       "      <td>Portland</td>\n",
       "      <td>OR</td>\n",
       "      <td>97035</td>\n",
       "      <td>AM</td>\n",
       "    </tr>\n",
       "  </tbody>\n",
       "</table>\n",
       "</div>"
      ],
      "text/plain": [
       "        order_id                 product  quantity  price  total full_date  \\\n",
       "102398    304165  AAA Batteries (4-pack)         1   2.99   2.99  01/01/20   \n",
       "\n",
       "        hour  date  month  year  day       address      city state  pincode  \\\n",
       "102398     4     1      1  2020  Wed  825 Adams St  Portland    OR    97035   \n",
       "\n",
       "       timezone  \n",
       "102398       AM  "
      ]
     },
     "execution_count": 23,
     "metadata": {},
     "output_type": "execute_result"
    }
   ],
   "source": [
    "Portland=df[(df['month']==1)& ((df['year']==2019) | (df['year']==2020)) & (df['city']=='Portland')]\n",
    "Portland.head(1)"
   ]
  },
  {
   "cell_type": "code",
   "execution_count": 24,
   "id": "864cf163",
   "metadata": {},
   "outputs": [
    {
     "data": {
      "text/plain": [
       "(19, 18)"
      ]
     },
     "execution_count": 24,
     "metadata": {},
     "output_type": "execute_result"
    }
   ],
   "source": [
    "Boston['product'].nunique(), Portland['product'].nunique()"
   ]
  },
  {
   "cell_type": "markdown",
   "id": "72e6aa94",
   "metadata": {},
   "source": [
    "- ### Inferences:\n",
    "#### The Unique product ordered in the city of Boston is `19` & for Portland is `18` for he month of Jan in both years 2019 & 2020"
   ]
  },
  {
   "cell_type": "markdown",
   "id": "ab058d2d",
   "metadata": {},
   "source": [
    "<div class='alert alert-info'>Q9. Plot pie chart for 4 categories based on their total revenue generated. \n",
    "Weekend-Day , Weekend-Night, Weekday-Day, Weekday-Night. \n",
    "Hint {Weekend/Weekday , Day/Night logic remains as earlier discussed}\n",
    "</div>"
   ]
  },
  {
   "cell_type": "code",
   "execution_count": 25,
   "id": "6452b945",
   "metadata": {},
   "outputs": [
    {
     "data": {
      "text/html": [
       "<div>\n",
       "<style scoped>\n",
       "    .dataframe tbody tr th:only-of-type {\n",
       "        vertical-align: middle;\n",
       "    }\n",
       "\n",
       "    .dataframe tbody tr th {\n",
       "        vertical-align: top;\n",
       "    }\n",
       "\n",
       "    .dataframe thead th {\n",
       "        text-align: right;\n",
       "    }\n",
       "</style>\n",
       "<table border=\"1\" class=\"dataframe\">\n",
       "  <thead>\n",
       "    <tr style=\"text-align: right;\">\n",
       "      <th></th>\n",
       "      <th>order_id</th>\n",
       "      <th>product</th>\n",
       "      <th>quantity</th>\n",
       "      <th>price</th>\n",
       "      <th>total</th>\n",
       "      <th>full_date</th>\n",
       "      <th>hour</th>\n",
       "      <th>date</th>\n",
       "      <th>month</th>\n",
       "      <th>year</th>\n",
       "      <th>day</th>\n",
       "      <th>address</th>\n",
       "      <th>city</th>\n",
       "      <th>state</th>\n",
       "      <th>pincode</th>\n",
       "      <th>timezone</th>\n",
       "    </tr>\n",
       "  </thead>\n",
       "  <tbody>\n",
       "    <tr>\n",
       "      <th>7</th>\n",
       "      <td>236677</td>\n",
       "      <td>20in Monitor</td>\n",
       "      <td>1</td>\n",
       "      <td>109.99</td>\n",
       "      <td>109.99</td>\n",
       "      <td>08/13/19</td>\n",
       "      <td>7</td>\n",
       "      <td>13</td>\n",
       "      <td>8</td>\n",
       "      <td>2019</td>\n",
       "      <td>Tue</td>\n",
       "      <td>918 6th St</td>\n",
       "      <td>San Francisco</td>\n",
       "      <td>CA</td>\n",
       "      <td>94016</td>\n",
       "      <td>AM</td>\n",
       "    </tr>\n",
       "  </tbody>\n",
       "</table>\n",
       "</div>"
      ],
      "text/plain": [
       "   order_id       product  quantity   price   total full_date  hour  date  \\\n",
       "7    236677  20in Monitor         1  109.99  109.99  08/13/19     7    13   \n",
       "\n",
       "   month  year  day     address           city state  pincode timezone  \n",
       "7      8  2019  Tue  918 6th St  San Francisco    CA    94016       AM  "
      ]
     },
     "execution_count": 25,
     "metadata": {},
     "output_type": "execute_result"
    }
   ],
   "source": [
    "Weekday_Day = weekday[weekday['hour']<18]\n",
    "Weekday_Day.head(1)"
   ]
  },
  {
   "cell_type": "code",
   "execution_count": 26,
   "id": "2d397d2b",
   "metadata": {},
   "outputs": [
    {
     "data": {
      "text/plain": [
       "3992313.3"
      ]
     },
     "execution_count": 26,
     "metadata": {},
     "output_type": "execute_result"
    }
   ],
   "source": [
    "Weekday_Day_Total = Weekday_Day['total'].sum()\n",
    "Weekday_Day_Total"
   ]
  },
  {
   "cell_type": "code",
   "execution_count": 27,
   "id": "f15e226e",
   "metadata": {
    "scrolled": true
   },
   "outputs": [
    {
     "data": {
      "text/html": [
       "<div>\n",
       "<style scoped>\n",
       "    .dataframe tbody tr th:only-of-type {\n",
       "        vertical-align: middle;\n",
       "    }\n",
       "\n",
       "    .dataframe tbody tr th {\n",
       "        vertical-align: top;\n",
       "    }\n",
       "\n",
       "    .dataframe thead th {\n",
       "        text-align: right;\n",
       "    }\n",
       "</style>\n",
       "<table border=\"1\" class=\"dataframe\">\n",
       "  <thead>\n",
       "    <tr style=\"text-align: right;\">\n",
       "      <th></th>\n",
       "      <th>order_id</th>\n",
       "      <th>product</th>\n",
       "      <th>quantity</th>\n",
       "      <th>price</th>\n",
       "      <th>total</th>\n",
       "      <th>full_date</th>\n",
       "      <th>hour</th>\n",
       "      <th>date</th>\n",
       "      <th>month</th>\n",
       "      <th>year</th>\n",
       "      <th>day</th>\n",
       "      <th>address</th>\n",
       "      <th>city</th>\n",
       "      <th>state</th>\n",
       "      <th>pincode</th>\n",
       "      <th>timezone</th>\n",
       "    </tr>\n",
       "  </thead>\n",
       "  <tbody>\n",
       "    <tr>\n",
       "      <th>43</th>\n",
       "      <td>236713</td>\n",
       "      <td>27in FHD Monitor</td>\n",
       "      <td>1</td>\n",
       "      <td>149.99</td>\n",
       "      <td>149.99</td>\n",
       "      <td>08/05/19</td>\n",
       "      <td>20</td>\n",
       "      <td>5</td>\n",
       "      <td>8</td>\n",
       "      <td>2019</td>\n",
       "      <td>Mon</td>\n",
       "      <td>852 8th St</td>\n",
       "      <td>San Francisco</td>\n",
       "      <td>CA</td>\n",
       "      <td>94016</td>\n",
       "      <td>PM</td>\n",
       "    </tr>\n",
       "  </tbody>\n",
       "</table>\n",
       "</div>"
      ],
      "text/plain": [
       "    order_id           product  quantity   price   total full_date  hour  \\\n",
       "43    236713  27in FHD Monitor         1  149.99  149.99  08/05/19    20   \n",
       "\n",
       "    date  month  year  day     address           city state  pincode timezone  \n",
       "43     5      8  2019  Mon  852 8th St  San Francisco    CA    94016       PM  "
      ]
     },
     "execution_count": 27,
     "metadata": {},
     "output_type": "execute_result"
    }
   ],
   "source": [
    "Weekday_Night = weekday[weekday['hour']>17]\n",
    "Weekday_Night.head(1)"
   ]
  },
  {
   "cell_type": "code",
   "execution_count": 28,
   "id": "5a77af12",
   "metadata": {},
   "outputs": [
    {
     "data": {
      "text/plain": [
       "2000894.9299999997"
      ]
     },
     "execution_count": 28,
     "metadata": {},
     "output_type": "execute_result"
    }
   ],
   "source": [
    "Weekday_Night_Total = Weekday_Night['total'].sum()\n",
    "Weekday_Night_Total"
   ]
  },
  {
   "cell_type": "code",
   "execution_count": 29,
   "id": "ba1e6b34",
   "metadata": {},
   "outputs": [
    {
     "data": {
      "text/html": [
       "<div>\n",
       "<style scoped>\n",
       "    .dataframe tbody tr th:only-of-type {\n",
       "        vertical-align: middle;\n",
       "    }\n",
       "\n",
       "    .dataframe tbody tr th {\n",
       "        vertical-align: top;\n",
       "    }\n",
       "\n",
       "    .dataframe thead th {\n",
       "        text-align: right;\n",
       "    }\n",
       "</style>\n",
       "<table border=\"1\" class=\"dataframe\">\n",
       "  <thead>\n",
       "    <tr style=\"text-align: right;\">\n",
       "      <th></th>\n",
       "      <th>order_id</th>\n",
       "      <th>product</th>\n",
       "      <th>quantity</th>\n",
       "      <th>price</th>\n",
       "      <th>total</th>\n",
       "      <th>full_date</th>\n",
       "      <th>hour</th>\n",
       "      <th>date</th>\n",
       "      <th>month</th>\n",
       "      <th>year</th>\n",
       "      <th>day</th>\n",
       "      <th>address</th>\n",
       "      <th>city</th>\n",
       "      <th>state</th>\n",
       "      <th>pincode</th>\n",
       "      <th>timezone</th>\n",
       "    </tr>\n",
       "  </thead>\n",
       "  <tbody>\n",
       "    <tr>\n",
       "      <th>30</th>\n",
       "      <td>236700</td>\n",
       "      <td>Wired Headphones</td>\n",
       "      <td>1</td>\n",
       "      <td>11.99</td>\n",
       "      <td>11.99</td>\n",
       "      <td>08/09/19</td>\n",
       "      <td>8</td>\n",
       "      <td>9</td>\n",
       "      <td>8</td>\n",
       "      <td>2019</td>\n",
       "      <td>Fri</td>\n",
       "      <td>534 North St</td>\n",
       "      <td>Los Angeles</td>\n",
       "      <td>CA</td>\n",
       "      <td>90001</td>\n",
       "      <td>AM</td>\n",
       "    </tr>\n",
       "  </tbody>\n",
       "</table>\n",
       "</div>"
      ],
      "text/plain": [
       "    order_id           product  quantity  price  total full_date  hour  date  \\\n",
       "30    236700  Wired Headphones         1  11.99  11.99  08/09/19     8     9   \n",
       "\n",
       "    month  year  day       address         city state  pincode timezone  \n",
       "30      8  2019  Fri  534 North St  Los Angeles    CA    90001       AM  "
      ]
     },
     "execution_count": 29,
     "metadata": {},
     "output_type": "execute_result"
    }
   ],
   "source": [
    "Weekend_Day = weekend[weekend['hour']<18]\n",
    "Weekend_Day.head(1)"
   ]
  },
  {
   "cell_type": "code",
   "execution_count": 30,
   "id": "f886f3b4",
   "metadata": {},
   "outputs": [
    {
     "data": {
      "text/plain": [
       "3803138.9499999993"
      ]
     },
     "execution_count": 30,
     "metadata": {},
     "output_type": "execute_result"
    }
   ],
   "source": [
    "Weekend_Day_Total=Weekend_Day['total'].sum()\n",
    "Weekend_Day_Total"
   ]
  },
  {
   "cell_type": "code",
   "execution_count": 31,
   "id": "d9d6ee30",
   "metadata": {},
   "outputs": [
    {
     "data": {
      "text/html": [
       "<div>\n",
       "<style scoped>\n",
       "    .dataframe tbody tr th:only-of-type {\n",
       "        vertical-align: middle;\n",
       "    }\n",
       "\n",
       "    .dataframe tbody tr th {\n",
       "        vertical-align: top;\n",
       "    }\n",
       "\n",
       "    .dataframe thead th {\n",
       "        text-align: right;\n",
       "    }\n",
       "</style>\n",
       "<table border=\"1\" class=\"dataframe\">\n",
       "  <thead>\n",
       "    <tr style=\"text-align: right;\">\n",
       "      <th></th>\n",
       "      <th>order_id</th>\n",
       "      <th>product</th>\n",
       "      <th>quantity</th>\n",
       "      <th>price</th>\n",
       "      <th>total</th>\n",
       "      <th>full_date</th>\n",
       "      <th>hour</th>\n",
       "      <th>date</th>\n",
       "      <th>month</th>\n",
       "      <th>year</th>\n",
       "      <th>day</th>\n",
       "      <th>address</th>\n",
       "      <th>city</th>\n",
       "      <th>state</th>\n",
       "      <th>pincode</th>\n",
       "      <th>timezone</th>\n",
       "    </tr>\n",
       "  </thead>\n",
       "  <tbody>\n",
       "    <tr>\n",
       "      <th>5</th>\n",
       "      <td>236675</td>\n",
       "      <td>Wired Headphones</td>\n",
       "      <td>1</td>\n",
       "      <td>11.99</td>\n",
       "      <td>11.99</td>\n",
       "      <td>08/02/19</td>\n",
       "      <td>23</td>\n",
       "      <td>2</td>\n",
       "      <td>8</td>\n",
       "      <td>2019</td>\n",
       "      <td>Fri</td>\n",
       "      <td>470 Hill St</td>\n",
       "      <td>San Francisco</td>\n",
       "      <td>CA</td>\n",
       "      <td>94016</td>\n",
       "      <td>PM</td>\n",
       "    </tr>\n",
       "  </tbody>\n",
       "</table>\n",
       "</div>"
      ],
      "text/plain": [
       "   order_id           product  quantity  price  total full_date  hour  date  \\\n",
       "5    236675  Wired Headphones         1  11.99  11.99  08/02/19    23     2   \n",
       "\n",
       "   month  year  day      address           city state  pincode timezone  \n",
       "5      8  2019  Fri  470 Hill St  San Francisco    CA    94016       PM  "
      ]
     },
     "execution_count": 31,
     "metadata": {},
     "output_type": "execute_result"
    }
   ],
   "source": [
    "Weekend_Night = weekend[weekend['hour']>17]\n",
    "Weekend_Night.head(1)"
   ]
  },
  {
   "cell_type": "code",
   "execution_count": 32,
   "id": "73ef2658",
   "metadata": {},
   "outputs": [
    {
     "data": {
      "text/plain": [
       "1995945.8099999998"
      ]
     },
     "execution_count": 32,
     "metadata": {},
     "output_type": "execute_result"
    }
   ],
   "source": [
    "Weekend_Night_Total=Weekend_Night['total'].sum()\n",
    "Weekend_Night_Total"
   ]
  },
  {
   "cell_type": "code",
   "execution_count": 33,
   "id": "ceeb8973",
   "metadata": {
    "scrolled": true
   },
   "outputs": [
    {
     "data": {
      "text/plain": [
       "Weekday_Day      3992313.30\n",
       "Weekday_Day      2000894.93\n",
       "Weekend_Day      3803138.95\n",
       "Weekend_Night    1995945.81\n",
       "dtype: float64"
      ]
     },
     "execution_count": 33,
     "metadata": {},
     "output_type": "execute_result"
    }
   ],
   "source": [
    "data = pd.Series([Weekday_Day_Total, Weekday_Night_Total, Weekend_Day_Total, Weekend_Night_Total], index=['Weekday_Day',\n",
    "                                                                                                       'Weekday_Day',\n",
    "                                                                                                       'Weekend_Day',\n",
    "                                                                                                       'Weekend_Night'])\n",
    "data"
   ]
  },
  {
   "cell_type": "code",
   "execution_count": 34,
   "id": "054ba2ea",
   "metadata": {},
   "outputs": [
    {
     "data": {
      "image/png": "[encoded data removed]",
      "text/plain": [
       "<Figure size 432x288 with 1 Axes>"
      ]
     },
     "metadata": {},
     "output_type": "display_data"
    }
   ],
   "source": [
    "data.plot(kind='pie', autopct='%0.1f');"
   ]
  },
  {
   "cell_type": "code",
   "execution_count": null,
   "id": "37153137",
   "metadata": {},
   "outputs": [],
   "source": []
  }
 ],
 "metadata": {
  "kernelspec": {
   "display_name": "Python 3 (ipykernel)",
   "language": "python",
   "name": "python3"
  },
  "language_info": {
   "codemirror_mode": {
    "name": "ipython",
    "version": 3
   },
   "file_extension": ".py",
   "mimetype": "text/x-python",
   "name": "python",
   "nbconvert_exporter": "python",
   "pygments_lexer": "ipython3",
   "version": "3.9.12"
  }
 },
 "nbformat": 4,
 "nbformat_minor": 5
}
