{
 "cells": [
  {
   "cell_type": "raw",
   "id": "7cc70bbe",
   "metadata": {},
   "source": [
    "What is the 4th highest product sold in terms of total revenue generated overall ?"
   ]
  },
  {
   "cell_type": "code",
   "execution_count": 1,
   "id": "a8d4d478",
   "metadata": {},
   "outputs": [],
   "source": [
    "import pandas as pd\n",
    "import numpy as np"
   ]
  },
  {
   "cell_type": "code",
   "execution_count": 2,
   "id": "e41b44b2",
   "metadata": {},
   "outputs": [],
   "source": [
    "data=pd.read_csv(\"data.csv\")"
   ]
  },
  {
   "cell_type": "code",
   "execution_count": 3,
   "id": "7e227e85",
   "metadata": {},
   "outputs": [
    {
     "data": {
      "text/html": [
       "<div>\n",
       "<style scoped>\n",
       "    .dataframe tbody tr th:only-of-type {\n",
       "        vertical-align: middle;\n",
       "    }\n",
       "\n",
       "    .dataframe tbody tr th {\n",
       "        vertical-align: top;\n",
       "    }\n",
       "\n",
       "    .dataframe thead th {\n",
       "        text-align: right;\n",
       "    }\n",
       "</style>\n",
       "<table border=\"1\" class=\"dataframe\">\n",
       "  <thead>\n",
       "    <tr style=\"text-align: right;\">\n",
       "      <th></th>\n",
       "      <th>order_id</th>\n",
       "      <th>product</th>\n",
       "      <th>quantity</th>\n",
       "      <th>price</th>\n",
       "      <th>total</th>\n",
       "      <th>full_date</th>\n",
       "      <th>hour</th>\n",
       "      <th>date</th>\n",
       "      <th>month</th>\n",
       "      <th>year</th>\n",
       "      <th>day</th>\n",
       "      <th>address</th>\n",
       "      <th>city</th>\n",
       "      <th>state</th>\n",
       "      <th>pincode</th>\n",
       "      <th>timezone</th>\n",
       "    </tr>\n",
       "  </thead>\n",
       "  <tbody>\n",
       "    <tr>\n",
       "      <th>0</th>\n",
       "      <td>236670</td>\n",
       "      <td>Wired Headphones</td>\n",
       "      <td>2</td>\n",
       "      <td>11.99</td>\n",
       "      <td>23.98</td>\n",
       "      <td>08/31/19</td>\n",
       "      <td>22</td>\n",
       "      <td>31</td>\n",
       "      <td>8</td>\n",
       "      <td>2019</td>\n",
       "      <td>Sat</td>\n",
       "      <td>359 Spruce St</td>\n",
       "      <td>Seattle</td>\n",
       "      <td>WA</td>\n",
       "      <td>98101</td>\n",
       "      <td>PM</td>\n",
       "    </tr>\n",
       "    <tr>\n",
       "      <th>1</th>\n",
       "      <td>236671</td>\n",
       "      <td>Bose SoundSport Headphones</td>\n",
       "      <td>1</td>\n",
       "      <td>99.99</td>\n",
       "      <td>99.99</td>\n",
       "      <td>08/15/19</td>\n",
       "      <td>15</td>\n",
       "      <td>15</td>\n",
       "      <td>8</td>\n",
       "      <td>2019</td>\n",
       "      <td>Thu</td>\n",
       "      <td>492 Ridge St</td>\n",
       "      <td>Dallas</td>\n",
       "      <td>TX</td>\n",
       "      <td>75001</td>\n",
       "      <td>PM</td>\n",
       "    </tr>\n",
       "    <tr>\n",
       "      <th>2</th>\n",
       "      <td>236672</td>\n",
       "      <td>iPhone</td>\n",
       "      <td>1</td>\n",
       "      <td>700.00</td>\n",
       "      <td>700.00</td>\n",
       "      <td>08/06/19</td>\n",
       "      <td>14</td>\n",
       "      <td>6</td>\n",
       "      <td>8</td>\n",
       "      <td>2019</td>\n",
       "      <td>Tue</td>\n",
       "      <td>149 7th St</td>\n",
       "      <td>Portland</td>\n",
       "      <td>OR</td>\n",
       "      <td>97035</td>\n",
       "      <td>PM</td>\n",
       "    </tr>\n",
       "    <tr>\n",
       "      <th>3</th>\n",
       "      <td>236673</td>\n",
       "      <td>AA Batteries (4-pack)</td>\n",
       "      <td>2</td>\n",
       "      <td>3.84</td>\n",
       "      <td>7.68</td>\n",
       "      <td>08/29/19</td>\n",
       "      <td>20</td>\n",
       "      <td>29</td>\n",
       "      <td>8</td>\n",
       "      <td>2019</td>\n",
       "      <td>Thu</td>\n",
       "      <td>631 2nd St</td>\n",
       "      <td>Los Angeles</td>\n",
       "      <td>CA</td>\n",
       "      <td>90001</td>\n",
       "      <td>PM</td>\n",
       "    </tr>\n",
       "    <tr>\n",
       "      <th>4</th>\n",
       "      <td>236674</td>\n",
       "      <td>AA Batteries (4-pack)</td>\n",
       "      <td>2</td>\n",
       "      <td>3.84</td>\n",
       "      <td>7.68</td>\n",
       "      <td>08/15/19</td>\n",
       "      <td>19</td>\n",
       "      <td>15</td>\n",
       "      <td>8</td>\n",
       "      <td>2019</td>\n",
       "      <td>Thu</td>\n",
       "      <td>736 14th St</td>\n",
       "      <td>New York City</td>\n",
       "      <td>NY</td>\n",
       "      <td>10001</td>\n",
       "      <td>PM</td>\n",
       "    </tr>\n",
       "    <tr>\n",
       "      <th>...</th>\n",
       "      <td>...</td>\n",
       "      <td>...</td>\n",
       "      <td>...</td>\n",
       "      <td>...</td>\n",
       "      <td>...</td>\n",
       "      <td>...</td>\n",
       "      <td>...</td>\n",
       "      <td>...</td>\n",
       "      <td>...</td>\n",
       "      <td>...</td>\n",
       "      <td>...</td>\n",
       "      <td>...</td>\n",
       "      <td>...</td>\n",
       "      <td>...</td>\n",
       "      <td>...</td>\n",
       "      <td>...</td>\n",
       "    </tr>\n",
       "    <tr>\n",
       "      <th>185945</th>\n",
       "      <td>162004</td>\n",
       "      <td>Apple Airpods Headphones</td>\n",
       "      <td>1</td>\n",
       "      <td>150.00</td>\n",
       "      <td>150.00</td>\n",
       "      <td>02/12/19</td>\n",
       "      <td>22</td>\n",
       "      <td>12</td>\n",
       "      <td>2</td>\n",
       "      <td>2019</td>\n",
       "      <td>Tue</td>\n",
       "      <td>227 Church St</td>\n",
       "      <td>San Francisco</td>\n",
       "      <td>CA</td>\n",
       "      <td>94016</td>\n",
       "      <td>PM</td>\n",
       "    </tr>\n",
       "    <tr>\n",
       "      <th>185946</th>\n",
       "      <td>162005</td>\n",
       "      <td>AAA Batteries (4-pack)</td>\n",
       "      <td>2</td>\n",
       "      <td>2.99</td>\n",
       "      <td>5.98</td>\n",
       "      <td>02/04/19</td>\n",
       "      <td>20</td>\n",
       "      <td>4</td>\n",
       "      <td>2</td>\n",
       "      <td>2019</td>\n",
       "      <td>Mon</td>\n",
       "      <td>417 Jefferson St</td>\n",
       "      <td>Los Angeles</td>\n",
       "      <td>CA</td>\n",
       "      <td>90001</td>\n",
       "      <td>PM</td>\n",
       "    </tr>\n",
       "    <tr>\n",
       "      <th>185947</th>\n",
       "      <td>162006</td>\n",
       "      <td>USB-C Charging Cable</td>\n",
       "      <td>1</td>\n",
       "      <td>11.95</td>\n",
       "      <td>11.95</td>\n",
       "      <td>02/24/19</td>\n",
       "      <td>6</td>\n",
       "      <td>24</td>\n",
       "      <td>2</td>\n",
       "      <td>2019</td>\n",
       "      <td>Sun</td>\n",
       "      <td>498 8th St</td>\n",
       "      <td>Atlanta</td>\n",
       "      <td>GA</td>\n",
       "      <td>30301</td>\n",
       "      <td>AM</td>\n",
       "    </tr>\n",
       "    <tr>\n",
       "      <th>185948</th>\n",
       "      <td>162007</td>\n",
       "      <td>USB-C Charging Cable</td>\n",
       "      <td>1</td>\n",
       "      <td>11.95</td>\n",
       "      <td>11.95</td>\n",
       "      <td>02/24/19</td>\n",
       "      <td>19</td>\n",
       "      <td>24</td>\n",
       "      <td>2</td>\n",
       "      <td>2019</td>\n",
       "      <td>Sun</td>\n",
       "      <td>715 7th St</td>\n",
       "      <td>Dallas</td>\n",
       "      <td>TX</td>\n",
       "      <td>75001</td>\n",
       "      <td>PM</td>\n",
       "    </tr>\n",
       "    <tr>\n",
       "      <th>185949</th>\n",
       "      <td>162008</td>\n",
       "      <td>27in FHD Monitor</td>\n",
       "      <td>1</td>\n",
       "      <td>149.99</td>\n",
       "      <td>149.99</td>\n",
       "      <td>02/26/19</td>\n",
       "      <td>17</td>\n",
       "      <td>26</td>\n",
       "      <td>2</td>\n",
       "      <td>2019</td>\n",
       "      <td>Tue</td>\n",
       "      <td>677 West St</td>\n",
       "      <td>Los Angeles</td>\n",
       "      <td>CA</td>\n",
       "      <td>90001</td>\n",
       "      <td>PM</td>\n",
       "    </tr>\n",
       "  </tbody>\n",
       "</table>\n",
       "<p>185950 rows × 16 columns</p>\n",
       "</div>"
      ],
      "text/plain": [
       "        order_id                     product  quantity   price   total  \\\n",
       "0         236670            Wired Headphones         2   11.99   23.98   \n",
       "1         236671  Bose SoundSport Headphones         1   99.99   99.99   \n",
       "2         236672                      iPhone         1  700.00  700.00   \n",
       "3         236673       AA Batteries (4-pack)         2    3.84    7.68   \n",
       "4         236674       AA Batteries (4-pack)         2    3.84    7.68   \n",
       "...          ...                         ...       ...     ...     ...   \n",
       "185945    162004    Apple Airpods Headphones         1  150.00  150.00   \n",
       "185946    162005      AAA Batteries (4-pack)         2    2.99    5.98   \n",
       "185947    162006        USB-C Charging Cable         1   11.95   11.95   \n",
       "185948    162007        USB-C Charging Cable         1   11.95   11.95   \n",
       "185949    162008            27in FHD Monitor         1  149.99  149.99   \n",
       "\n",
       "       full_date  hour  date  month  year  day           address  \\\n",
       "0       08/31/19    22    31      8  2019  Sat     359 Spruce St   \n",
       "1       08/15/19    15    15      8  2019  Thu      492 Ridge St   \n",
       "2       08/06/19    14     6      8  2019  Tue        149 7th St   \n",
       "3       08/29/19    20    29      8  2019  Thu        631 2nd St   \n",
       "4       08/15/19    19    15      8  2019  Thu       736 14th St   \n",
       "...          ...   ...   ...    ...   ...  ...               ...   \n",
       "185945  02/12/19    22    12      2  2019  Tue     227 Church St   \n",
       "185946  02/04/19    20     4      2  2019  Mon  417 Jefferson St   \n",
       "185947  02/24/19     6    24      2  2019  Sun        498 8th St   \n",
       "185948  02/24/19    19    24      2  2019  Sun        715 7th St   \n",
       "185949  02/26/19    17    26      2  2019  Tue       677 West St   \n",
       "\n",
       "                 city state  pincode timezone  \n",
       "0             Seattle    WA    98101       PM  \n",
       "1              Dallas    TX    75001       PM  \n",
       "2            Portland    OR    97035       PM  \n",
       "3         Los Angeles    CA    90001       PM  \n",
       "4       New York City    NY    10001       PM  \n",
       "...               ...   ...      ...      ...  \n",
       "185945  San Francisco    CA    94016       PM  \n",
       "185946    Los Angeles    CA    90001       PM  \n",
       "185947        Atlanta    GA    30301       AM  \n",
       "185948         Dallas    TX    75001       PM  \n",
       "185949    Los Angeles    CA    90001       PM  \n",
       "\n",
       "[185950 rows x 16 columns]"
      ]
     },
     "execution_count": 3,
     "metadata": {},
     "output_type": "execute_result"
    }
   ],
   "source": [
    "data"
   ]
  },
  {
   "cell_type": "code",
   "execution_count": 4,
   "id": "45c36e56",
   "metadata": {},
   "outputs": [
    {
     "data": {
      "text/plain": [
       "product\n",
       "27in 4K Gaming Monitor    2435097.56\n",
       "Google Phone              3319200.00\n",
       "ThinkPad Laptop           4129958.70\n",
       "iPhone                    4794300.00\n",
       "Macbook Pro Laptop        8037600.00\n",
       "Name: total, dtype: float64"
      ]
     },
     "execution_count": 4,
     "metadata": {},
     "output_type": "execute_result"
    }
   ],
   "source": [
    "data.groupby(\"product\")[\"total\"].sum().sort_values().tail()"
   ]
  },
  {
   "cell_type": "markdown",
   "id": "d306e7ef",
   "metadata": {},
   "source": [
    "## Inference:\n",
    "- ### The 4th highest sold product is `Google Phone`"
   ]
  },
  {
   "cell_type": "raw",
   "id": "09d3b5d7",
   "metadata": {},
   "source": [
    "Which City sees the maximum number of orders being placed in the month of June 2019 ?"
   ]
  },
  {
   "cell_type": "code",
   "execution_count": 5,
   "id": "e7e2326e",
   "metadata": {
    "scrolled": false
   },
   "outputs": [
    {
     "data": {
      "text/html": [
       "<div>\n",
       "<style scoped>\n",
       "    .dataframe tbody tr th:only-of-type {\n",
       "        vertical-align: middle;\n",
       "    }\n",
       "\n",
       "    .dataframe tbody tr th {\n",
       "        vertical-align: top;\n",
       "    }\n",
       "\n",
       "    .dataframe thead th {\n",
       "        text-align: right;\n",
       "    }\n",
       "</style>\n",
       "<table border=\"1\" class=\"dataframe\">\n",
       "  <thead>\n",
       "    <tr style=\"text-align: right;\">\n",
       "      <th></th>\n",
       "      <th>order_id</th>\n",
       "      <th>product</th>\n",
       "      <th>quantity</th>\n",
       "      <th>price</th>\n",
       "      <th>total</th>\n",
       "      <th>full_date</th>\n",
       "      <th>hour</th>\n",
       "      <th>date</th>\n",
       "      <th>month</th>\n",
       "      <th>year</th>\n",
       "      <th>day</th>\n",
       "      <th>address</th>\n",
       "      <th>city</th>\n",
       "      <th>state</th>\n",
       "      <th>pincode</th>\n",
       "      <th>timezone</th>\n",
       "    </tr>\n",
       "  </thead>\n",
       "  <tbody>\n",
       "    <tr>\n",
       "      <th>41402</th>\n",
       "      <td>209921</td>\n",
       "      <td>USB-C Charging Cable</td>\n",
       "      <td>1</td>\n",
       "      <td>11.95</td>\n",
       "      <td>11.95</td>\n",
       "      <td>06/23/19</td>\n",
       "      <td>19</td>\n",
       "      <td>23</td>\n",
       "      <td>6</td>\n",
       "      <td>2019</td>\n",
       "      <td>Sun</td>\n",
       "      <td>950 Walnut St</td>\n",
       "      <td>Portland</td>\n",
       "      <td>ME</td>\n",
       "      <td>4101</td>\n",
       "      <td>PM</td>\n",
       "    </tr>\n",
       "    <tr>\n",
       "      <th>41403</th>\n",
       "      <td>209922</td>\n",
       "      <td>Macbook Pro Laptop</td>\n",
       "      <td>1</td>\n",
       "      <td>1700.00</td>\n",
       "      <td>1700.00</td>\n",
       "      <td>06/30/19</td>\n",
       "      <td>10</td>\n",
       "      <td>30</td>\n",
       "      <td>6</td>\n",
       "      <td>2019</td>\n",
       "      <td>Sun</td>\n",
       "      <td>80 4th St</td>\n",
       "      <td>San Francisco</td>\n",
       "      <td>CA</td>\n",
       "      <td>94016</td>\n",
       "      <td>AM</td>\n",
       "    </tr>\n",
       "    <tr>\n",
       "      <th>41404</th>\n",
       "      <td>209923</td>\n",
       "      <td>ThinkPad Laptop</td>\n",
       "      <td>1</td>\n",
       "      <td>999.99</td>\n",
       "      <td>999.99</td>\n",
       "      <td>06/24/19</td>\n",
       "      <td>20</td>\n",
       "      <td>24</td>\n",
       "      <td>6</td>\n",
       "      <td>2019</td>\n",
       "      <td>Mon</td>\n",
       "      <td>402 Jackson St</td>\n",
       "      <td>Los Angeles</td>\n",
       "      <td>CA</td>\n",
       "      <td>90001</td>\n",
       "      <td>PM</td>\n",
       "    </tr>\n",
       "    <tr>\n",
       "      <th>41405</th>\n",
       "      <td>209924</td>\n",
       "      <td>27in FHD Monitor</td>\n",
       "      <td>1</td>\n",
       "      <td>149.99</td>\n",
       "      <td>149.99</td>\n",
       "      <td>06/05/19</td>\n",
       "      <td>10</td>\n",
       "      <td>5</td>\n",
       "      <td>6</td>\n",
       "      <td>2019</td>\n",
       "      <td>Wed</td>\n",
       "      <td>560 10th St</td>\n",
       "      <td>Seattle</td>\n",
       "      <td>WA</td>\n",
       "      <td>98101</td>\n",
       "      <td>AM</td>\n",
       "    </tr>\n",
       "    <tr>\n",
       "      <th>41406</th>\n",
       "      <td>209925</td>\n",
       "      <td>Bose SoundSport Headphones</td>\n",
       "      <td>1</td>\n",
       "      <td>99.99</td>\n",
       "      <td>99.99</td>\n",
       "      <td>06/25/19</td>\n",
       "      <td>18</td>\n",
       "      <td>25</td>\n",
       "      <td>6</td>\n",
       "      <td>2019</td>\n",
       "      <td>Tue</td>\n",
       "      <td>545 2nd St</td>\n",
       "      <td>San Francisco</td>\n",
       "      <td>CA</td>\n",
       "      <td>94016</td>\n",
       "      <td>PM</td>\n",
       "    </tr>\n",
       "  </tbody>\n",
       "</table>\n",
       "</div>"
      ],
      "text/plain": [
       "       order_id                     product  quantity    price    total  \\\n",
       "41402    209921        USB-C Charging Cable         1    11.95    11.95   \n",
       "41403    209922          Macbook Pro Laptop         1  1700.00  1700.00   \n",
       "41404    209923             ThinkPad Laptop         1   999.99   999.99   \n",
       "41405    209924            27in FHD Monitor         1   149.99   149.99   \n",
       "41406    209925  Bose SoundSport Headphones         1    99.99    99.99   \n",
       "\n",
       "      full_date  hour  date  month  year  day         address           city  \\\n",
       "41402  06/23/19    19    23      6  2019  Sun   950 Walnut St       Portland   \n",
       "41403  06/30/19    10    30      6  2019  Sun       80 4th St  San Francisco   \n",
       "41404  06/24/19    20    24      6  2019  Mon  402 Jackson St    Los Angeles   \n",
       "41405  06/05/19    10     5      6  2019  Wed     560 10th St        Seattle   \n",
       "41406  06/25/19    18    25      6  2019  Tue      545 2nd St  San Francisco   \n",
       "\n",
       "      state  pincode timezone  \n",
       "41402    ME     4101       PM  \n",
       "41403    CA    94016       AM  \n",
       "41404    CA    90001       PM  \n",
       "41405    WA    98101       AM  \n",
       "41406    CA    94016       PM  "
      ]
     },
     "execution_count": 5,
     "metadata": {},
     "output_type": "execute_result"
    }
   ],
   "source": [
    "df=data[(data[\"month\"]==6) & (data[\"year\"]==2019)]\n",
    "df.head()"
   ]
  },
  {
   "cell_type": "code",
   "execution_count": 6,
   "id": "320cc733",
   "metadata": {},
   "outputs": [
    {
     "data": {
      "text/plain": [
       "city\n",
       "San Francisco    3687\n",
       "Los Angeles      2452\n",
       "New York City    1999\n",
       "Name: quantity, dtype: int64"
      ]
     },
     "execution_count": 6,
     "metadata": {},
     "output_type": "execute_result"
    }
   ],
   "source": [
    "graph=df.groupby(\"city\")[\"quantity\"].sum().sort_values(ascending=False).head(3)\n",
    "graph"
   ]
  },
  {
   "cell_type": "code",
   "execution_count": 7,
   "id": "83a1bfa5",
   "metadata": {},
   "outputs": [
    {
     "data": {
      "image/png": "[encoded data removed]",
      "text/plain": [
       "<Figure size 432x288 with 1 Axes>"
      ]
     },
     "metadata": {},
     "output_type": "display_data"
    }
   ],
   "source": [
    "graph.plot.pie(autopct='%.2f');"
   ]
  },
  {
   "cell_type": "markdown",
   "id": "404aa897",
   "metadata": {},
   "source": [
    "## Inference\n",
    "- ### The maximum number of order being placed in month of june in 2019 is in San Francisco|"
   ]
  },
  {
   "cell_type": "raw",
   "id": "8f612cf1",
   "metadata": {},
   "source": [
    "What is the least popular product in terms of unique orders in the city of Los Angeles. ?"
   ]
  },
  {
   "cell_type": "code",
   "execution_count": 8,
   "id": "325113b3",
   "metadata": {},
   "outputs": [
    {
     "data": {
      "text/html": [
       "<div>\n",
       "<style scoped>\n",
       "    .dataframe tbody tr th:only-of-type {\n",
       "        vertical-align: middle;\n",
       "    }\n",
       "\n",
       "    .dataframe tbody tr th {\n",
       "        vertical-align: top;\n",
       "    }\n",
       "\n",
       "    .dataframe thead th {\n",
       "        text-align: right;\n",
       "    }\n",
       "</style>\n",
       "<table border=\"1\" class=\"dataframe\">\n",
       "  <thead>\n",
       "    <tr style=\"text-align: right;\">\n",
       "      <th></th>\n",
       "      <th>order_id</th>\n",
       "      <th>product</th>\n",
       "      <th>quantity</th>\n",
       "      <th>price</th>\n",
       "      <th>total</th>\n",
       "      <th>full_date</th>\n",
       "      <th>hour</th>\n",
       "      <th>date</th>\n",
       "      <th>month</th>\n",
       "      <th>year</th>\n",
       "      <th>day</th>\n",
       "      <th>address</th>\n",
       "      <th>city</th>\n",
       "      <th>state</th>\n",
       "      <th>pincode</th>\n",
       "      <th>timezone</th>\n",
       "    </tr>\n",
       "  </thead>\n",
       "  <tbody>\n",
       "    <tr>\n",
       "      <th>0</th>\n",
       "      <td>236670</td>\n",
       "      <td>Wired Headphones</td>\n",
       "      <td>2</td>\n",
       "      <td>11.99</td>\n",
       "      <td>23.98</td>\n",
       "      <td>08/31/19</td>\n",
       "      <td>22</td>\n",
       "      <td>31</td>\n",
       "      <td>8</td>\n",
       "      <td>2019</td>\n",
       "      <td>Sat</td>\n",
       "      <td>359 Spruce St</td>\n",
       "      <td>Seattle</td>\n",
       "      <td>WA</td>\n",
       "      <td>98101</td>\n",
       "      <td>PM</td>\n",
       "    </tr>\n",
       "    <tr>\n",
       "      <th>1</th>\n",
       "      <td>236671</td>\n",
       "      <td>Bose SoundSport Headphones</td>\n",
       "      <td>1</td>\n",
       "      <td>99.99</td>\n",
       "      <td>99.99</td>\n",
       "      <td>08/15/19</td>\n",
       "      <td>15</td>\n",
       "      <td>15</td>\n",
       "      <td>8</td>\n",
       "      <td>2019</td>\n",
       "      <td>Thu</td>\n",
       "      <td>492 Ridge St</td>\n",
       "      <td>Dallas</td>\n",
       "      <td>TX</td>\n",
       "      <td>75001</td>\n",
       "      <td>PM</td>\n",
       "    </tr>\n",
       "    <tr>\n",
       "      <th>2</th>\n",
       "      <td>236672</td>\n",
       "      <td>iPhone</td>\n",
       "      <td>1</td>\n",
       "      <td>700.00</td>\n",
       "      <td>700.00</td>\n",
       "      <td>08/06/19</td>\n",
       "      <td>14</td>\n",
       "      <td>6</td>\n",
       "      <td>8</td>\n",
       "      <td>2019</td>\n",
       "      <td>Tue</td>\n",
       "      <td>149 7th St</td>\n",
       "      <td>Portland</td>\n",
       "      <td>OR</td>\n",
       "      <td>97035</td>\n",
       "      <td>PM</td>\n",
       "    </tr>\n",
       "  </tbody>\n",
       "</table>\n",
       "</div>"
      ],
      "text/plain": [
       "   order_id                     product  quantity   price   total full_date  \\\n",
       "0    236670            Wired Headphones         2   11.99   23.98  08/31/19   \n",
       "1    236671  Bose SoundSport Headphones         1   99.99   99.99  08/15/19   \n",
       "2    236672                      iPhone         1  700.00  700.00  08/06/19   \n",
       "\n",
       "   hour  date  month  year  day        address      city state  pincode  \\\n",
       "0    22    31      8  2019  Sat  359 Spruce St   Seattle    WA    98101   \n",
       "1    15    15      8  2019  Thu   492 Ridge St    Dallas    TX    75001   \n",
       "2    14     6      8  2019  Tue     149 7th St  Portland    OR    97035   \n",
       "\n",
       "  timezone  \n",
       "0       PM  \n",
       "1       PM  \n",
       "2       PM  "
      ]
     },
     "execution_count": 8,
     "metadata": {},
     "output_type": "execute_result"
    }
   ],
   "source": [
    "data.head(3)"
   ]
  },
  {
   "cell_type": "code",
   "execution_count": 9,
   "id": "d7ad70a2",
   "metadata": {},
   "outputs": [
    {
     "name": "stdout",
     "output_type": "stream",
     "text": [
      "<class 'pandas.core.frame.DataFrame'>\n",
      "RangeIndex: 185950 entries, 0 to 185949\n",
      "Data columns (total 16 columns):\n",
      " #   Column     Non-Null Count   Dtype  \n",
      "---  ------     --------------   -----  \n",
      " 0   order_id   185950 non-null  int64  \n",
      " 1   product    185950 non-null  object \n",
      " 2   quantity   185950 non-null  int64  \n",
      " 3   price      185950 non-null  float64\n",
      " 4   total      185950 non-null  float64\n",
      " 5   full_date  185950 non-null  object \n",
      " 6   hour       185950 non-null  int64  \n",
      " 7   date       185950 non-null  int64  \n",
      " 8   month      185950 non-null  int64  \n",
      " 9   year       185950 non-null  int64  \n",
      " 10  day        185950 non-null  object \n",
      " 11  address    185950 non-null  object \n",
      " 12  city       185950 non-null  object \n",
      " 13  state      185950 non-null  object \n",
      " 14  pincode    185950 non-null  int64  \n",
      " 15  timezone   185950 non-null  object \n",
      "dtypes: float64(2), int64(7), object(7)\n",
      "memory usage: 22.7+ MB\n"
     ]
    }
   ],
   "source": [
    "data.info()"
   ]
  },
  {
   "cell_type": "code",
   "execution_count": 10,
   "id": "25b42a46",
   "metadata": {},
   "outputs": [],
   "source": [
    "df=data[data[\"city\"]==\"Los Angeles\"]"
   ]
  },
  {
   "cell_type": "code",
   "execution_count": 11,
   "id": "0fffcad3",
   "metadata": {},
   "outputs": [
    {
     "data": {
      "text/html": [
       "<div>\n",
       "<style scoped>\n",
       "    .dataframe tbody tr th:only-of-type {\n",
       "        vertical-align: middle;\n",
       "    }\n",
       "\n",
       "    .dataframe tbody tr th {\n",
       "        vertical-align: top;\n",
       "    }\n",
       "\n",
       "    .dataframe thead th {\n",
       "        text-align: right;\n",
       "    }\n",
       "</style>\n",
       "<table border=\"1\" class=\"dataframe\">\n",
       "  <thead>\n",
       "    <tr style=\"text-align: right;\">\n",
       "      <th></th>\n",
       "      <th>order_id</th>\n",
       "      <th>product</th>\n",
       "      <th>quantity</th>\n",
       "      <th>price</th>\n",
       "      <th>total</th>\n",
       "      <th>full_date</th>\n",
       "      <th>hour</th>\n",
       "      <th>date</th>\n",
       "      <th>month</th>\n",
       "      <th>year</th>\n",
       "      <th>day</th>\n",
       "      <th>address</th>\n",
       "      <th>city</th>\n",
       "      <th>state</th>\n",
       "      <th>pincode</th>\n",
       "      <th>timezone</th>\n",
       "    </tr>\n",
       "  </thead>\n",
       "  <tbody>\n",
       "    <tr>\n",
       "      <th>3</th>\n",
       "      <td>236673</td>\n",
       "      <td>AA Batteries (4-pack)</td>\n",
       "      <td>2</td>\n",
       "      <td>3.84</td>\n",
       "      <td>7.68</td>\n",
       "      <td>08/29/19</td>\n",
       "      <td>20</td>\n",
       "      <td>29</td>\n",
       "      <td>8</td>\n",
       "      <td>2019</td>\n",
       "      <td>Thu</td>\n",
       "      <td>631 2nd St</td>\n",
       "      <td>Los Angeles</td>\n",
       "      <td>CA</td>\n",
       "      <td>90001</td>\n",
       "      <td>PM</td>\n",
       "    </tr>\n",
       "    <tr>\n",
       "      <th>6</th>\n",
       "      <td>236676</td>\n",
       "      <td>34in Ultrawide Monitor</td>\n",
       "      <td>1</td>\n",
       "      <td>379.99</td>\n",
       "      <td>379.99</td>\n",
       "      <td>08/04/19</td>\n",
       "      <td>19</td>\n",
       "      <td>4</td>\n",
       "      <td>8</td>\n",
       "      <td>2019</td>\n",
       "      <td>Sun</td>\n",
       "      <td>470 Cherry St</td>\n",
       "      <td>Los Angeles</td>\n",
       "      <td>CA</td>\n",
       "      <td>90001</td>\n",
       "      <td>PM</td>\n",
       "    </tr>\n",
       "    <tr>\n",
       "      <th>9</th>\n",
       "      <td>236679</td>\n",
       "      <td>Macbook Pro Laptop</td>\n",
       "      <td>1</td>\n",
       "      <td>1700.00</td>\n",
       "      <td>1700.00</td>\n",
       "      <td>08/07/19</td>\n",
       "      <td>15</td>\n",
       "      <td>7</td>\n",
       "      <td>8</td>\n",
       "      <td>2019</td>\n",
       "      <td>Wed</td>\n",
       "      <td>239 Spruce St</td>\n",
       "      <td>Los Angeles</td>\n",
       "      <td>CA</td>\n",
       "      <td>90001</td>\n",
       "      <td>PM</td>\n",
       "    </tr>\n",
       "    <tr>\n",
       "      <th>18</th>\n",
       "      <td>236688</td>\n",
       "      <td>34in Ultrawide Monitor</td>\n",
       "      <td>1</td>\n",
       "      <td>379.99</td>\n",
       "      <td>379.99</td>\n",
       "      <td>08/08/19</td>\n",
       "      <td>16</td>\n",
       "      <td>8</td>\n",
       "      <td>8</td>\n",
       "      <td>2019</td>\n",
       "      <td>Thu</td>\n",
       "      <td>821 7th St</td>\n",
       "      <td>Los Angeles</td>\n",
       "      <td>CA</td>\n",
       "      <td>90001</td>\n",
       "      <td>PM</td>\n",
       "    </tr>\n",
       "    <tr>\n",
       "      <th>30</th>\n",
       "      <td>236700</td>\n",
       "      <td>Wired Headphones</td>\n",
       "      <td>1</td>\n",
       "      <td>11.99</td>\n",
       "      <td>11.99</td>\n",
       "      <td>08/09/19</td>\n",
       "      <td>8</td>\n",
       "      <td>9</td>\n",
       "      <td>8</td>\n",
       "      <td>2019</td>\n",
       "      <td>Fri</td>\n",
       "      <td>534 North St</td>\n",
       "      <td>Los Angeles</td>\n",
       "      <td>CA</td>\n",
       "      <td>90001</td>\n",
       "      <td>AM</td>\n",
       "    </tr>\n",
       "  </tbody>\n",
       "</table>\n",
       "</div>"
      ],
      "text/plain": [
       "    order_id                 product  quantity    price    total full_date  \\\n",
       "3     236673   AA Batteries (4-pack)         2     3.84     7.68  08/29/19   \n",
       "6     236676  34in Ultrawide Monitor         1   379.99   379.99  08/04/19   \n",
       "9     236679      Macbook Pro Laptop         1  1700.00  1700.00  08/07/19   \n",
       "18    236688  34in Ultrawide Monitor         1   379.99   379.99  08/08/19   \n",
       "30    236700        Wired Headphones         1    11.99    11.99  08/09/19   \n",
       "\n",
       "    hour  date  month  year  day        address         city state  pincode  \\\n",
       "3     20    29      8  2019  Thu     631 2nd St  Los Angeles    CA    90001   \n",
       "6     19     4      8  2019  Sun  470 Cherry St  Los Angeles    CA    90001   \n",
       "9     15     7      8  2019  Wed  239 Spruce St  Los Angeles    CA    90001   \n",
       "18    16     8      8  2019  Thu     821 7th St  Los Angeles    CA    90001   \n",
       "30     8     9      8  2019  Fri   534 North St  Los Angeles    CA    90001   \n",
       "\n",
       "   timezone  \n",
       "3        PM  \n",
       "6        PM  \n",
       "9        PM  \n",
       "18       PM  \n",
       "30       AM  "
      ]
     },
     "execution_count": 11,
     "metadata": {},
     "output_type": "execute_result"
    }
   ],
   "source": [
    "df.head()"
   ]
  },
  {
   "cell_type": "code",
   "execution_count": 12,
   "id": "4aac39cf",
   "metadata": {},
   "outputs": [
    {
     "data": {
      "text/plain": [
       "array(['AA Batteries (4-pack)', '34in Ultrawide Monitor',\n",
       "       'Macbook Pro Laptop', 'Wired Headphones',\n",
       "       'Lightning Charging Cable', 'AAA Batteries (4-pack)',\n",
       "       'Flatscreen TV', 'Google Phone', 'iPhone', 'USB-C Charging Cable',\n",
       "       '27in 4K Gaming Monitor', 'ThinkPad Laptop', 'Vareebadd Phone',\n",
       "       'Bose SoundSport Headphones', '20in Monitor', '27in FHD Monitor',\n",
       "       'Apple Airpods Headphones', 'LG Washing Machine', 'LG Dryer'],\n",
       "      dtype=object)"
      ]
     },
     "execution_count": 12,
     "metadata": {},
     "output_type": "execute_result"
    }
   ],
   "source": [
    "df[\"product\"].unique()"
   ]
  },
  {
   "cell_type": "code",
   "execution_count": 13,
   "id": "d6a9df6e",
   "metadata": {
    "scrolled": true
   },
   "outputs": [
    {
     "data": {
      "text/plain": [
       "product\n",
       "LG Washing Machine             105\n",
       "LG Dryer                       116\n",
       "Vareebadd Phone                317\n",
       "ThinkPad Laptop                641\n",
       "20in Monitor                   658\n",
       "Flatscreen TV                  727\n",
       "Macbook Pro Laptop             751\n",
       "Google Phone                   848\n",
       "34in Ultrawide Monitor         955\n",
       "27in 4K Gaming Monitor        1003\n",
       "iPhone                        1118\n",
       "27in FHD Monitor              1223\n",
       "Bose SoundSport Headphones    2125\n",
       "Apple Airpods Headphones      2473\n",
       "Wired Headphones              3270\n",
       "Lightning Charging Cable      3772\n",
       "USB-C Charging Cable          3782\n",
       "AA Batteries (4-pack)         4438\n",
       "AAA Batteries (4-pack)        4967\n",
       "Name: quantity, dtype: int64"
      ]
     },
     "execution_count": 13,
     "metadata": {},
     "output_type": "execute_result"
    }
   ],
   "source": [
    "df.groupby(\"product\")[\"quantity\"].sum().sort_values()"
   ]
  },
  {
   "cell_type": "code",
   "execution_count": 14,
   "id": "bfaf98c2",
   "metadata": {
    "scrolled": false
   },
   "outputs": [
    {
     "data": {
      "text/html": [
       "<div>\n",
       "<style scoped>\n",
       "    .dataframe tbody tr th:only-of-type {\n",
       "        vertical-align: middle;\n",
       "    }\n",
       "\n",
       "    .dataframe tbody tr th {\n",
       "        vertical-align: top;\n",
       "    }\n",
       "\n",
       "    .dataframe thead th {\n",
       "        text-align: right;\n",
       "    }\n",
       "</style>\n",
       "<table border=\"1\" class=\"dataframe\">\n",
       "  <thead>\n",
       "    <tr style=\"text-align: right;\">\n",
       "      <th></th>\n",
       "      <th>order_id</th>\n",
       "      <th>product</th>\n",
       "      <th>quantity</th>\n",
       "      <th>price</th>\n",
       "      <th>total</th>\n",
       "      <th>full_date</th>\n",
       "      <th>hour</th>\n",
       "      <th>date</th>\n",
       "      <th>month</th>\n",
       "      <th>year</th>\n",
       "      <th>day</th>\n",
       "      <th>address</th>\n",
       "      <th>city</th>\n",
       "      <th>state</th>\n",
       "      <th>pincode</th>\n",
       "      <th>timezone</th>\n",
       "    </tr>\n",
       "  </thead>\n",
       "  <tbody>\n",
       "    <tr>\n",
       "      <th>0</th>\n",
       "      <td>236670</td>\n",
       "      <td>Wired Headphones</td>\n",
       "      <td>2</td>\n",
       "      <td>11.99</td>\n",
       "      <td>23.98</td>\n",
       "      <td>08/31/19</td>\n",
       "      <td>22</td>\n",
       "      <td>31</td>\n",
       "      <td>8</td>\n",
       "      <td>2019</td>\n",
       "      <td>Sat</td>\n",
       "      <td>359 Spruce St</td>\n",
       "      <td>Seattle</td>\n",
       "      <td>WA</td>\n",
       "      <td>98101</td>\n",
       "      <td>PM</td>\n",
       "    </tr>\n",
       "    <tr>\n",
       "      <th>1</th>\n",
       "      <td>236671</td>\n",
       "      <td>Bose SoundSport Headphones</td>\n",
       "      <td>1</td>\n",
       "      <td>99.99</td>\n",
       "      <td>99.99</td>\n",
       "      <td>08/15/19</td>\n",
       "      <td>15</td>\n",
       "      <td>15</td>\n",
       "      <td>8</td>\n",
       "      <td>2019</td>\n",
       "      <td>Thu</td>\n",
       "      <td>492 Ridge St</td>\n",
       "      <td>Dallas</td>\n",
       "      <td>TX</td>\n",
       "      <td>75001</td>\n",
       "      <td>PM</td>\n",
       "    </tr>\n",
       "    <tr>\n",
       "      <th>2</th>\n",
       "      <td>236672</td>\n",
       "      <td>iPhone</td>\n",
       "      <td>1</td>\n",
       "      <td>700.00</td>\n",
       "      <td>700.00</td>\n",
       "      <td>08/06/19</td>\n",
       "      <td>14</td>\n",
       "      <td>6</td>\n",
       "      <td>8</td>\n",
       "      <td>2019</td>\n",
       "      <td>Tue</td>\n",
       "      <td>149 7th St</td>\n",
       "      <td>Portland</td>\n",
       "      <td>OR</td>\n",
       "      <td>97035</td>\n",
       "      <td>PM</td>\n",
       "    </tr>\n",
       "    <tr>\n",
       "      <th>3</th>\n",
       "      <td>236673</td>\n",
       "      <td>AA Batteries (4-pack)</td>\n",
       "      <td>2</td>\n",
       "      <td>3.84</td>\n",
       "      <td>7.68</td>\n",
       "      <td>08/29/19</td>\n",
       "      <td>20</td>\n",
       "      <td>29</td>\n",
       "      <td>8</td>\n",
       "      <td>2019</td>\n",
       "      <td>Thu</td>\n",
       "      <td>631 2nd St</td>\n",
       "      <td>Los Angeles</td>\n",
       "      <td>CA</td>\n",
       "      <td>90001</td>\n",
       "      <td>PM</td>\n",
       "    </tr>\n",
       "    <tr>\n",
       "      <th>4</th>\n",
       "      <td>236674</td>\n",
       "      <td>AA Batteries (4-pack)</td>\n",
       "      <td>2</td>\n",
       "      <td>3.84</td>\n",
       "      <td>7.68</td>\n",
       "      <td>08/15/19</td>\n",
       "      <td>19</td>\n",
       "      <td>15</td>\n",
       "      <td>8</td>\n",
       "      <td>2019</td>\n",
       "      <td>Thu</td>\n",
       "      <td>736 14th St</td>\n",
       "      <td>New York City</td>\n",
       "      <td>NY</td>\n",
       "      <td>10001</td>\n",
       "      <td>PM</td>\n",
       "    </tr>\n",
       "  </tbody>\n",
       "</table>\n",
       "</div>"
      ],
      "text/plain": [
       "   order_id                     product  quantity   price   total full_date  \\\n",
       "0    236670            Wired Headphones         2   11.99   23.98  08/31/19   \n",
       "1    236671  Bose SoundSport Headphones         1   99.99   99.99  08/15/19   \n",
       "2    236672                      iPhone         1  700.00  700.00  08/06/19   \n",
       "3    236673       AA Batteries (4-pack)         2    3.84    7.68  08/29/19   \n",
       "4    236674       AA Batteries (4-pack)         2    3.84    7.68  08/15/19   \n",
       "\n",
       "   hour  date  month  year  day        address           city state  pincode  \\\n",
       "0    22    31      8  2019  Sat  359 Spruce St        Seattle    WA    98101   \n",
       "1    15    15      8  2019  Thu   492 Ridge St         Dallas    TX    75001   \n",
       "2    14     6      8  2019  Tue     149 7th St       Portland    OR    97035   \n",
       "3    20    29      8  2019  Thu     631 2nd St    Los Angeles    CA    90001   \n",
       "4    19    15      8  2019  Thu    736 14th St  New York City    NY    10001   \n",
       "\n",
       "  timezone  \n",
       "0       PM  \n",
       "1       PM  \n",
       "2       PM  \n",
       "3       PM  \n",
       "4       PM  "
      ]
     },
     "execution_count": 14,
     "metadata": {},
     "output_type": "execute_result"
    }
   ],
   "source": [
    "data.head()"
   ]
  },
  {
   "cell_type": "markdown",
   "id": "8e78a5d9",
   "metadata": {},
   "source": [
    "## Inference\n",
    "- ### The least popular product in the city of Los Angelas is `LG Washing Machine` with total order of `105`"
   ]
  },
  {
   "cell_type": "code",
   "execution_count": 15,
   "id": "4e2e9cda",
   "metadata": {},
   "outputs": [
    {
     "data": {
      "text/plain": [
       "array(['Wired Headphones', 'Bose SoundSport Headphones', 'iPhone',\n",
       "       'AA Batteries (4-pack)', '34in Ultrawide Monitor', '20in Monitor',\n",
       "       'Macbook Pro Laptop', 'LG Washing Machine', '27in FHD Monitor',\n",
       "       'Lightning Charging Cable', 'Apple Airpods Headphones',\n",
       "       'AAA Batteries (4-pack)', 'USB-C Charging Cable',\n",
       "       '27in 4K Gaming Monitor', 'ThinkPad Laptop', 'Flatscreen TV',\n",
       "       'Google Phone', 'Vareebadd Phone', 'LG Dryer'], dtype=object)"
      ]
     },
     "execution_count": 15,
     "metadata": {},
     "output_type": "execute_result"
    }
   ],
   "source": [
    "data[\"product\"].unique()"
   ]
  },
  {
   "cell_type": "raw",
   "id": "170bd434",
   "metadata": {},
   "source": [
    "Which state has the highest revenue generated from all the apple products in year 2019?"
   ]
  },
  {
   "cell_type": "markdown",
   "id": "1cc0504e",
   "metadata": {},
   "source": [
    "- Hint { Apple products : Apple airpods, iphone, Macbook}"
   ]
  },
  {
   "cell_type": "code",
   "execution_count": 16,
   "id": "9e946a9e",
   "metadata": {},
   "outputs": [
    {
     "data": {
      "text/html": [
       "<div>\n",
       "<style scoped>\n",
       "    .dataframe tbody tr th:only-of-type {\n",
       "        vertical-align: middle;\n",
       "    }\n",
       "\n",
       "    .dataframe tbody tr th {\n",
       "        vertical-align: top;\n",
       "    }\n",
       "\n",
       "    .dataframe thead th {\n",
       "        text-align: right;\n",
       "    }\n",
       "</style>\n",
       "<table border=\"1\" class=\"dataframe\">\n",
       "  <thead>\n",
       "    <tr style=\"text-align: right;\">\n",
       "      <th></th>\n",
       "      <th>order_id</th>\n",
       "      <th>product</th>\n",
       "      <th>quantity</th>\n",
       "      <th>price</th>\n",
       "      <th>total</th>\n",
       "      <th>full_date</th>\n",
       "      <th>hour</th>\n",
       "      <th>date</th>\n",
       "      <th>month</th>\n",
       "      <th>year</th>\n",
       "      <th>day</th>\n",
       "      <th>address</th>\n",
       "      <th>city</th>\n",
       "      <th>state</th>\n",
       "      <th>pincode</th>\n",
       "      <th>timezone</th>\n",
       "    </tr>\n",
       "  </thead>\n",
       "  <tbody>\n",
       "    <tr>\n",
       "      <th>2</th>\n",
       "      <td>236672</td>\n",
       "      <td>iPhone</td>\n",
       "      <td>1</td>\n",
       "      <td>700.0</td>\n",
       "      <td>700.0</td>\n",
       "      <td>08/06/19</td>\n",
       "      <td>14</td>\n",
       "      <td>6</td>\n",
       "      <td>8</td>\n",
       "      <td>2019</td>\n",
       "      <td>Tue</td>\n",
       "      <td>149 7th St</td>\n",
       "      <td>Portland</td>\n",
       "      <td>OR</td>\n",
       "      <td>97035</td>\n",
       "      <td>PM</td>\n",
       "    </tr>\n",
       "    <tr>\n",
       "      <th>9</th>\n",
       "      <td>236679</td>\n",
       "      <td>Macbook Pro Laptop</td>\n",
       "      <td>1</td>\n",
       "      <td>1700.0</td>\n",
       "      <td>1700.0</td>\n",
       "      <td>08/07/19</td>\n",
       "      <td>15</td>\n",
       "      <td>7</td>\n",
       "      <td>8</td>\n",
       "      <td>2019</td>\n",
       "      <td>Wed</td>\n",
       "      <td>239 Spruce St</td>\n",
       "      <td>Los Angeles</td>\n",
       "      <td>CA</td>\n",
       "      <td>90001</td>\n",
       "      <td>PM</td>\n",
       "    </tr>\n",
       "    <tr>\n",
       "      <th>15</th>\n",
       "      <td>236685</td>\n",
       "      <td>Apple Airpods Headphones</td>\n",
       "      <td>1</td>\n",
       "      <td>150.0</td>\n",
       "      <td>150.0</td>\n",
       "      <td>08/23/19</td>\n",
       "      <td>19</td>\n",
       "      <td>23</td>\n",
       "      <td>8</td>\n",
       "      <td>2019</td>\n",
       "      <td>Fri</td>\n",
       "      <td>238 Highland St</td>\n",
       "      <td>Atlanta</td>\n",
       "      <td>GA</td>\n",
       "      <td>30301</td>\n",
       "      <td>PM</td>\n",
       "    </tr>\n",
       "    <tr>\n",
       "      <th>24</th>\n",
       "      <td>236694</td>\n",
       "      <td>Apple Airpods Headphones</td>\n",
       "      <td>1</td>\n",
       "      <td>150.0</td>\n",
       "      <td>150.0</td>\n",
       "      <td>08/14/19</td>\n",
       "      <td>23</td>\n",
       "      <td>14</td>\n",
       "      <td>8</td>\n",
       "      <td>2019</td>\n",
       "      <td>Wed</td>\n",
       "      <td>854 Sunset St</td>\n",
       "      <td>New York City</td>\n",
       "      <td>NY</td>\n",
       "      <td>10001</td>\n",
       "      <td>PM</td>\n",
       "    </tr>\n",
       "    <tr>\n",
       "      <th>31</th>\n",
       "      <td>236701</td>\n",
       "      <td>Apple Airpods Headphones</td>\n",
       "      <td>1</td>\n",
       "      <td>150.0</td>\n",
       "      <td>150.0</td>\n",
       "      <td>08/06/19</td>\n",
       "      <td>10</td>\n",
       "      <td>6</td>\n",
       "      <td>8</td>\n",
       "      <td>2019</td>\n",
       "      <td>Tue</td>\n",
       "      <td>518 Main St</td>\n",
       "      <td>San Francisco</td>\n",
       "      <td>CA</td>\n",
       "      <td>94016</td>\n",
       "      <td>AM</td>\n",
       "    </tr>\n",
       "  </tbody>\n",
       "</table>\n",
       "</div>"
      ],
      "text/plain": [
       "    order_id                   product  quantity   price   total full_date  \\\n",
       "2     236672                    iPhone         1   700.0   700.0  08/06/19   \n",
       "9     236679        Macbook Pro Laptop         1  1700.0  1700.0  08/07/19   \n",
       "15    236685  Apple Airpods Headphones         1   150.0   150.0  08/23/19   \n",
       "24    236694  Apple Airpods Headphones         1   150.0   150.0  08/14/19   \n",
       "31    236701  Apple Airpods Headphones         1   150.0   150.0  08/06/19   \n",
       "\n",
       "    hour  date  month  year  day          address           city state  \\\n",
       "2     14     6      8  2019  Tue       149 7th St       Portland    OR   \n",
       "9     15     7      8  2019  Wed    239 Spruce St    Los Angeles    CA   \n",
       "15    19    23      8  2019  Fri  238 Highland St        Atlanta    GA   \n",
       "24    23    14      8  2019  Wed    854 Sunset St  New York City    NY   \n",
       "31    10     6      8  2019  Tue      518 Main St  San Francisco    CA   \n",
       "\n",
       "    pincode timezone  \n",
       "2     97035       PM  \n",
       "9     90001       PM  \n",
       "15    30301       PM  \n",
       "24    10001       PM  \n",
       "31    94016       AM  "
      ]
     },
     "execution_count": 16,
     "metadata": {},
     "output_type": "execute_result"
    }
   ],
   "source": [
    "apple=data[(data[\"product\"]==\"Apple Airpods Headphones\") | (data[\"product\"]==\"iPhone\") | (data[\"product\"]==\"Macbook Pro Laptop\")]\n",
    "apple.head()"
   ]
  },
  {
   "cell_type": "code",
   "execution_count": 17,
   "id": "aa80e956",
   "metadata": {},
   "outputs": [
    {
     "data": {
      "text/plain": [
       "array(['iPhone', 'Macbook Pro Laptop', 'Apple Airpods Headphones'],\n",
       "      dtype=object)"
      ]
     },
     "execution_count": 17,
     "metadata": {},
     "output_type": "execute_result"
    }
   ],
   "source": [
    "apple[\"product\"].unique()"
   ]
  },
  {
   "cell_type": "code",
   "execution_count": 18,
   "id": "4dba7cf6",
   "metadata": {},
   "outputs": [
    {
     "data": {
      "text/plain": [
       "state\n",
       "CA    6084100.0\n",
       "NY    2048300.0\n",
       "TX    2015450.0\n",
       "MA    1589350.0\n",
       "GA    1215000.0\n",
       "Name: total, dtype: float64"
      ]
     },
     "execution_count": 18,
     "metadata": {},
     "output_type": "execute_result"
    }
   ],
   "source": [
    "apple.groupby([\"state\"])[\"total\"].sum().sort_values(ascending=False).head()"
   ]
  },
  {
   "cell_type": "markdown",
   "id": "7c2a0400",
   "metadata": {},
   "source": [
    "## Inference:\n",
    "- ### CS has the highest sales of Apple Product of revenue of `6084100.0$`"
   ]
  },
  {
   "cell_type": "raw",
   "id": "e8a1ec05",
   "metadata": {},
   "source": [
    "What is the difference of revenue generated between weekend and weekday in the state of CA ?\n",
    "Hint { Weekday : Mon – Thu, Weekend : Fri – Sun}"
   ]
  },
  {
   "cell_type": "code",
   "execution_count": 19,
   "id": "101b335a",
   "metadata": {},
   "outputs": [
    {
     "data": {
      "text/plain": [
       "array(['Sat', 'Thu', 'Tue', 'Fri', 'Sun', 'Wed', 'Mon'], dtype=object)"
      ]
     },
     "execution_count": 19,
     "metadata": {},
     "output_type": "execute_result"
    }
   ],
   "source": [
    "data[\"day\"].unique()"
   ]
  },
  {
   "cell_type": "code",
   "execution_count": 20,
   "id": "47f21230",
   "metadata": {},
   "outputs": [
    {
     "data": {
      "text/html": [
       "<div>\n",
       "<style scoped>\n",
       "    .dataframe tbody tr th:only-of-type {\n",
       "        vertical-align: middle;\n",
       "    }\n",
       "\n",
       "    .dataframe tbody tr th {\n",
       "        vertical-align: top;\n",
       "    }\n",
       "\n",
       "    .dataframe thead th {\n",
       "        text-align: right;\n",
       "    }\n",
       "</style>\n",
       "<table border=\"1\" class=\"dataframe\">\n",
       "  <thead>\n",
       "    <tr style=\"text-align: right;\">\n",
       "      <th></th>\n",
       "      <th>order_id</th>\n",
       "      <th>product</th>\n",
       "      <th>quantity</th>\n",
       "      <th>price</th>\n",
       "      <th>total</th>\n",
       "      <th>full_date</th>\n",
       "      <th>hour</th>\n",
       "      <th>date</th>\n",
       "      <th>month</th>\n",
       "      <th>year</th>\n",
       "      <th>day</th>\n",
       "      <th>address</th>\n",
       "      <th>city</th>\n",
       "      <th>state</th>\n",
       "      <th>pincode</th>\n",
       "      <th>timezone</th>\n",
       "    </tr>\n",
       "  </thead>\n",
       "  <tbody>\n",
       "    <tr>\n",
       "      <th>0</th>\n",
       "      <td>236670</td>\n",
       "      <td>Wired Headphones</td>\n",
       "      <td>2</td>\n",
       "      <td>11.99</td>\n",
       "      <td>23.98</td>\n",
       "      <td>08/31/19</td>\n",
       "      <td>22</td>\n",
       "      <td>31</td>\n",
       "      <td>8</td>\n",
       "      <td>2019</td>\n",
       "      <td>Sat</td>\n",
       "      <td>359 Spruce St</td>\n",
       "      <td>Seattle</td>\n",
       "      <td>WA</td>\n",
       "      <td>98101</td>\n",
       "      <td>PM</td>\n",
       "    </tr>\n",
       "  </tbody>\n",
       "</table>\n",
       "</div>"
      ],
      "text/plain": [
       "   order_id           product  quantity  price  total full_date  hour  date  \\\n",
       "0    236670  Wired Headphones         2  11.99  23.98  08/31/19    22    31   \n",
       "\n",
       "   month  year  day        address     city state  pincode timezone  \n",
       "0      8  2019  Sat  359 Spruce St  Seattle    WA    98101       PM  "
      ]
     },
     "execution_count": 20,
     "metadata": {},
     "output_type": "execute_result"
    }
   ],
   "source": [
    "data.head(1)"
   ]
  },
  {
   "cell_type": "code",
   "execution_count": 21,
   "id": "d14c547a",
   "metadata": {},
   "outputs": [
    {
     "data": {
      "text/html": [
       "<div>\n",
       "<style scoped>\n",
       "    .dataframe tbody tr th:only-of-type {\n",
       "        vertical-align: middle;\n",
       "    }\n",
       "\n",
       "    .dataframe tbody tr th {\n",
       "        vertical-align: top;\n",
       "    }\n",
       "\n",
       "    .dataframe thead th {\n",
       "        text-align: right;\n",
       "    }\n",
       "</style>\n",
       "<table border=\"1\" class=\"dataframe\">\n",
       "  <thead>\n",
       "    <tr style=\"text-align: right;\">\n",
       "      <th></th>\n",
       "      <th>order_id</th>\n",
       "      <th>product</th>\n",
       "      <th>quantity</th>\n",
       "      <th>price</th>\n",
       "      <th>total</th>\n",
       "      <th>full_date</th>\n",
       "      <th>hour</th>\n",
       "      <th>date</th>\n",
       "      <th>month</th>\n",
       "      <th>year</th>\n",
       "      <th>day</th>\n",
       "      <th>address</th>\n",
       "      <th>city</th>\n",
       "      <th>state</th>\n",
       "      <th>pincode</th>\n",
       "      <th>timezone</th>\n",
       "    </tr>\n",
       "  </thead>\n",
       "  <tbody>\n",
       "    <tr>\n",
       "      <th>1</th>\n",
       "      <td>236671</td>\n",
       "      <td>Bose SoundSport Headphones</td>\n",
       "      <td>1</td>\n",
       "      <td>99.99</td>\n",
       "      <td>99.99</td>\n",
       "      <td>08/15/19</td>\n",
       "      <td>15</td>\n",
       "      <td>15</td>\n",
       "      <td>8</td>\n",
       "      <td>2019</td>\n",
       "      <td>Thu</td>\n",
       "      <td>492 Ridge St</td>\n",
       "      <td>Dallas</td>\n",
       "      <td>TX</td>\n",
       "      <td>75001</td>\n",
       "      <td>PM</td>\n",
       "    </tr>\n",
       "  </tbody>\n",
       "</table>\n",
       "</div>"
      ],
      "text/plain": [
       "   order_id                     product  quantity  price  total full_date  \\\n",
       "1    236671  Bose SoundSport Headphones         1  99.99  99.99  08/15/19   \n",
       "\n",
       "   hour  date  month  year  day       address    city state  pincode timezone  \n",
       "1    15    15      8  2019  Thu  492 Ridge St  Dallas    TX    75001       PM  "
      ]
     },
     "execution_count": 21,
     "metadata": {},
     "output_type": "execute_result"
    }
   ],
   "source": [
    "weekday=data[(data[\"day\"]==\"Mon\") | (data[\"day\"]==\"Tue\") | (data[\"day\"]==\"Wed\") | (data[\"day\"]==\"Thu\")]\n",
    "weekday.head(1)"
   ]
  },
  {
   "cell_type": "code",
   "execution_count": 22,
   "id": "c187a3d8",
   "metadata": {},
   "outputs": [
    {
     "data": {
      "text/plain": [
       "19799570.919999998"
      ]
     },
     "execution_count": 22,
     "metadata": {},
     "output_type": "execute_result"
    }
   ],
   "source": [
    "total1=weekday[\"total\"].sum()\n",
    "total1"
   ]
  },
  {
   "cell_type": "code",
   "execution_count": 23,
   "id": "31680533",
   "metadata": {},
   "outputs": [
    {
     "data": {
      "text/html": [
       "<div>\n",
       "<style scoped>\n",
       "    .dataframe tbody tr th:only-of-type {\n",
       "        vertical-align: middle;\n",
       "    }\n",
       "\n",
       "    .dataframe tbody tr th {\n",
       "        vertical-align: top;\n",
       "    }\n",
       "\n",
       "    .dataframe thead th {\n",
       "        text-align: right;\n",
       "    }\n",
       "</style>\n",
       "<table border=\"1\" class=\"dataframe\">\n",
       "  <thead>\n",
       "    <tr style=\"text-align: right;\">\n",
       "      <th></th>\n",
       "      <th>order_id</th>\n",
       "      <th>product</th>\n",
       "      <th>quantity</th>\n",
       "      <th>price</th>\n",
       "      <th>total</th>\n",
       "      <th>full_date</th>\n",
       "      <th>hour</th>\n",
       "      <th>date</th>\n",
       "      <th>month</th>\n",
       "      <th>year</th>\n",
       "      <th>day</th>\n",
       "      <th>address</th>\n",
       "      <th>city</th>\n",
       "      <th>state</th>\n",
       "      <th>pincode</th>\n",
       "      <th>timezone</th>\n",
       "    </tr>\n",
       "  </thead>\n",
       "  <tbody>\n",
       "    <tr>\n",
       "      <th>0</th>\n",
       "      <td>236670</td>\n",
       "      <td>Wired Headphones</td>\n",
       "      <td>2</td>\n",
       "      <td>11.99</td>\n",
       "      <td>23.98</td>\n",
       "      <td>08/31/19</td>\n",
       "      <td>22</td>\n",
       "      <td>31</td>\n",
       "      <td>8</td>\n",
       "      <td>2019</td>\n",
       "      <td>Sat</td>\n",
       "      <td>359 Spruce St</td>\n",
       "      <td>Seattle</td>\n",
       "      <td>WA</td>\n",
       "      <td>98101</td>\n",
       "      <td>PM</td>\n",
       "    </tr>\n",
       "  </tbody>\n",
       "</table>\n",
       "</div>"
      ],
      "text/plain": [
       "   order_id           product  quantity  price  total full_date  hour  date  \\\n",
       "0    236670  Wired Headphones         2  11.99  23.98  08/31/19    22    31   \n",
       "\n",
       "   month  year  day        address     city state  pincode timezone  \n",
       "0      8  2019  Sat  359 Spruce St  Seattle    WA    98101       PM  "
      ]
     },
     "execution_count": 23,
     "metadata": {},
     "output_type": "execute_result"
    }
   ],
   "source": [
    "weekend=data[(data[\"day\"]==\"Fri\") | (data[\"day\"]==\"Sat\") | (data[\"day\"]==\"Sun\")]\n",
    "weekend.head(1)"
   ]
  },
  {
   "cell_type": "code",
   "execution_count": 24,
   "id": "2a6acf3e",
   "metadata": {},
   "outputs": [
    {
     "data": {
      "text/plain": [
       "14692465.049999997"
      ]
     },
     "execution_count": 24,
     "metadata": {},
     "output_type": "execute_result"
    }
   ],
   "source": [
    "total2=weekend[\"total\"].sum()\n",
    "total2"
   ]
  },
  {
   "cell_type": "code",
   "execution_count": 25,
   "id": "9e2900bd",
   "metadata": {},
   "outputs": [
    {
     "data": {
      "text/plain": [
       "5107105.870000001"
      ]
     },
     "execution_count": 25,
     "metadata": {},
     "output_type": "execute_result"
    }
   ],
   "source": [
    "total1 - total2"
   ]
  },
  {
   "cell_type": "markdown",
   "id": "17a2c4e3",
   "metadata": {},
   "source": [
    "## Inference\n",
    "- ### The difference of revenue generated between weekend and weekday in the state of CA is `107105.87`"
   ]
  },
  {
   "cell_type": "raw",
   "id": "5605273e",
   "metadata": {},
   "source": [
    "Which city has seen the overall least orders in night hours in the months of May, June and July 2019. \n",
    "Hint { Night Hours : 18 – 24 }"
   ]
  },
  {
   "cell_type": "code",
   "execution_count": 26,
   "id": "8f1e2f1c",
   "metadata": {},
   "outputs": [
    {
     "data": {
      "text/html": [
       "<div>\n",
       "<style scoped>\n",
       "    .dataframe tbody tr th:only-of-type {\n",
       "        vertical-align: middle;\n",
       "    }\n",
       "\n",
       "    .dataframe tbody tr th {\n",
       "        vertical-align: top;\n",
       "    }\n",
       "\n",
       "    .dataframe thead th {\n",
       "        text-align: right;\n",
       "    }\n",
       "</style>\n",
       "<table border=\"1\" class=\"dataframe\">\n",
       "  <thead>\n",
       "    <tr style=\"text-align: right;\">\n",
       "      <th></th>\n",
       "      <th>order_id</th>\n",
       "      <th>product</th>\n",
       "      <th>quantity</th>\n",
       "      <th>price</th>\n",
       "      <th>total</th>\n",
       "      <th>full_date</th>\n",
       "      <th>hour</th>\n",
       "      <th>date</th>\n",
       "      <th>month</th>\n",
       "      <th>year</th>\n",
       "      <th>day</th>\n",
       "      <th>address</th>\n",
       "      <th>city</th>\n",
       "      <th>state</th>\n",
       "      <th>pincode</th>\n",
       "      <th>timezone</th>\n",
       "    </tr>\n",
       "  </thead>\n",
       "  <tbody>\n",
       "    <tr>\n",
       "      <th>0</th>\n",
       "      <td>236670</td>\n",
       "      <td>Wired Headphones</td>\n",
       "      <td>2</td>\n",
       "      <td>11.99</td>\n",
       "      <td>23.98</td>\n",
       "      <td>08/31/19</td>\n",
       "      <td>22</td>\n",
       "      <td>31</td>\n",
       "      <td>8</td>\n",
       "      <td>2019</td>\n",
       "      <td>Sat</td>\n",
       "      <td>359 Spruce St</td>\n",
       "      <td>Seattle</td>\n",
       "      <td>WA</td>\n",
       "      <td>98101</td>\n",
       "      <td>PM</td>\n",
       "    </tr>\n",
       "  </tbody>\n",
       "</table>\n",
       "</div>"
      ],
      "text/plain": [
       "   order_id           product  quantity  price  total full_date  hour  date  \\\n",
       "0    236670  Wired Headphones         2  11.99  23.98  08/31/19    22    31   \n",
       "\n",
       "   month  year  day        address     city state  pincode timezone  \n",
       "0      8  2019  Sat  359 Spruce St  Seattle    WA    98101       PM  "
      ]
     },
     "execution_count": 26,
     "metadata": {},
     "output_type": "execute_result"
    }
   ],
   "source": [
    "data.head(1)"
   ]
  },
  {
   "cell_type": "code",
   "execution_count": 27,
   "id": "821880f3",
   "metadata": {},
   "outputs": [
    {
     "data": {
      "text/html": [
       "<div>\n",
       "<style scoped>\n",
       "    .dataframe tbody tr th:only-of-type {\n",
       "        vertical-align: middle;\n",
       "    }\n",
       "\n",
       "    .dataframe tbody tr th {\n",
       "        vertical-align: top;\n",
       "    }\n",
       "\n",
       "    .dataframe thead th {\n",
       "        text-align: right;\n",
       "    }\n",
       "</style>\n",
       "<table border=\"1\" class=\"dataframe\">\n",
       "  <thead>\n",
       "    <tr style=\"text-align: right;\">\n",
       "      <th></th>\n",
       "      <th>order_id</th>\n",
       "      <th>product</th>\n",
       "      <th>quantity</th>\n",
       "      <th>price</th>\n",
       "      <th>total</th>\n",
       "      <th>full_date</th>\n",
       "      <th>hour</th>\n",
       "      <th>date</th>\n",
       "      <th>month</th>\n",
       "      <th>year</th>\n",
       "      <th>day</th>\n",
       "      <th>address</th>\n",
       "      <th>city</th>\n",
       "      <th>state</th>\n",
       "      <th>pincode</th>\n",
       "      <th>timezone</th>\n",
       "    </tr>\n",
       "  </thead>\n",
       "  <tbody>\n",
       "    <tr>\n",
       "      <th>27116</th>\n",
       "      <td>222915</td>\n",
       "      <td>Bose SoundSport Headphones</td>\n",
       "      <td>1</td>\n",
       "      <td>99.99</td>\n",
       "      <td>99.99</td>\n",
       "      <td>07/03/19</td>\n",
       "      <td>18</td>\n",
       "      <td>3</td>\n",
       "      <td>7</td>\n",
       "      <td>2019</td>\n",
       "      <td>Wed</td>\n",
       "      <td>899 Elm St</td>\n",
       "      <td>San Francisco</td>\n",
       "      <td>CA</td>\n",
       "      <td>94016</td>\n",
       "      <td>PM</td>\n",
       "    </tr>\n",
       "  </tbody>\n",
       "</table>\n",
       "</div>"
      ],
      "text/plain": [
       "       order_id                     product  quantity  price  total full_date  \\\n",
       "27116    222915  Bose SoundSport Headphones         1  99.99  99.99  07/03/19   \n",
       "\n",
       "       hour  date  month  year  day     address           city state  pincode  \\\n",
       "27116    18     3      7  2019  Wed  899 Elm St  San Francisco    CA    94016   \n",
       "\n",
       "      timezone  \n",
       "27116       PM  "
      ]
     },
     "execution_count": 27,
     "metadata": {},
     "output_type": "execute_result"
    }
   ],
   "source": [
    "night=data[(data[\"hour\"]>17) & (data[\"month\"] >=5) & (data[\"month\"]<8) & (data[\"year\"]==2019)]\n",
    "night.head(1)"
   ]
  },
  {
   "cell_type": "code",
   "execution_count": 28,
   "id": "9e7373e1",
   "metadata": {},
   "outputs": [
    {
     "data": {
      "text/plain": [
       "(array([7, 6, 5], dtype=int64), array([18, 22, 21, 20, 19, 23], dtype=int64))"
      ]
     },
     "execution_count": 28,
     "metadata": {},
     "output_type": "execute_result"
    }
   ],
   "source": [
    "night[\"month\"].unique() , night[\"hour\"].unique()"
   ]
  },
  {
   "cell_type": "code",
   "execution_count": 29,
   "id": "886a266c",
   "metadata": {},
   "outputs": [
    {
     "data": {
      "text/plain": [
       "array([2019], dtype=int64)"
      ]
     },
     "execution_count": 29,
     "metadata": {},
     "output_type": "execute_result"
    }
   ],
   "source": [
    "night[\"year\"].unique()"
   ]
  },
  {
   "cell_type": "code",
   "execution_count": 30,
   "id": "f56ca719",
   "metadata": {},
   "outputs": [
    {
     "data": {
      "text/plain": [
       "city\n",
       "Austin            822\n",
       "Portland         1157\n",
       "Atlanta          1347\n",
       "Seattle          1349\n",
       "Dallas           1384\n",
       "Boston           1888\n",
       "New York City    2262\n",
       "Los Angeles      2743\n",
       "San Francisco    4142\n",
       "Name: quantity, dtype: int64"
      ]
     },
     "execution_count": 30,
     "metadata": {},
     "output_type": "execute_result"
    }
   ],
   "source": [
    "night.groupby(\"city\")[\"quantity\"].sum().sort_values()"
   ]
  },
  {
   "cell_type": "markdown",
   "id": "ea0d23c6",
   "metadata": {},
   "source": [
    "## Inference:\n",
    "- ### Austin has seen `822` order, whicgh is the least order of all"
   ]
  },
  {
   "cell_type": "raw",
   "id": "2f382fbd",
   "metadata": {},
   "source": [
    "Is “Google Phone” better performing in respect to overall number of orders placed as well as \n",
    "revenue generated than “iphone” in “New York City” ?"
   ]
  },
  {
   "cell_type": "code",
   "execution_count": 31,
   "id": "c3133a3a",
   "metadata": {},
   "outputs": [
    {
     "data": {
      "text/plain": [
       "array(['Seattle', 'Dallas', 'Portland', 'Los Angeles', 'New York City',\n",
       "       'San Francisco', 'Boston', 'Atlanta', 'Austin'], dtype=object)"
      ]
     },
     "execution_count": 31,
     "metadata": {},
     "output_type": "execute_result"
    }
   ],
   "source": [
    "data[\"city\"].unique()"
   ]
  },
  {
   "cell_type": "code",
   "execution_count": 32,
   "id": "a6ce5060",
   "metadata": {},
   "outputs": [
    {
     "data": {
      "text/plain": [
       "array(['Wired Headphones', 'Bose SoundSport Headphones', 'iPhone',\n",
       "       'AA Batteries (4-pack)', '34in Ultrawide Monitor', '20in Monitor',\n",
       "       'Macbook Pro Laptop', 'LG Washing Machine', '27in FHD Monitor',\n",
       "       'Lightning Charging Cable', 'Apple Airpods Headphones',\n",
       "       'AAA Batteries (4-pack)', 'USB-C Charging Cable',\n",
       "       '27in 4K Gaming Monitor', 'ThinkPad Laptop', 'Flatscreen TV',\n",
       "       'Google Phone', 'Vareebadd Phone', 'LG Dryer'], dtype=object)"
      ]
     },
     "execution_count": 32,
     "metadata": {},
     "output_type": "execute_result"
    }
   ],
   "source": [
    "data[\"product\"].unique()"
   ]
  },
  {
   "cell_type": "code",
   "execution_count": 33,
   "id": "5101bb10",
   "metadata": {},
   "outputs": [
    {
     "data": {
      "text/html": [
       "<div>\n",
       "<style scoped>\n",
       "    .dataframe tbody tr th:only-of-type {\n",
       "        vertical-align: middle;\n",
       "    }\n",
       "\n",
       "    .dataframe tbody tr th {\n",
       "        vertical-align: top;\n",
       "    }\n",
       "\n",
       "    .dataframe thead th {\n",
       "        text-align: right;\n",
       "    }\n",
       "</style>\n",
       "<table border=\"1\" class=\"dataframe\">\n",
       "  <thead>\n",
       "    <tr style=\"text-align: right;\">\n",
       "      <th></th>\n",
       "      <th>order_id</th>\n",
       "      <th>product</th>\n",
       "      <th>quantity</th>\n",
       "      <th>price</th>\n",
       "      <th>total</th>\n",
       "      <th>full_date</th>\n",
       "      <th>hour</th>\n",
       "      <th>date</th>\n",
       "      <th>month</th>\n",
       "      <th>year</th>\n",
       "      <th>day</th>\n",
       "      <th>address</th>\n",
       "      <th>city</th>\n",
       "      <th>state</th>\n",
       "      <th>pincode</th>\n",
       "      <th>timezone</th>\n",
       "    </tr>\n",
       "  </thead>\n",
       "  <tbody>\n",
       "    <tr>\n",
       "      <th>62</th>\n",
       "      <td>236730</td>\n",
       "      <td>Google Phone</td>\n",
       "      <td>1</td>\n",
       "      <td>600.0</td>\n",
       "      <td>600.0</td>\n",
       "      <td>08/02/19</td>\n",
       "      <td>10</td>\n",
       "      <td>2</td>\n",
       "      <td>8</td>\n",
       "      <td>2019</td>\n",
       "      <td>Fri</td>\n",
       "      <td>445 Lincoln St</td>\n",
       "      <td>New York City</td>\n",
       "      <td>NY</td>\n",
       "      <td>10001</td>\n",
       "      <td>AM</td>\n",
       "    </tr>\n",
       "  </tbody>\n",
       "</table>\n",
       "</div>"
      ],
      "text/plain": [
       "    order_id       product  quantity  price  total full_date  hour  date  \\\n",
       "62    236730  Google Phone         1  600.0  600.0  08/02/19    10     2   \n",
       "\n",
       "    month  year  day         address           city state  pincode timezone  \n",
       "62      8  2019  Fri  445 Lincoln St  New York City    NY    10001       AM  "
      ]
     },
     "execution_count": 33,
     "metadata": {},
     "output_type": "execute_result"
    }
   ],
   "source": [
    "Gphone = data[(data[\"city\"]==\"New York City\") & (data[\"product\"]==\"Google Phone\")]\n",
    "Gphone.head(1)"
   ]
  },
  {
   "cell_type": "code",
   "execution_count": 34,
   "id": "03cca223",
   "metadata": {},
   "outputs": [
    {
     "data": {
      "text/plain": [
       "array(['Google Phone'], dtype=object)"
      ]
     },
     "execution_count": 34,
     "metadata": {},
     "output_type": "execute_result"
    }
   ],
   "source": [
    "Gphone[\"product\"].unique()"
   ]
  },
  {
   "cell_type": "code",
   "execution_count": 35,
   "id": "63102597",
   "metadata": {},
   "outputs": [
    {
     "data": {
      "text/plain": [
       "758"
      ]
     },
     "execution_count": 35,
     "metadata": {},
     "output_type": "execute_result"
    }
   ],
   "source": [
    "Gphone[\"quantity\"].sum()"
   ]
  },
  {
   "cell_type": "code",
   "execution_count": 36,
   "id": "56e5ec11",
   "metadata": {},
   "outputs": [
    {
     "data": {
      "text/plain": [
       "454800.0"
      ]
     },
     "execution_count": 36,
     "metadata": {},
     "output_type": "execute_result"
    }
   ],
   "source": [
    "Gphone[\"total\"].sum()"
   ]
  },
  {
   "cell_type": "code",
   "execution_count": 37,
   "id": "ccec1c08",
   "metadata": {
    "scrolled": true
   },
   "outputs": [],
   "source": [
    "# data.groupby(\"product\")[\"total\"].sum().sort_values().apply(lambda x: data[\"city\"]==\"New York City\")  ## needed correction"
   ]
  },
  {
   "cell_type": "code",
   "execution_count": 38,
   "id": "da321f02",
   "metadata": {},
   "outputs": [
    {
     "data": {
      "text/html": [
       "<div>\n",
       "<style scoped>\n",
       "    .dataframe tbody tr th:only-of-type {\n",
       "        vertical-align: middle;\n",
       "    }\n",
       "\n",
       "    .dataframe tbody tr th {\n",
       "        vertical-align: top;\n",
       "    }\n",
       "\n",
       "    .dataframe thead th {\n",
       "        text-align: right;\n",
       "    }\n",
       "</style>\n",
       "<table border=\"1\" class=\"dataframe\">\n",
       "  <thead>\n",
       "    <tr style=\"text-align: right;\">\n",
       "      <th></th>\n",
       "      <th>order_id</th>\n",
       "      <th>product</th>\n",
       "      <th>quantity</th>\n",
       "      <th>price</th>\n",
       "      <th>total</th>\n",
       "      <th>full_date</th>\n",
       "      <th>hour</th>\n",
       "      <th>date</th>\n",
       "      <th>month</th>\n",
       "      <th>year</th>\n",
       "      <th>day</th>\n",
       "      <th>address</th>\n",
       "      <th>city</th>\n",
       "      <th>state</th>\n",
       "      <th>pincode</th>\n",
       "      <th>timezone</th>\n",
       "    </tr>\n",
       "  </thead>\n",
       "  <tbody>\n",
       "    <tr>\n",
       "      <th>317</th>\n",
       "      <td>236981</td>\n",
       "      <td>iPhone</td>\n",
       "      <td>1</td>\n",
       "      <td>700.0</td>\n",
       "      <td>700.0</td>\n",
       "      <td>08/05/19</td>\n",
       "      <td>11</td>\n",
       "      <td>5</td>\n",
       "      <td>8</td>\n",
       "      <td>2019</td>\n",
       "      <td>Mon</td>\n",
       "      <td>499 River St</td>\n",
       "      <td>New York City</td>\n",
       "      <td>NY</td>\n",
       "      <td>10001</td>\n",
       "      <td>AM</td>\n",
       "    </tr>\n",
       "  </tbody>\n",
       "</table>\n",
       "</div>"
      ],
      "text/plain": [
       "     order_id product  quantity  price  total full_date  hour  date  month  \\\n",
       "317    236981  iPhone         1  700.0  700.0  08/05/19    11     5      8   \n",
       "\n",
       "     year  day       address           city state  pincode timezone  \n",
       "317  2019  Mon  499 River St  New York City    NY    10001       AM  "
      ]
     },
     "execution_count": 38,
     "metadata": {},
     "output_type": "execute_result"
    }
   ],
   "source": [
    "iphone=data[(data[\"product\"]==\"iPhone\") & (data[\"city\"] ==\"New York City\")]\n",
    "iphone.head(1)"
   ]
  },
  {
   "cell_type": "code",
   "execution_count": 39,
   "id": "c600e91e",
   "metadata": {},
   "outputs": [
    {
     "data": {
      "text/plain": [
       "881"
      ]
     },
     "execution_count": 39,
     "metadata": {},
     "output_type": "execute_result"
    }
   ],
   "source": [
    "iphone[\"quantity\"].sum()"
   ]
  },
  {
   "cell_type": "code",
   "execution_count": 40,
   "id": "3fae1baf",
   "metadata": {},
   "outputs": [
    {
     "data": {
      "text/plain": [
       "616700.0"
      ]
     },
     "execution_count": 40,
     "metadata": {},
     "output_type": "execute_result"
    }
   ],
   "source": [
    "iphone[\"total\"].sum()"
   ]
  },
  {
   "cell_type": "markdown",
   "id": "b0bc149c",
   "metadata": {},
   "source": [
    "## inference\n",
    "- ### The total number of Google phone sold is `758`, and generated a total revenue of `454800.0$`\n",
    "- ### The total number of iphone sold is `881`, and enerated the total revenue of `616700.0$`"
   ]
  },
  {
   "cell_type": "raw",
   "id": "87884fba",
   "metadata": {},
   "source": [
    " What is the absolute difference in total number of unique orders being created in the cities of \n",
    "“Boston” and “Portland” for the month of Jan in both years 2019 & 2020 ?"
   ]
  },
  {
   "cell_type": "code",
   "execution_count": 41,
   "id": "50d4fef9",
   "metadata": {},
   "outputs": [
    {
     "data": {
      "text/html": [
       "<div>\n",
       "<style scoped>\n",
       "    .dataframe tbody tr th:only-of-type {\n",
       "        vertical-align: middle;\n",
       "    }\n",
       "\n",
       "    .dataframe tbody tr th {\n",
       "        vertical-align: top;\n",
       "    }\n",
       "\n",
       "    .dataframe thead th {\n",
       "        text-align: right;\n",
       "    }\n",
       "</style>\n",
       "<table border=\"1\" class=\"dataframe\">\n",
       "  <thead>\n",
       "    <tr style=\"text-align: right;\">\n",
       "      <th></th>\n",
       "      <th>order_id</th>\n",
       "      <th>product</th>\n",
       "      <th>quantity</th>\n",
       "      <th>price</th>\n",
       "      <th>total</th>\n",
       "      <th>full_date</th>\n",
       "      <th>hour</th>\n",
       "      <th>date</th>\n",
       "      <th>month</th>\n",
       "      <th>year</th>\n",
       "      <th>day</th>\n",
       "      <th>address</th>\n",
       "      <th>city</th>\n",
       "      <th>state</th>\n",
       "      <th>pincode</th>\n",
       "      <th>timezone</th>\n",
       "    </tr>\n",
       "  </thead>\n",
       "  <tbody>\n",
       "    <tr>\n",
       "      <th>0</th>\n",
       "      <td>236670</td>\n",
       "      <td>Wired Headphones</td>\n",
       "      <td>2</td>\n",
       "      <td>11.99</td>\n",
       "      <td>23.98</td>\n",
       "      <td>08/31/19</td>\n",
       "      <td>22</td>\n",
       "      <td>31</td>\n",
       "      <td>8</td>\n",
       "      <td>2019</td>\n",
       "      <td>Sat</td>\n",
       "      <td>359 Spruce St</td>\n",
       "      <td>Seattle</td>\n",
       "      <td>WA</td>\n",
       "      <td>98101</td>\n",
       "      <td>PM</td>\n",
       "    </tr>\n",
       "  </tbody>\n",
       "</table>\n",
       "</div>"
      ],
      "text/plain": [
       "   order_id           product  quantity  price  total full_date  hour  date  \\\n",
       "0    236670  Wired Headphones         2  11.99  23.98  08/31/19    22    31   \n",
       "\n",
       "   month  year  day        address     city state  pincode timezone  \n",
       "0      8  2019  Sat  359 Spruce St  Seattle    WA    98101       PM  "
      ]
     },
     "execution_count": 41,
     "metadata": {},
     "output_type": "execute_result"
    }
   ],
   "source": [
    "data.head(1)"
   ]
  },
  {
   "cell_type": "code",
   "execution_count": 42,
   "id": "4b5bcfa4",
   "metadata": {},
   "outputs": [
    {
     "data": {
      "text/plain": [
       "array(['Seattle', 'Dallas', 'Portland', 'Los Angeles', 'New York City',\n",
       "       'San Francisco', 'Boston', 'Atlanta', 'Austin'], dtype=object)"
      ]
     },
     "execution_count": 42,
     "metadata": {},
     "output_type": "execute_result"
    }
   ],
   "source": [
    "data[\"city\"].unique()"
   ]
  },
  {
   "cell_type": "code",
   "execution_count": 43,
   "id": "79e6e313",
   "metadata": {},
   "outputs": [
    {
     "data": {
      "text/plain": [
       "array([ 8,  9,  3,  4,  7,  6, 10, 11,  5, 12,  1,  2], dtype=int64)"
      ]
     },
     "execution_count": 43,
     "metadata": {},
     "output_type": "execute_result"
    }
   ],
   "source": [
    "data[\"month\"].unique()"
   ]
  },
  {
   "cell_type": "code",
   "execution_count": 44,
   "id": "5afabef9",
   "metadata": {},
   "outputs": [
    {
     "data": {
      "text/html": [
       "<div>\n",
       "<style scoped>\n",
       "    .dataframe tbody tr th:only-of-type {\n",
       "        vertical-align: middle;\n",
       "    }\n",
       "\n",
       "    .dataframe tbody tr th {\n",
       "        vertical-align: top;\n",
       "    }\n",
       "\n",
       "    .dataframe thead th {\n",
       "        text-align: right;\n",
       "    }\n",
       "</style>\n",
       "<table border=\"1\" class=\"dataframe\">\n",
       "  <thead>\n",
       "    <tr style=\"text-align: right;\">\n",
       "      <th></th>\n",
       "      <th>order_id</th>\n",
       "      <th>product</th>\n",
       "      <th>quantity</th>\n",
       "      <th>price</th>\n",
       "      <th>total</th>\n",
       "      <th>full_date</th>\n",
       "      <th>hour</th>\n",
       "      <th>date</th>\n",
       "      <th>month</th>\n",
       "      <th>year</th>\n",
       "      <th>day</th>\n",
       "      <th>address</th>\n",
       "      <th>city</th>\n",
       "      <th>state</th>\n",
       "      <th>pincode</th>\n",
       "      <th>timezone</th>\n",
       "    </tr>\n",
       "  </thead>\n",
       "  <tbody>\n",
       "    <tr>\n",
       "      <th>100543</th>\n",
       "      <td>302393</td>\n",
       "      <td>Lightning Charging Cable</td>\n",
       "      <td>1</td>\n",
       "      <td>14.95</td>\n",
       "      <td>14.95</td>\n",
       "      <td>01/01/20</td>\n",
       "      <td>0</td>\n",
       "      <td>1</td>\n",
       "      <td>1</td>\n",
       "      <td>2020</td>\n",
       "      <td>Wed</td>\n",
       "      <td>108 Jefferson St</td>\n",
       "      <td>Boston</td>\n",
       "      <td>MA</td>\n",
       "      <td>2215</td>\n",
       "      <td>AM</td>\n",
       "    </tr>\n",
       "  </tbody>\n",
       "</table>\n",
       "</div>"
      ],
      "text/plain": [
       "        order_id                   product  quantity  price  total full_date  \\\n",
       "100543    302393  Lightning Charging Cable         1  14.95  14.95  01/01/20   \n",
       "\n",
       "        hour  date  month  year  day           address    city state  pincode  \\\n",
       "100543     0     1      1  2020  Wed  108 Jefferson St  Boston    MA     2215   \n",
       "\n",
       "       timezone  \n",
       "100543       AM  "
      ]
     },
     "execution_count": 44,
     "metadata": {},
     "output_type": "execute_result"
    }
   ],
   "source": [
    "boston=data[(data[\"city\"]==\"Boston\")  & (data[\"month\"]==1) & ((data[\"year\"]==2019) | (data[\"year\"]==2020))]\n",
    "boston.head(1)"
   ]
  },
  {
   "cell_type": "code",
   "execution_count": 45,
   "id": "56bf5da1",
   "metadata": {},
   "outputs": [
    {
     "data": {
      "text/plain": [
       "array(['Boston'], dtype=object)"
      ]
     },
     "execution_count": 45,
     "metadata": {},
     "output_type": "execute_result"
    }
   ],
   "source": [
    "boston[\"city\"].unique()"
   ]
  },
  {
   "cell_type": "code",
   "execution_count": 46,
   "id": "309a3b1f",
   "metadata": {},
   "outputs": [
    {
     "data": {
      "text/html": [
       "<div>\n",
       "<style scoped>\n",
       "    .dataframe tbody tr th:only-of-type {\n",
       "        vertical-align: middle;\n",
       "    }\n",
       "\n",
       "    .dataframe tbody tr th {\n",
       "        vertical-align: top;\n",
       "    }\n",
       "\n",
       "    .dataframe thead th {\n",
       "        text-align: right;\n",
       "    }\n",
       "</style>\n",
       "<table border=\"1\" class=\"dataframe\">\n",
       "  <thead>\n",
       "    <tr style=\"text-align: right;\">\n",
       "      <th></th>\n",
       "      <th>order_id</th>\n",
       "      <th>product</th>\n",
       "      <th>quantity</th>\n",
       "      <th>price</th>\n",
       "      <th>total</th>\n",
       "      <th>full_date</th>\n",
       "      <th>hour</th>\n",
       "      <th>date</th>\n",
       "      <th>month</th>\n",
       "      <th>year</th>\n",
       "      <th>day</th>\n",
       "      <th>address</th>\n",
       "      <th>city</th>\n",
       "      <th>state</th>\n",
       "      <th>pincode</th>\n",
       "      <th>timezone</th>\n",
       "    </tr>\n",
       "  </thead>\n",
       "  <tbody>\n",
       "    <tr>\n",
       "      <th>102398</th>\n",
       "      <td>304165</td>\n",
       "      <td>AAA Batteries (4-pack)</td>\n",
       "      <td>1</td>\n",
       "      <td>2.99</td>\n",
       "      <td>2.99</td>\n",
       "      <td>01/01/20</td>\n",
       "      <td>4</td>\n",
       "      <td>1</td>\n",
       "      <td>1</td>\n",
       "      <td>2020</td>\n",
       "      <td>Wed</td>\n",
       "      <td>825 Adams St</td>\n",
       "      <td>Portland</td>\n",
       "      <td>OR</td>\n",
       "      <td>97035</td>\n",
       "      <td>AM</td>\n",
       "    </tr>\n",
       "  </tbody>\n",
       "</table>\n",
       "</div>"
      ],
      "text/plain": [
       "        order_id                 product  quantity  price  total full_date  \\\n",
       "102398    304165  AAA Batteries (4-pack)         1   2.99   2.99  01/01/20   \n",
       "\n",
       "        hour  date  month  year  day       address      city state  pincode  \\\n",
       "102398     4     1      1  2020  Wed  825 Adams St  Portland    OR    97035   \n",
       "\n",
       "       timezone  \n",
       "102398       AM  "
      ]
     },
     "execution_count": 46,
     "metadata": {},
     "output_type": "execute_result"
    }
   ],
   "source": [
    "portland=data[(data[\"city\"]==\"Portland\") & (data[\"month\"]==1) & ((data[\"year\"]==2019) | (data[\"year\"]==2020))]\n",
    "portland.head(1)"
   ]
  },
  {
   "cell_type": "code",
   "execution_count": null,
   "id": "0204e987",
   "metadata": {},
   "outputs": [],
   "source": []
  },
  {
   "cell_type": "code",
   "execution_count": null,
   "id": "159b8523",
   "metadata": {},
   "outputs": [],
   "source": []
  },
  {
   "cell_type": "code",
   "execution_count": null,
   "id": "805bf23a",
   "metadata": {},
   "outputs": [],
   "source": []
  },
  {
   "cell_type": "code",
   "execution_count": 47,
   "id": "2dfa1fa7",
   "metadata": {},
   "outputs": [
    {
     "data": {
      "text/plain": [
       "array(['Portland'], dtype=object)"
      ]
     },
     "execution_count": 47,
     "metadata": {},
     "output_type": "execute_result"
    }
   ],
   "source": [
    "portland[\"city\"].unique()"
   ]
  },
  {
   "cell_type": "code",
   "execution_count": 48,
   "id": "521dea91",
   "metadata": {},
   "outputs": [
    {
     "data": {
      "text/plain": [
       "1174"
      ]
     },
     "execution_count": 48,
     "metadata": {},
     "output_type": "execute_result"
    }
   ],
   "source": [
    "btotal=boston[\"quantity\"].sum()\n",
    "btotal"
   ]
  },
  {
   "cell_type": "code",
   "execution_count": null,
   "id": "8f99a0d6",
   "metadata": {},
   "outputs": [],
   "source": []
  },
  {
   "cell_type": "code",
   "execution_count": 49,
   "id": "f64fff28",
   "metadata": {},
   "outputs": [
    {
     "data": {
      "text/plain": [
       "693"
      ]
     },
     "execution_count": 49,
     "metadata": {},
     "output_type": "execute_result"
    }
   ],
   "source": [
    "ptotal=portland[\"quantity\"].sum()\n",
    "ptotal"
   ]
  },
  {
   "cell_type": "code",
   "execution_count": 50,
   "id": "75ef2028",
   "metadata": {},
   "outputs": [
    {
     "data": {
      "text/plain": [
       "481"
      ]
     },
     "execution_count": 50,
     "metadata": {},
     "output_type": "execute_result"
    }
   ],
   "source": [
    "btotal - ptotal"
   ]
  },
  {
   "cell_type": "markdown",
   "id": "a7b5f135",
   "metadata": {},
   "source": [
    "## Inference\n",
    "- ### The absolute difference in the order between Boston & Portland is 481"
   ]
  },
  {
   "cell_type": "raw",
   "id": "e9117706",
   "metadata": {},
   "source": [
    "Plot pie chart for 4 categories based on their total revenue generated. \n",
    "Weekend-Day, Weekend-Night, Weekday-Day, Weekday-Night. \n",
    "Hint {Weekend/Weekday , Day/Night logic remains as earlier discussed}"
   ]
  },
  {
   "cell_type": "code",
   "execution_count": 51,
   "id": "eff65669",
   "metadata": {},
   "outputs": [
    {
     "data": {
      "text/html": [
       "<div>\n",
       "<style scoped>\n",
       "    .dataframe tbody tr th:only-of-type {\n",
       "        vertical-align: middle;\n",
       "    }\n",
       "\n",
       "    .dataframe tbody tr th {\n",
       "        vertical-align: top;\n",
       "    }\n",
       "\n",
       "    .dataframe thead th {\n",
       "        text-align: right;\n",
       "    }\n",
       "</style>\n",
       "<table border=\"1\" class=\"dataframe\">\n",
       "  <thead>\n",
       "    <tr style=\"text-align: right;\">\n",
       "      <th></th>\n",
       "      <th>order_id</th>\n",
       "      <th>product</th>\n",
       "      <th>quantity</th>\n",
       "      <th>price</th>\n",
       "      <th>total</th>\n",
       "      <th>full_date</th>\n",
       "      <th>hour</th>\n",
       "      <th>date</th>\n",
       "      <th>month</th>\n",
       "      <th>year</th>\n",
       "      <th>day</th>\n",
       "      <th>address</th>\n",
       "      <th>city</th>\n",
       "      <th>state</th>\n",
       "      <th>pincode</th>\n",
       "      <th>timezone</th>\n",
       "    </tr>\n",
       "  </thead>\n",
       "  <tbody>\n",
       "    <tr>\n",
       "      <th>0</th>\n",
       "      <td>236670</td>\n",
       "      <td>Wired Headphones</td>\n",
       "      <td>2</td>\n",
       "      <td>11.99</td>\n",
       "      <td>23.98</td>\n",
       "      <td>08/31/19</td>\n",
       "      <td>22</td>\n",
       "      <td>31</td>\n",
       "      <td>8</td>\n",
       "      <td>2019</td>\n",
       "      <td>Sat</td>\n",
       "      <td>359 Spruce St</td>\n",
       "      <td>Seattle</td>\n",
       "      <td>WA</td>\n",
       "      <td>98101</td>\n",
       "      <td>PM</td>\n",
       "    </tr>\n",
       "  </tbody>\n",
       "</table>\n",
       "</div>"
      ],
      "text/plain": [
       "   order_id           product  quantity  price  total full_date  hour  date  \\\n",
       "0    236670  Wired Headphones         2  11.99  23.98  08/31/19    22    31   \n",
       "\n",
       "   month  year  day        address     city state  pincode timezone  \n",
       "0      8  2019  Sat  359 Spruce St  Seattle    WA    98101       PM  "
      ]
     },
     "execution_count": 51,
     "metadata": {},
     "output_type": "execute_result"
    }
   ],
   "source": [
    "data.head(1)"
   ]
  },
  {
   "cell_type": "code",
   "execution_count": 52,
   "id": "5427ebf8",
   "metadata": {},
   "outputs": [
    {
     "data": {
      "text/html": [
       "<div>\n",
       "<style scoped>\n",
       "    .dataframe tbody tr th:only-of-type {\n",
       "        vertical-align: middle;\n",
       "    }\n",
       "\n",
       "    .dataframe tbody tr th {\n",
       "        vertical-align: top;\n",
       "    }\n",
       "\n",
       "    .dataframe thead th {\n",
       "        text-align: right;\n",
       "    }\n",
       "</style>\n",
       "<table border=\"1\" class=\"dataframe\">\n",
       "  <thead>\n",
       "    <tr style=\"text-align: right;\">\n",
       "      <th></th>\n",
       "      <th>order_id</th>\n",
       "      <th>product</th>\n",
       "      <th>quantity</th>\n",
       "      <th>price</th>\n",
       "      <th>total</th>\n",
       "      <th>full_date</th>\n",
       "      <th>hour</th>\n",
       "      <th>date</th>\n",
       "      <th>month</th>\n",
       "      <th>year</th>\n",
       "      <th>day</th>\n",
       "      <th>address</th>\n",
       "      <th>city</th>\n",
       "      <th>state</th>\n",
       "      <th>pincode</th>\n",
       "      <th>timezone</th>\n",
       "    </tr>\n",
       "  </thead>\n",
       "  <tbody>\n",
       "    <tr>\n",
       "      <th>3</th>\n",
       "      <td>236673</td>\n",
       "      <td>AA Batteries (4-pack)</td>\n",
       "      <td>2</td>\n",
       "      <td>3.84</td>\n",
       "      <td>7.68</td>\n",
       "      <td>08/29/19</td>\n",
       "      <td>20</td>\n",
       "      <td>29</td>\n",
       "      <td>8</td>\n",
       "      <td>2019</td>\n",
       "      <td>Thu</td>\n",
       "      <td>631 2nd St</td>\n",
       "      <td>Los Angeles</td>\n",
       "      <td>CA</td>\n",
       "      <td>90001</td>\n",
       "      <td>PM</td>\n",
       "    </tr>\n",
       "  </tbody>\n",
       "</table>\n",
       "</div>"
      ],
      "text/plain": [
       "   order_id                product  quantity  price  total full_date  hour  \\\n",
       "3    236673  AA Batteries (4-pack)         2   3.84   7.68  08/29/19    20   \n",
       "\n",
       "   date  month  year  day     address         city state  pincode timezone  \n",
       "3    29      8  2019  Thu  631 2nd St  Los Angeles    CA    90001       PM  "
      ]
     },
     "execution_count": 52,
     "metadata": {},
     "output_type": "execute_result"
    }
   ],
   "source": [
    "weekday1=data[((data[\"day\"]==\"Mon\") | (data[\"day\"]==\"Tue\") | (data[\"day\"]==\"Wed\") | (data[\"day\"]==\"Thu\")) & \n",
    "              (data[\"hour\"] >17)]\n",
    "weekday1.head(1)"
   ]
  },
  {
   "cell_type": "code",
   "execution_count": null,
   "id": "d4ff8f10",
   "metadata": {},
   "outputs": [],
   "source": []
  },
  {
   "cell_type": "code",
   "execution_count": 53,
   "id": "7a9ca739",
   "metadata": {},
   "outputs": [
    {
     "data": {
      "text/plain": [
       "(array([20, 19, 21, 23, 18, 22], dtype=int64),\n",
       " array(['Thu', 'Mon', 'Wed', 'Tue'], dtype=object))"
      ]
     },
     "execution_count": 53,
     "metadata": {},
     "output_type": "execute_result"
    }
   ],
   "source": [
    "weekday1[\"hour\"].unique() , weekday1[\"day\"].unique()"
   ]
  },
  {
   "cell_type": "code",
   "execution_count": 54,
   "id": "e16c9000",
   "metadata": {},
   "outputs": [
    {
     "data": {
      "text/plain": [
       "6728794.14"
      ]
     },
     "execution_count": 54,
     "metadata": {},
     "output_type": "execute_result"
    }
   ],
   "source": [
    "d1=weekday1[\"total\"].sum()\n",
    "d1"
   ]
  },
  {
   "cell_type": "code",
   "execution_count": 55,
   "id": "ae4c873a",
   "metadata": {},
   "outputs": [
    {
     "data": {
      "text/html": [
       "<div>\n",
       "<style scoped>\n",
       "    .dataframe tbody tr th:only-of-type {\n",
       "        vertical-align: middle;\n",
       "    }\n",
       "\n",
       "    .dataframe tbody tr th {\n",
       "        vertical-align: top;\n",
       "    }\n",
       "\n",
       "    .dataframe thead th {\n",
       "        text-align: right;\n",
       "    }\n",
       "</style>\n",
       "<table border=\"1\" class=\"dataframe\">\n",
       "  <thead>\n",
       "    <tr style=\"text-align: right;\">\n",
       "      <th></th>\n",
       "      <th>order_id</th>\n",
       "      <th>product</th>\n",
       "      <th>quantity</th>\n",
       "      <th>price</th>\n",
       "      <th>total</th>\n",
       "      <th>full_date</th>\n",
       "      <th>hour</th>\n",
       "      <th>date</th>\n",
       "      <th>month</th>\n",
       "      <th>year</th>\n",
       "      <th>day</th>\n",
       "      <th>address</th>\n",
       "      <th>city</th>\n",
       "      <th>state</th>\n",
       "      <th>pincode</th>\n",
       "      <th>timezone</th>\n",
       "    </tr>\n",
       "  </thead>\n",
       "  <tbody>\n",
       "    <tr>\n",
       "      <th>1</th>\n",
       "      <td>236671</td>\n",
       "      <td>Bose SoundSport Headphones</td>\n",
       "      <td>1</td>\n",
       "      <td>99.99</td>\n",
       "      <td>99.99</td>\n",
       "      <td>08/15/19</td>\n",
       "      <td>15</td>\n",
       "      <td>15</td>\n",
       "      <td>8</td>\n",
       "      <td>2019</td>\n",
       "      <td>Thu</td>\n",
       "      <td>492 Ridge St</td>\n",
       "      <td>Dallas</td>\n",
       "      <td>TX</td>\n",
       "      <td>75001</td>\n",
       "      <td>PM</td>\n",
       "    </tr>\n",
       "  </tbody>\n",
       "</table>\n",
       "</div>"
      ],
      "text/plain": [
       "   order_id                     product  quantity  price  total full_date  \\\n",
       "1    236671  Bose SoundSport Headphones         1  99.99  99.99  08/15/19   \n",
       "\n",
       "   hour  date  month  year  day       address    city state  pincode timezone  \n",
       "1    15    15      8  2019  Thu  492 Ridge St  Dallas    TX    75001       PM  "
      ]
     },
     "execution_count": 55,
     "metadata": {},
     "output_type": "execute_result"
    }
   ],
   "source": [
    "weekday2=data[((data[\"day\"]==\"Mon\") | (data[\"day\"]==\"Tue\") | (data[\"day\"]==\"Wed\") | (data[\"day\"]==\"Thu\")) & (data[\"hour\"] <18)]\n",
    "weekday2.head(1)"
   ]
  },
  {
   "cell_type": "code",
   "execution_count": 56,
   "id": "da5028a0",
   "metadata": {},
   "outputs": [
    {
     "data": {
      "text/plain": [
       "(array([15, 14,  7, 12, 16, 10, 13,  0,  6, 17,  1,  9,  8,  2, 11,  5,  3,\n",
       "         4], dtype=int64),\n",
       " array(['Thu', 'Tue', 'Wed', 'Mon'], dtype=object))"
      ]
     },
     "execution_count": 56,
     "metadata": {},
     "output_type": "execute_result"
    }
   ],
   "source": [
    "weekday2[\"hour\"].unique(), weekday2[\"day\"].unique()"
   ]
  },
  {
   "cell_type": "code",
   "execution_count": 57,
   "id": "c7a81037",
   "metadata": {},
   "outputs": [
    {
     "data": {
      "text/plain": [
       "13070776.779999997"
      ]
     },
     "execution_count": 57,
     "metadata": {},
     "output_type": "execute_result"
    }
   ],
   "source": [
    "d2=weekday2[\"total\"].sum()\n",
    "d2"
   ]
  },
  {
   "cell_type": "code",
   "execution_count": 58,
   "id": "fedbcfac",
   "metadata": {},
   "outputs": [
    {
     "data": {
      "text/html": [
       "<div>\n",
       "<style scoped>\n",
       "    .dataframe tbody tr th:only-of-type {\n",
       "        vertical-align: middle;\n",
       "    }\n",
       "\n",
       "    .dataframe tbody tr th {\n",
       "        vertical-align: top;\n",
       "    }\n",
       "\n",
       "    .dataframe thead th {\n",
       "        text-align: right;\n",
       "    }\n",
       "</style>\n",
       "<table border=\"1\" class=\"dataframe\">\n",
       "  <thead>\n",
       "    <tr style=\"text-align: right;\">\n",
       "      <th></th>\n",
       "      <th>order_id</th>\n",
       "      <th>product</th>\n",
       "      <th>quantity</th>\n",
       "      <th>price</th>\n",
       "      <th>total</th>\n",
       "      <th>full_date</th>\n",
       "      <th>hour</th>\n",
       "      <th>date</th>\n",
       "      <th>month</th>\n",
       "      <th>year</th>\n",
       "      <th>day</th>\n",
       "      <th>address</th>\n",
       "      <th>city</th>\n",
       "      <th>state</th>\n",
       "      <th>pincode</th>\n",
       "      <th>timezone</th>\n",
       "    </tr>\n",
       "  </thead>\n",
       "  <tbody>\n",
       "    <tr>\n",
       "      <th>0</th>\n",
       "      <td>236670</td>\n",
       "      <td>Wired Headphones</td>\n",
       "      <td>2</td>\n",
       "      <td>11.99</td>\n",
       "      <td>23.98</td>\n",
       "      <td>08/31/19</td>\n",
       "      <td>22</td>\n",
       "      <td>31</td>\n",
       "      <td>8</td>\n",
       "      <td>2019</td>\n",
       "      <td>Sat</td>\n",
       "      <td>359 Spruce St</td>\n",
       "      <td>Seattle</td>\n",
       "      <td>WA</td>\n",
       "      <td>98101</td>\n",
       "      <td>PM</td>\n",
       "    </tr>\n",
       "  </tbody>\n",
       "</table>\n",
       "</div>"
      ],
      "text/plain": [
       "   order_id           product  quantity  price  total full_date  hour  date  \\\n",
       "0    236670  Wired Headphones         2  11.99  23.98  08/31/19    22    31   \n",
       "\n",
       "   month  year  day        address     city state  pincode timezone  \n",
       "0      8  2019  Sat  359 Spruce St  Seattle    WA    98101       PM  "
      ]
     },
     "execution_count": 58,
     "metadata": {},
     "output_type": "execute_result"
    }
   ],
   "source": [
    "weekend1=data[((data[\"day\"]==\"Fri\") | (data[\"day\"]==\"Sat\") | (data[\"day\"]==\"Sun\")) & (data[\"hour\"]>17)]\n",
    "weekend1.head(1)"
   ]
  },
  {
   "cell_type": "code",
   "execution_count": 59,
   "id": "3db0136c",
   "metadata": {},
   "outputs": [
    {
     "data": {
      "text/plain": [
       "(array([22, 23, 19, 20, 21, 18], dtype=int64),\n",
       " array(['Sat', 'Fri', 'Sun'], dtype=object))"
      ]
     },
     "execution_count": 59,
     "metadata": {},
     "output_type": "execute_result"
    }
   ],
   "source": [
    "weekend1[\"hour\"].unique() , weekend1[\"day\"].unique()"
   ]
  },
  {
   "cell_type": "code",
   "execution_count": 60,
   "id": "53d2bea9",
   "metadata": {},
   "outputs": [
    {
     "data": {
      "text/plain": [
       "5014063.449999999"
      ]
     },
     "execution_count": 60,
     "metadata": {},
     "output_type": "execute_result"
    }
   ],
   "source": [
    "d3=weekend1[\"total\"].sum()\n",
    "d3"
   ]
  },
  {
   "cell_type": "code",
   "execution_count": 61,
   "id": "b2a2f34a",
   "metadata": {},
   "outputs": [
    {
     "data": {
      "text/html": [
       "<div>\n",
       "<style scoped>\n",
       "    .dataframe tbody tr th:only-of-type {\n",
       "        vertical-align: middle;\n",
       "    }\n",
       "\n",
       "    .dataframe tbody tr th {\n",
       "        vertical-align: top;\n",
       "    }\n",
       "\n",
       "    .dataframe thead th {\n",
       "        text-align: right;\n",
       "    }\n",
       "</style>\n",
       "<table border=\"1\" class=\"dataframe\">\n",
       "  <thead>\n",
       "    <tr style=\"text-align: right;\">\n",
       "      <th></th>\n",
       "      <th>order_id</th>\n",
       "      <th>product</th>\n",
       "      <th>quantity</th>\n",
       "      <th>price</th>\n",
       "      <th>total</th>\n",
       "      <th>full_date</th>\n",
       "      <th>hour</th>\n",
       "      <th>date</th>\n",
       "      <th>month</th>\n",
       "      <th>year</th>\n",
       "      <th>day</th>\n",
       "      <th>address</th>\n",
       "      <th>city</th>\n",
       "      <th>state</th>\n",
       "      <th>pincode</th>\n",
       "      <th>timezone</th>\n",
       "    </tr>\n",
       "  </thead>\n",
       "  <tbody>\n",
       "    <tr>\n",
       "      <th>13</th>\n",
       "      <td>236683</td>\n",
       "      <td>27in FHD Monitor</td>\n",
       "      <td>1</td>\n",
       "      <td>149.99</td>\n",
       "      <td>149.99</td>\n",
       "      <td>08/31/19</td>\n",
       "      <td>15</td>\n",
       "      <td>31</td>\n",
       "      <td>8</td>\n",
       "      <td>2019</td>\n",
       "      <td>Sat</td>\n",
       "      <td>196 West St</td>\n",
       "      <td>Dallas</td>\n",
       "      <td>TX</td>\n",
       "      <td>75001</td>\n",
       "      <td>PM</td>\n",
       "    </tr>\n",
       "  </tbody>\n",
       "</table>\n",
       "</div>"
      ],
      "text/plain": [
       "    order_id           product  quantity   price   total full_date  hour  \\\n",
       "13    236683  27in FHD Monitor         1  149.99  149.99  08/31/19    15   \n",
       "\n",
       "    date  month  year  day      address    city state  pincode timezone  \n",
       "13    31      8  2019  Sat  196 West St  Dallas    TX    75001       PM  "
      ]
     },
     "execution_count": 61,
     "metadata": {},
     "output_type": "execute_result"
    }
   ],
   "source": [
    "weekend2=data[((data[\"day\"]==\"Fri\") | (data[\"day\"]==\"Sat\") | (data[\"day\"]==\"Sun\")) & (data[\"hour\"] <18)]\n",
    "weekend2.head(1)"
   ]
  },
  {
   "cell_type": "code",
   "execution_count": 62,
   "id": "750f3739",
   "metadata": {},
   "outputs": [
    {
     "data": {
      "text/plain": [
       "(array([15, 16, 12,  7,  8, 11,  9,  2, 13, 10, 17,  1, 14,  5,  0,  6,  3,\n",
       "         4], dtype=int64),\n",
       " array(['Sat', 'Fri', 'Sun'], dtype=object))"
      ]
     },
     "execution_count": 62,
     "metadata": {},
     "output_type": "execute_result"
    }
   ],
   "source": [
    "weekend2[\"hour\"].unique() , weekend2[\"day\"].unique()"
   ]
  },
  {
   "cell_type": "code",
   "execution_count": 63,
   "id": "d11e0ce2",
   "metadata": {},
   "outputs": [
    {
     "data": {
      "text/plain": [
       "9678401.599999998"
      ]
     },
     "execution_count": 63,
     "metadata": {},
     "output_type": "execute_result"
    }
   ],
   "source": [
    "d4=weekend2[\"total\"].sum()\n",
    "d4"
   ]
  },
  {
   "cell_type": "code",
   "execution_count": 64,
   "id": "82529d35",
   "metadata": {},
   "outputs": [
    {
     "data": {
      "text/plain": [
       "Weekday Day Time      13070776.78\n",
       "Weekday Night Time     6728794.14\n",
       "Weekend Day Time       9678401.60\n",
       "Weekend Night Time     5014063.45\n",
       "dtype: float64"
      ]
     },
     "execution_count": 64,
     "metadata": {},
     "output_type": "execute_result"
    }
   ],
   "source": [
    "df=pd.Series([d2,d1,d4,d3], index=[\"Weekday Day Time\", \"Weekday Night Time\", \"Weekend Day Time\", \"Weekend Night Time\"])\n",
    "df"
   ]
  },
  {
   "cell_type": "code",
   "execution_count": 65,
   "id": "d4312ec3",
   "metadata": {},
   "outputs": [],
   "source": [
    "import matplotlib.pyplot as plt"
   ]
  },
  {
   "cell_type": "code",
   "execution_count": 66,
   "id": "a009cf01",
   "metadata": {},
   "outputs": [],
   "source": [
    "import matplotlib.pyplot as plt"
   ]
  },
  {
   "cell_type": "code",
   "execution_count": 67,
   "id": "d656871a",
   "metadata": {},
   "outputs": [
    {
     "data": {
      "image/png": "[encoded data removed]",
      "text/plain": [
       "<Figure size 432x288 with 1 Axes>"
      ]
     },
     "metadata": {},
     "output_type": "display_data"
    }
   ],
   "source": [
    "df.plot.pie(autopct=\"%0.2f\", explode=[0.02,0.02,0.02,0.02], shadow=True);"
   ]
  },
  {
   "cell_type": "code",
   "execution_count": null,
   "id": "31228990",
   "metadata": {},
   "outputs": [],
   "source": []
  }
 ],
 "metadata": {
  "kernelspec": {
   "display_name": "Python 3 (ipykernel)",
   "language": "python",
   "name": "python3"
  },
  "language_info": {
   "codemirror_mode": {
    "name": "ipython",
    "version": 3
   },
   "file_extension": ".py",
   "mimetype": "text/x-python",
   "name": "python",
   "nbconvert_exporter": "python",
   "pygments_lexer": "ipython3",
   "version": "3.9.12"
  }
 },
 "nbformat": 4,
 "nbformat_minor": 5
}
