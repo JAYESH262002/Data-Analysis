{
 "cells": [
  {
   "cell_type": "raw",
   "id": "32a50109",
   "metadata": {},
   "source": []
  },
  {
   "cell_type": "markdown",
   "id": "f2d86cad",
   "metadata": {},
   "source": [
    "<div class='alert alert-info'>Importing the required libraries</div>"
   ]
  },
  {
   "cell_type": "code",
   "execution_count": null,
   "id": "473f974b",
   "metadata": {},
   "outputs": [],
   "source": [
    "import pandas as pd\n",
    "import numpy as np"
   ]
  },
  {
   "cell_type": "markdown",
   "id": "82b5562d",
   "metadata": {},
   "source": [
    "<div class='alert alert-info'>Reading the Data</div>"
   ]
  },
  {
   "cell_type": "code",
   "execution_count": null,
   "id": "bdb97593",
   "metadata": {
    "scrolled": true
   },
   "outputs": [],
   "source": [
    "df = pd.read_csv('car-sales.csv')\n",
    "df.head()"
   ]
  },
  {
   "cell_type": "raw",
   "id": "a32e9800",
   "metadata": {},
   "source": []
  },
  {
   "cell_type": "markdown",
   "id": "213d4517",
   "metadata": {},
   "source": [
    "<div class='alert alert-info'>Statistical Figure</div>"
   ]
  },
  {
   "cell_type": "code",
   "execution_count": null,
   "id": "c76a59f9",
   "metadata": {},
   "outputs": [],
   "source": [
    "from pandas_profiling import ProfileReport"
   ]
  },
  {
   "cell_type": "code",
   "execution_count": null,
   "id": "233e909b",
   "metadata": {
    "scrolled": false
   },
   "outputs": [],
   "source": [
    "pf = ProfileReport(df)\n",
    "pf.to_widgets()"
   ]
  },
  {
   "cell_type": "raw",
   "id": "110ab65d",
   "metadata": {},
   "source": []
  },
  {
   "cell_type": "markdown",
   "id": "252be324",
   "metadata": {},
   "source": [
    "<div class='alert alert-info'>Checking if there some missing value</div>"
   ]
  },
  {
   "cell_type": "markdown",
   "id": "072a94fc",
   "metadata": {},
   "source": [
    "- Remove the missing value where Price section is missing.\n",
    "- Fill `missing` in categoricalvariable and `mean` value in numerical variable "
   ]
  },
  {
   "cell_type": "code",
   "execution_count": null,
   "id": "66a8a20d",
   "metadata": {
    "scrolled": true
   },
   "outputs": [],
   "source": [
    "df.isna().sum()"
   ]
  },
  {
   "cell_type": "raw",
   "id": "de730498",
   "metadata": {},
   "source": []
  },
  {
   "cell_type": "markdown",
   "id": "0770badc",
   "metadata": {},
   "source": [
    "- Removed the missing value where Price section is missing."
   ]
  },
  {
   "cell_type": "code",
   "execution_count": null,
   "id": "40e15b30",
   "metadata": {},
   "outputs": [],
   "source": [
    "df.dropna(subset='Price', inplace=True)\n",
    "df.isna().sum()"
   ]
  },
  {
   "cell_type": "markdown",
   "id": "e3b28fd8",
   "metadata": {},
   "source": [
    "<div class='alert alert-info'>Filling missing value with Scikit-Learn.</div>"
   ]
  },
  {
   "cell_type": "code",
   "execution_count": null,
   "id": "56c1bb85",
   "metadata": {},
   "outputs": [],
   "source": [
    "#importing the required model/estimators\n",
    "from sklearn.impute import SimpleImputer\n",
    "from sklearn.compose import ColumnTransformer\n",
    "\n",
    "#creating categorical and numerical variable list\n",
    "cv = ['Make','Colour']\n",
    "nv = ['Doors','Odometer (KM)', 'Price']\n",
    "\n",
    "#creating precess\n",
    "cp = SimpleImputer(strategy='constant', fill_value='missing')\n",
    "np = SimpleImputer(strategy='mean')\n",
    "\n",
    "processing = ColumnTransformer([('process1', cp, cv),\n",
    "                               ('process2', np, nv)],\n",
    "                               remainder='passthrough')\n",
    "\n",
    "df_filled = processing.fit_transform(df)\n",
    "df_filled"
   ]
  },
  {
   "cell_type": "raw",
   "id": "72f272fd",
   "metadata": {},
   "source": []
  },
  {
   "cell_type": "markdown",
   "id": "cb15982b",
   "metadata": {},
   "source": [
    "- Make the filled data into new DataFrame"
   ]
  },
  {
   "cell_type": "code",
   "execution_count": null,
   "id": "4a8be333",
   "metadata": {
    "scrolled": false
   },
   "outputs": [],
   "source": [
    "df = pd.DataFrame(df_filled, columns=['Make','Colour', 'Odometer (km)', 'Doors', 'Price'])\n",
    "df.head()"
   ]
  },
  {
   "cell_type": "raw",
   "id": "34ad0b6a",
   "metadata": {},
   "source": []
  },
  {
   "cell_type": "markdown",
   "id": "0d72b56f",
   "metadata": {},
   "source": [
    "- Creating Feature(X) & Labels(Y)"
   ]
  },
  {
   "cell_type": "code",
   "execution_count": null,
   "id": "3f7cfaa8",
   "metadata": {},
   "outputs": [],
   "source": [
    "x = df.drop('Price', axis=1)\n",
    "y = df.Price"
   ]
  },
  {
   "cell_type": "markdown",
   "id": "f1c81e78",
   "metadata": {},
   "source": [
    "<div class='alert alert-info'>Converting the categorical Data into Numerical data</div>"
   ]
  },
  {
   "cell_type": "markdown",
   "id": "b98302c8",
   "metadata": {},
   "source": [
    "- as machine learning algorithms run better on numerical value"
   ]
  },
  {
   "cell_type": "code",
   "execution_count": null,
   "id": "d1a12d08",
   "metadata": {},
   "outputs": [],
   "source": [
    "#importing the required model/estimators\n",
    "from sklearn.preprocessing import OneHotEncoder\n",
    "from sklearn.compose import ColumnTransformer\n",
    "\n",
    "model = OneHotEncoder()\n",
    "\n",
    "#creating categorical variable list\n",
    "cv2 = ['Make','Colour', 'Doors']\n",
    "\n",
    "processing = ColumnTransformer([('Process3', model, cv2)],\n",
    "                               remainder='passthrough')\n",
    "df2 = processing.fit_transform(x)\n",
    "df2"
   ]
  },
  {
   "cell_type": "markdown",
   "id": "6a10b7e9",
   "metadata": {},
   "source": [
    "<div class='alert alert-info'>Making Prediction</div>"
   ]
  },
  {
   "cell_type": "code",
   "execution_count": null,
   "id": "afbcaa7d",
   "metadata": {},
   "outputs": [],
   "source": [
    "#importing the required model/estimators\n",
    "from sklearn.ensemble  import RandomForestRegressor\n",
    "from sklearn.model_selection import train_test_split\n",
    "from sklearn.model_selection import cross_val_score\n",
    "\n",
    "model2 = RandomForestRegressor(n_estimators=250)\n",
    "\n",
    "#splitting the data into training and testing\n",
    "x_train, x_test, y_train, y_test = train_test_split(df2, y, test_size=0.25)"
   ]
  },
  {
   "cell_type": "code",
   "execution_count": null,
   "id": "9a1be61a",
   "metadata": {},
   "outputs": [],
   "source": [
    "model2.fit(x_train, y_train)"
   ]
  },
  {
   "cell_type": "code",
   "execution_count": null,
   "id": "81144d9b",
   "metadata": {},
   "outputs": [],
   "source": [
    "model2.score(x_test, y_test)"
   ]
  },
  {
   "cell_type": "code",
   "execution_count": null,
   "id": "291eccbd",
   "metadata": {},
   "outputs": [],
   "source": [
    "y_preds = model2.predict(x_test)\n",
    "y_preds2 = y_preds.reshape(238,1)\n",
    "y_preds2"
   ]
  },
  {
   "cell_type": "code",
   "execution_count": null,
   "id": "6153cfef",
   "metadata": {},
   "outputs": [],
   "source": []
  }
 ],
 "metadata": {
  "kernelspec": {
   "display_name": "Python 3 (ipykernel)",
   "language": "python",
   "name": "python3"
  },
  "language_info": {
   "codemirror_mode": {
    "name": "ipython",
    "version": 3
   },
   "file_extension": ".py",
   "mimetype": "text/x-python",
   "name": "python",
   "nbconvert_exporter": "python",
   "pygments_lexer": "ipython3",
   "version": "3.9.12"
  }
 },
 "nbformat": 4,
 "nbformat_minor": 5
}
